{
 "cells": [
  {
   "cell_type": "code",
   "execution_count": 1,
   "id": "c387e4e9-0612-40f8-b330-dbb9894521c2",
   "metadata": {
    "tags": []
   },
   "outputs": [],
   "source": [
    "import xarray as xr\n",
    "import os, sys\n",
    "import torch\n",
    "import numpy as np\n",
    "import matplotlib.pyplot as plt\n",
    "import matplotlib"
   ]
  },
  {
   "cell_type": "code",
   "execution_count": 2,
   "id": "b1eed416-c061-48d2-abfe-c5a28e45c50d",
   "metadata": {
    "tags": []
   },
   "outputs": [],
   "source": [
    "module_path = '/home/jupyter-ayoub'\n",
    "if module_path not in sys.path:\n",
    "    sys.path.append(module_path)\n",
    "from Transformer import StackedTransformer"
   ]
  },
  {
   "cell_type": "code",
   "execution_count": 3,
   "id": "058bb7cf-aa25-4890-a23c-d0c9eb1b1011",
   "metadata": {
    "tags": []
   },
   "outputs": [],
   "source": [
    "#w100\n",
    "test_rfcs=xr.open_dataset(\"/home/jupyter-aaron/Postprocessing/PP_EUPP/data/TEST/test_reforecast.nc\")\n",
    "obs=xr.open_dataset(\"/home/jupyter-aaron/Postprocessing/PP_EUPP/data/TEST/test_observation.nc\")"
   ]
  },
  {
   "cell_type": "code",
   "execution_count": 4,
   "id": "daac6ed5-bdfe-427a-82e2-4270aa052089",
   "metadata": {
    "tags": []
   },
   "outputs": [],
   "source": [
    "test_rfcs=test_rfcs\n",
    "obs=obs"
   ]
  },
  {
   "cell_type": "code",
   "execution_count": 5,
   "id": "6d701237-5b1b-4670-8d2a-b3b2fa2ba73e",
   "metadata": {
    "tags": []
   },
   "outputs": [],
   "source": [
    "target='w100_obs'  \n",
    "obs=obs[target]\n",
    "test_rfcs=test_rfcs.drop_vars(['sd', 'mx2t6', 'mn2t6'])\n",
    "#['sd', 'mx2t6', 'mn2t6', 'q', 'tp6', 'ssr6', 'str6', 'ssrd6', 'strd6']"
   ]
  },
  {
   "cell_type": "code",
   "execution_count": 6,
   "id": "0f1e0cea-1ab5-490e-864a-3cb9b9482afa",
   "metadata": {
    "tags": []
   },
   "outputs": [],
   "source": [
    "#add orography as a variable\n",
    "oro=xr.open_dataset(\"/home/jupyter-aaron/Postprocessing/PP_EUPP/data/oro.nc\") \n",
    "dims={'time' : test_rfcs['time'],\n",
    "       'number': test_rfcs['number'],\n",
    "       'step': test_rfcs['step']}\n",
    "xds_oro=oro.expand_dims(time=dims['time'], number=dims['number'],step=dims['step'])\n",
    "dummy_oro=xr.Dataset(coords=dims)\n",
    "final_oro=xds_oro.broadcast_like(dummy_oro)"
   ]
  },
  {
   "cell_type": "code",
   "execution_count": 7,
   "id": "c5db2bc4-d251-4324-9e52-3737ce887b56",
   "metadata": {
    "tags": []
   },
   "outputs": [],
   "source": [
    "fcs_10=xr.merge([test_rfcs,final_oro])\n",
    "dummy=xr.merge([test_rfcs,final_oro])"
   ]
  },
  {
   "cell_type": "code",
   "execution_count": 8,
   "id": "23833a89-5703-4237-a020-f95ee3f348ef",
   "metadata": {
    "tags": []
   },
   "outputs": [],
   "source": [
    "#normalizing met oro.nc\n",
    "min_max_values={\"t2m\":(235, 304), \"z\": (48200, 58000), \"t\":(240, 299), \"u10\": (-13., 11.),\"v10\": (-30,35), \"tcc\": (0., 1.0),\"sd\":(0,8),\"mx2t6\":(230,320),\"mn2t6\":(225,315),\"v\":(-50,55), \"w100\":(0,50),\"w10\":(0,30), \"u100\": (-35,45), \"u\": (-45,60),\"v100\":(-40,45), \"w700\": (0,60), \"p10fg6\": (0,60), \"oro\":(-400,2800),\"ssr6\":(0,3200000),\"ssrd6\":(-5200.0,18541902.0),\"strd6\":(2103856,9537712),\"tp6\":(-4,1),\"ssr6\":(-4220.0,15344816.0),\"str6\":(-4630656.0,1093968.0)}\n",
    "# Function to normalize using vectorized operations\n",
    "def minmax_normalize(ds, min_max_values):\n",
    "    for var in ds.data_vars:\n",
    "        if var in min_max_values:\n",
    "            min_val, max_val = min_max_values[var]\n",
    "            ds[var] = (ds[var] - min_val) / (max_val - min_val)\n",
    "    return ds\n",
    "\n",
    "def z_normalize(ds):\n",
    "    for var in ds.data_vars:\n",
    "        ds[var] = ds[var].copy()  # Ensure the variable is writable\n",
    "        \n",
    "        for t in range(len(ds[\"time\"])):  # Loop over time dimension\n",
    "            mean = ds[var].isel(time=t).mean()\n",
    "            std = ds[var].isel(time=t).std()\n",
    "            ds[var].loc[dict(time=ds[\"time\"][t])] = (ds[var].isel(time=t) - mean) / std\n",
    "\n",
    "    return ds\n",
    "\n",
    "\n",
    "\n",
    "dummy_norm=minmax_normalize(dummy,min_max_values)\n",
    "fcs_norm=dummy_norm"
   ]
  },
  {
   "cell_type": "code",
   "execution_count": 9,
   "id": "53c6799a-cf80-4f5d-a811-b46aa4f106c2",
   "metadata": {
    "tags": []
   },
   "outputs": [],
   "source": [
    "%reload_ext autoreload\n",
    "model =  StackedTransformer(num_blocks=4, n_data_shape=(20, 32, 33, 15), n_heads=8,mlp_mult=4,projection_channels=64)"
   ]
  },
  {
   "cell_type": "code",
   "execution_count": 10,
   "id": "b9063b6b-1eb6-4cc8-bba3-b7168cf0b0df",
   "metadata": {
    "tags": []
   },
   "outputs": [
    {
     "name": "stdout",
     "output_type": "stream",
     "text": [
      "Total number of parameters:  1551969\n"
     ]
    }
   ],
   "source": [
    "#this is where the last run is stored \n",
    "checkpoint_path = '/home/jupyter-ayoub/results/Transformerweights/w100/epochs50predictors15CRPSKERNELSTEPlambda0.02k3.3.pth'\n",
    "\n",
    "# Load the checkpoint\n",
    "checkpoint = torch.load(checkpoint_path, weights_only=False)\n",
    "model_state_dict = checkpoint['model']\n",
    "new_state_dict = {k.replace(\"module.\", \"\"): v for k, v in model_state_dict.items()}\n",
    "model.load_state_dict(new_state_dict)\n",
    "total_params = sum(p.numel() for p in model.parameters())\n",
    "print(\"Total number of parameters: \", total_params)"
   ]
  },
  {
   "cell_type": "code",
   "execution_count": 11,
   "id": "1b77fb57-441d-4e00-8ddc-f2f92bf8d154",
   "metadata": {
    "tags": []
   },
   "outputs": [
    {
     "name": "stdout",
     "output_type": "stream",
     "text": [
      "Frozen({'variable': 15, 'time': 209, 'number': 11, 'step': 20, 'latitude': 32, 'longitude': 33})\n",
      "(15, 209, 11, 20, 32, 33)\n",
      "torch.Size([209, 11, 20, 32, 33, 15])\n"
     ]
    }
   ],
   "source": [
    "#turn the normalized reforecasts into a tensor\n",
    "fcs_norm_whole= fcs_norm.to_array(dim='variable')\n",
    "print(fcs_norm_whole.sizes)\n",
    "#print(fcs_norm_whole)\n",
    "print(fcs_norm_whole.shape)\n",
    "rearranged_10= fcs_norm_whole.transpose('time', 'number','step', 'latitude', 'longitude', 'variable')\n",
    "fcs_whole_tensor=torch.tensor(rearranged_10.values)\n",
    "print(fcs_whole_tensor.shape) "
   ]
  },
  {
   "cell_type": "code",
   "execution_count": 12,
   "id": "3f7d118e-d64d-4d5d-8276-72bb788ec120",
   "metadata": {
    "tags": []
   },
   "outputs": [
    {
     "name": "stdout",
     "output_type": "stream",
     "text": [
      "torch.Size([209, 11, 20, 32, 33, 15])\n"
     ]
    }
   ],
   "source": [
    "#same for unnormalized data, because I need them for the rescaling \n",
    "fcs_array_10 =fcs_10.to_array(dim='variable')\n",
    "fcs_rearranged_10= fcs_array_10.transpose('time', 'number','step', 'latitude', 'longitude', 'variable')\n",
    "fcs_whole_notnorm_tensor=torch.tensor(fcs_rearranged_10.values)\n",
    "print(fcs_whole_notnorm_tensor.shape)"
   ]
  },
  {
   "cell_type": "code",
   "execution_count": 13,
   "id": "88e55b86-14be-4ede-b28d-d3356243d88d",
   "metadata": {
    "tags": []
   },
   "outputs": [],
   "source": [
    "MBM_one=np.empty((209,11,20,32,33),dtype=float)\n",
    "for i in range(20):\n",
    "    mbm1=np.load(f\"/home/jupyter-ayoub/ClassicalMBM/resultsClassicalMBM/{target}/MBM_{target}_{i}.npy\")\n",
    "    MBM_one[:,:,i,:,:]=mbm1.squeeze()"
   ]
  },
  {
   "cell_type": "code",
   "execution_count": 14,
   "id": "b07032c8-86c9-4569-84e4-b49ddb4c1c46",
   "metadata": {
    "tags": []
   },
   "outputs": [],
   "source": [
    "postpro_10_whole = torch.empty((209,11,20,32,33,1))\n",
    "\n",
    "# Apply model in chunks of 10\n",
    "with torch.no_grad():\n",
    "    for i in range(0, 209, 2):\n",
    "        # Get the end index for this chunk\n",
    "        end = min(i + 2, 209)  # Ensure we don't go out of bounds\n",
    "\n",
    "        # Apply the model to the chunk and store in the corresponding location in postpro_10_whole\n",
    "        #print(fcs_whole_tensor[i:end].shape)\n",
    "        #print(postpro_10_whole[i:end].shape)\n",
    "        postpro_10_whole[i:end] = model(fcs_whole_tensor[i:end])"
   ]
  },
  {
   "cell_type": "code",
   "execution_count": 15,
   "id": "d53acace-d519-4c41-85f9-6e9e8d026f94",
   "metadata": {
    "tags": []
   },
   "outputs": [],
   "source": [
    "# Extract ensemble forecasts\n",
    "ensemble_one = postpro_10_whole[...,0]\n",
    "\n",
    "# Compute standard deviation & mean across ensemble dimension (dim=1)\n",
    "scale_std, scale_mean = torch.std_mean(fcs_whole_notnorm_tensor[..., 8], dim=1, unbiased=True)\n",
    "\n",
    "# Function to scale and clamp ensemble data\n",
    "def scale_and_clamp(ensemble):\n",
    "    scaled = ensemble * scale_std.unsqueeze(1) + scale_mean.unsqueeze(1)\n",
    "    return torch.clamp(scaled, min=1e-6).permute(1, 0, 2, 3, 4)\n",
    "\n",
    "# Apply scaling and clamping\n",
    "scaled_ensemble_one = scale_and_clamp(ensemble_one)"
   ]
  },
  {
   "cell_type": "code",
   "execution_count": 16,
   "id": "d2a1d55a-dd2d-4a16-b188-27197625b3f3",
   "metadata": {
    "tags": []
   },
   "outputs": [],
   "source": [
    "# Define coordinates with member first\n",
    "coords_forecast = {\n",
    "    'member': test_rfcs['number'].rename({'number': 'member'}),\n",
    "    'time': obs['time'],\n",
    "    'step': obs['step'],\n",
    "    'latitude': obs['latitude'],\n",
    "    'longitude': obs['longitude'],\n",
    "}\n",
    "\n",
    "\n",
    "# Define dimensions with member first\n",
    "dims_forecast = ('member', 'time', 'step', 'latitude', 'longitude')\n",
    "\n",
    "# Convert numpy arrays to xarray DataArray with the specified order\n",
    "MBM_one=xr.DataArray(np.transpose(MBM_one,(1,0,2,3,4)), coords=coords_forecast, dims=dims_forecast)\n",
    "full_ensemble_one= xr.DataArray(scaled_ensemble_one, coords=coords_forecast, dims=dims_forecast)\n",
    "\n",
    "# Compute mean and std across the member dimension\n",
    "mean_one = full_ensemble_one.mean(dim='member')\n",
    "std_one = full_ensemble_one.std(dim='member')\n",
    "\n",
    "# Adjust raw_fcs to have 'member' first\n",
    "raw_fcs = test_rfcs.rename({'number': 'member'})\n",
    "raw_fcs = raw_fcs.transpose('member', 'time', 'step', 'latitude', 'longitude')\n",
    "raw_mean=raw_fcs.mean(dim='member')\n",
    "raw_std=raw_fcs.std(dim='member')"
   ]
  },
  {
   "cell_type": "code",
   "execution_count": 17,
   "id": "9a7e4956-b47d-4033-a027-b766b6f0bd7e",
   "metadata": {
    "tags": []
   },
   "outputs": [],
   "source": [
    "#ALL ENSEMBLES\n",
    "Tformer_one=full_ensemble_one\n",
    "MBM_one = MBM_one\n",
    "Raw = raw_fcs['w100']"
   ]
  },
  {
   "cell_type": "code",
   "execution_count": 18,
   "id": "13308391-32a0-4ae7-9fd6-d92e0a1b0771",
   "metadata": {
    "tags": []
   },
   "outputs": [],
   "source": [
    "obs = obs.squeeze()"
   ]
  },
  {
   "cell_type": "code",
   "execution_count": null,
   "id": "2a52c748-ef4d-4d22-9a9c-8ea5de0913c5",
   "metadata": {},
   "outputs": [],
   "source": [
    "import torch\n",
    "\n",
    "def wind_speed_to_power(\n",
    "    wind_speed: torch.Tensor,\n",
    "    p_rated: float = 1.0,\n",
    "    v_cut_in: float = 3.0,\n",
    "    v_rated: float = 11.0,\n",
    "    v_cut_out: float = 25.0\n",
    ") -> torch.Tensor:\n",
    "    \"\"\"\n",
    "    De paper \"Current-Day and Future Dunkelflaute Risks for Belgium\",\n",
    "    sectie 2. Data and Methods, onder c. Power Production Time Series, staat een beschrijving van het gebruikte windvermogenmodel.\n",
    "    stukgewijze benadering gebruiken op basis van de windturbinevermogenkarakteristiek.\n",
    "    \n",
    "    Zet windsnelheid (in m/s) om naar vermogen (in arbitrary units, schaalbaar met p_rated).\n",
    "    \n",
    "    Parameters:\n",
    "    - wind_speed (torch.Tensor): Windsnelheden in m/s.\n",
    "    - p_rated (float): Nominaal vermogen (default = 1.0; schaalbaar per turbine/installatie).\n",
    "    - v_cut_in (float): Cut-in windsnelheid (default = 3.0 m/s).\n",
    "    - v_rated (float): Nominale windsnelheid (default = 11.0 m/s).\n",
    "    - v_cut_out (float): Cut-out windsnelheid (default = 25.0 m/s).\n",
    "    \n",
    "    Returns:\n",
    "    - torch.Tensor: Vermogen gegenereerd door de wind (zelfde shape als input).\n",
    "    \"\"\"\n",
    "\n",
    "    # Initieer output met nullen\n",
    "    power = torch.zeros_like(wind_speed)\n",
    "\n",
    "    # 1. Binnen operationeel bereik (v_cut_in <= v < v_rated): schaal met v^3\n",
    "    mask_ramp = (wind_speed >= v_cut_in) & (wind_speed < v_rated)\n",
    "    power[mask_ramp] = p_rated * (\n",
    "        (wind_speed[mask_ramp]**3 - v_cut_in**3) /\n",
    "        (v_rated**3 - v_cut_in**3)\n",
    "    )\n",
    "\n",
    "    # 2. Boven rated maar onder cut-out: maximaal vermogen\n",
    "    mask_flat = (wind_speed >= v_rated) & (wind_speed < v_cut_out)\n",
    "    power[mask_flat] = p_rated\n",
    "\n",
    "    # 3. Buiten bereik (onder cut-in of boven cut-out): al nul, hoeft niet aangepast\n",
    "\n",
    "    return power\n"
   ]
  },
  {
   "cell_type": "code",
   "execution_count": null,
   "id": "dbe80a9a-1b12-4e78-ba8a-d079f7623ab3",
   "metadata": {
    "tags": []
   },
   "outputs": [],
   "source": [
    "Tformer_one.shape"
   ]
  },
  {
   "cell_type": "code",
   "execution_count": null,
   "id": "37378063-baf3-49be-a3c2-8f82e29eb535",
   "metadata": {
    "tags": []
   },
   "outputs": [],
   "source": [
    "obs.shape"
   ]
  },
  {
   "cell_type": "code",
   "execution_count": null,
   "id": "aedac0b9-1965-461e-bb5e-940465113e70",
   "metadata": {
    "tags": []
   },
   "outputs": [],
   "source": [
    "wind_power_output_tf = wind_speed_to_power(\n",
    "    torch.tensor(Tformer_one.values) # m/s in\n",
    ")\n",
    "wind_power_output_mbm = wind_speed_to_power(\n",
    "    torch.tensor(MBM_one.values) # m/s in\n",
    ")\n",
    "wind_power_output_raw = wind_speed_to_power(\n",
    "    torch.tensor(Raw.values)  # m/s in\n",
    ")\n",
    "wind_power_output_obs = wind_speed_to_power(\n",
    "    torch.tensor(obs.values)  # m/s in\n",
    ")"
   ]
  },
  {
   "cell_type": "code",
   "execution_count": null,
   "id": "6934af54-91b7-484a-a1a5-f1a1e9a8a2d3",
   "metadata": {
    "tags": []
   },
   "outputs": [],
   "source": [
    "print(wind_power_output_tf.shape,wind_power_output_mbm.shape,wind_power_output_raw.shape,wind_power_output_obs.shape)"
   ]
  },
  {
   "cell_type": "code",
   "execution_count": null,
   "id": "abe06e27-c9c6-4d2f-a5eb-b7413f8f2a0d",
   "metadata": {},
   "outputs": [],
   "source": [
    "##### import matplotlib.pyplot as plt\n",
    "import cartopy.crs as ccrs\n",
    "import cartopy.feature as cfeature\n",
    "import numpy as np\n",
    "from matplotlib.colors import TwoSlopeNorm\n",
    "\n",
    "lons = Tformer_one.longitude.values  # of .lon\n",
    "lats = Tformer_one.latitude.values\n",
    "\n",
    "TF_1 = wind_power_output_tf.mean(axis=0).mean(axis=(0, 1))\n",
    "OBS = wind_power_output_obs.mean(axis=(0, 1))\n",
    "\n",
    "#CRPS_OG=np.load(\"/home/jupyter-ayoub/results/CRPS/w100/Raw_fair_crps.npy\")\n",
    "# Data voorbereidenS\n",
    "diff =  OBS - TF_1\n",
    "\n",
    "# Coördinaten grid voor contourplot\n",
    "lon2d, lat2d = np.meshgrid(lons, lats)\n",
    "\n",
    "# Plotfiguur\n",
    "fig, ax = plt.subplots(figsize=(5, 4), subplot_kw={'projection': ccrs.PlateCarree()})\n",
    "ax.set_extent([2.5, 10.5, 45.75, 53.5], crs=ccrs.PlateCarree())\n",
    "\n",
    "# Geografische lagen\n",
    "ax.add_feature(cfeature.BORDERS.with_scale(\"10m\"), linewidth=0.6)\n",
    "ax.add_feature(cfeature.COASTLINE.with_scale(\"10m\"), linewidth=0.6)\n",
    "\n",
    "# Contourplot met nette levels\n",
    "levels=np.linspace(-0.075,0.075,10)\n",
    "cf = ax.contourf(lon2d, lat2d, diff, cmap='twilight_shifted_r',transform=ccrs.PlateCarree(),levels=levels)\n",
    "\n",
    "# Nette colorbar met LaTeX label\n",
    "cbar = fig.colorbar(cf, ax=ax, orientation='vertical', pad=0.02, shrink=0.9, aspect=20)\n",
    "cbar.set_label(r'differents in MW', fontsize=10)\n",
    "cbar.ax.tick_params(labelsize=9)\n",
    "\n",
    "# Gridlines\n",
    "gl = ax.gridlines(draw_labels=True, linewidth=0.3, color='gray', alpha=0.5)\n",
    "gl.top_labels = False\n",
    "gl.right_labels = False\n",
    "\n",
    "# Geen titel in het plot zelf\n",
    "ax.set_title(\"\")\n",
    "\n",
    "# Ondertitel buiten plot\n",
    "plt.suptitle('Wind power', fontsize=16,ha='center')\n",
    "plt.figtext(0.5, -0.08, r\"(a) Observed - Transformer\", fontsize=12, ha='center')\n",
    "plt.tight_layout()\n",
    "plt.savefig(\"/home/jupyter-ayoub/Pictures/w100/power_map_obs-transformer.png\", bbox_inches='tight')\n",
    "plt.show()"
   ]
  },
  {
   "cell_type": "code",
   "execution_count": null,
   "id": "9b9cdea5-968a-412d-bc65-3119c1ca64c2",
   "metadata": {
    "tags": []
   },
   "outputs": [],
   "source": [
    "##### import matplotlib.pyplot as plt\n",
    "import cartopy.crs as ccrs\n",
    "import cartopy.feature as cfeature\n",
    "import numpy as np\n",
    "from matplotlib.colors import TwoSlopeNorm\n",
    "\n",
    "lons = Tformer_one.longitude.values  # of .lon\n",
    "lats = Tformer_one.latitude.values\n",
    "\n",
    "MBM_ssr_1 = wind_power_output_mbm.mean(axis=0).mean(axis=(0, 1))\n",
    "OBS = wind_power_output_obs.mean(axis=(0, 1))\n",
    "\n",
    "#CRPS_OG=np.load(\"/home/jupyter-ayoub/results/CRPS/w100/Raw_fair_crps.npy\")\n",
    "# Data voorbereidenS\n",
    "diff =  OBS - MBM_ssr_1\n",
    "\n",
    "# Coördinaten grid voor contourplot\n",
    "lon2d, lat2d = np.meshgrid(lons, lats)\n",
    "\n",
    "# Plotfiguur\n",
    "fig, ax = plt.subplots(figsize=(5, 4), subplot_kw={'projection': ccrs.PlateCarree()})\n",
    "ax.set_extent([2.5, 10.5, 45.75, 53.5], crs=ccrs.PlateCarree())\n",
    "\n",
    "# Geografische lagen\n",
    "ax.add_feature(cfeature.BORDERS.with_scale(\"10m\"), linewidth=0.6)\n",
    "ax.add_feature(cfeature.COASTLINE.with_scale(\"10m\"), linewidth=0.6)\n",
    "\n",
    "# Contourplot met nette levels\n",
    "levels=np.linspace(-0.075,0.075,10)\n",
    "cf = ax.contourf(lon2d, lat2d, diff, cmap='twilight_shifted_r',transform=ccrs.PlateCarree(),levels=levels)\n",
    "\n",
    "# Nette colorbar met LaTeX label\n",
    "cbar = fig.colorbar(cf, ax=ax, orientation='vertical', pad=0.02, shrink=0.9, aspect=20)\n",
    "cbar.set_label(r'differents in MW', fontsize=10)\n",
    "cbar.ax.tick_params(labelsize=9)\n",
    "\n",
    "# Gridlines\n",
    "gl = ax.gridlines(draw_labels=True, linewidth=0.3, color='gray', alpha=0.5)\n",
    "gl.top_labels = False\n",
    "gl.right_labels = False\n",
    "\n",
    "# Geen titel in het plot zelf\n",
    "ax.set_title(\"\")\n",
    "\n",
    "# Ondertitel buiten plot\n",
    "plt.suptitle('Wind power', fontsize=16,ha='center')\n",
    "plt.figtext(0.5, -0.08, r\"(b) Observed - Classical MBM\", fontsize=12, ha='center')\n",
    "plt.tight_layout()\n",
    "plt.savefig(\"/home/jupyter-ayoub/Pictures/w100/power_map_obs-mbm.png\", bbox_inches='tight')\n",
    "plt.show()"
   ]
  },
  {
   "cell_type": "code",
   "execution_count": null,
   "id": "638eec03-62bb-4115-a2cc-da5efc519a0c",
   "metadata": {
    "tags": []
   },
   "outputs": [],
   "source": [
    "##### import matplotlib.pyplot as plt\n",
    "import cartopy.crs as ccrs\n",
    "import cartopy.feature as cfeature\n",
    "import numpy as np\n",
    "from matplotlib.colors import TwoSlopeNorm\n",
    "\n",
    "lons = Tformer_one.longitude.values  # of .lon\n",
    "lats = Tformer_one.latitude.values\n",
    "\n",
    "RAW_ssr_1 = wind_power_output_raw.mean(axis=0).mean(axis=(0, 1))\n",
    "OBS = wind_power_output_obs.mean(axis=(0, 1))\n",
    "\n",
    "#CRPS_OG=np.load(\"/home/jupyter-ayoub/results/CRPS/w100/Raw_fair_crps.npy\")\n",
    "# Data voorbereidenS\n",
    "diff =  OBS - RAW_ssr_1\n",
    "\n",
    "# Coördinaten grid voor contourplot\n",
    "lon2d, lat2d = np.meshgrid(lons, lats)\n",
    "\n",
    "# Plotfiguur\n",
    "fig, ax = plt.subplots(figsize=(5, 4), subplot_kw={'projection': ccrs.PlateCarree()})\n",
    "ax.set_extent([2.5, 10.5, 45.75, 53.5], crs=ccrs.PlateCarree())\n",
    "\n",
    "# Geografische lagen\n",
    "ax.add_feature(cfeature.BORDERS.with_scale(\"10m\"), linewidth=0.6)\n",
    "ax.add_feature(cfeature.COASTLINE.with_scale(\"10m\"), linewidth=0.6)\n",
    "\n",
    "# Contourplot met nette levels\n",
    "levels=np.linspace(-0.075,0.075,10)\n",
    "cf = ax.contourf(lon2d, lat2d, diff, cmap='twilight_shifted_r',transform=ccrs.PlateCarree(),levels=levels)\n",
    "\n",
    "# Nette colorbar met LaTeX label\n",
    "cbar = fig.colorbar(cf, ax=ax, orientation='vertical', pad=0.02, shrink=0.9, aspect=20)\n",
    "cbar.set_label(r'differents in MW', fontsize=10)\n",
    "cbar.ax.tick_params(labelsize=9)\n",
    "\n",
    "# Gridlines\n",
    "gl = ax.gridlines(draw_labels=True, linewidth=0.3, color='gray', alpha=0.5)\n",
    "gl.top_labels = False\n",
    "gl.right_labels = False\n",
    "\n",
    "# Geen titel in het plot zelf\n",
    "ax.set_title(\"\")\n",
    "\n",
    "# Ondertitel buiten plot\n",
    "plt.suptitle('Wind power', fontsize=16,ha='center')\n",
    "plt.figtext(0.5, -0.08, r\"(c) observed - RAW\", fontsize=12, ha='center')\n",
    "plt.tight_layout()\n",
    "plt.savefig(\"/home/jupyter-ayoub/Pictures/w100/power_map_obs-raw.png\", bbox_inches='tight')\n",
    "plt.show()"
   ]
  },
  {
   "cell_type": "code",
   "execution_count": null,
   "id": "571b1514-62af-4302-8977-bcd1ceb83dd2",
   "metadata": {},
   "outputs": [],
   "source": [
    "def compute_ensemble_mae(forecast, observed, reduce_dims=True):\n",
    "    \"\"\"\n",
    "    Bereken de MAE tussen ensemble voorspellingen en observaties.\n",
    "\n",
    "    Parameters:\n",
    "    -----------\n",
    "    forecast : np.ndarray\n",
    "        Voorspellingen met shape (member, time, step, lat, lon)\n",
    "    observed : np.ndarray\n",
    "        Observaties met shape (time, step, lat, lon)\n",
    "    reduce_dims : bool\n",
    "        Als True retourneert de functie de gemiddelde MAE (scalar),\n",
    "        anders retourneert ze de MAE per gridpunt (time, step, lat, lon)\n",
    "\n",
    "    Returns:\n",
    "    --------\n",
    "    mae : float of np.ndarray\n",
    "        De Mean Absolute Error tussen forecast en observed\n",
    "    \"\"\"\n",
    "    # Zorg dat forecast en observed numpy arrays zijn\n",
    "    forecast = np.asarray(forecast)\n",
    "    observed = np.asarray(observed)\n",
    "\n",
    "    # Neem gemiddelde over de ensembleleden (dim 0)\n",
    "    forecast_mean = forecast.mean(axis=0)  # shape = (time, step, lat, lon)\n",
    "\n",
    "    # Bereken absolute fout\n",
    "    abs_error = np.abs(forecast_mean - observed)  # shape = (time, step, lat, lon)\n",
    "\n",
    "    if reduce_dims:\n",
    "        # Neem gemiddelde over alle dimensies → scalar MAE\n",
    "        return abs_error.mean()\n",
    "    else:\n",
    "        # Retourneer MAE per gridpunt\n",
    "        return abs_error"
   ]
  },
  {
   "cell_type": "code",
   "execution_count": null,
   "id": "f69588f3-76f7-4c03-9703-fb6c4e5b696b",
   "metadata": {
    "tags": []
   },
   "outputs": [],
   "source": [
    "Raw.shape"
   ]
  },
  {
   "cell_type": "code",
   "execution_count": null,
   "id": "ccb35478-220f-476c-8a4f-581a8758e5b8",
   "metadata": {
    "tags": []
   },
   "outputs": [],
   "source": [
    "mae_tf = compute_ensemble_mae(Tformer_one, obs)\n",
    "mae_mbm = compute_ensemble_mae(MBM_one, obs)\n",
    "mae_raw = compute_ensemble_mae(Raw, obs)\n",
    "print(mae_tf,mae_mbm,mae_raw)"
   ]
  },
  {
   "cell_type": "code",
   "execution_count": null,
   "id": "0197db91-aaa5-4484-b709-fe7d08a8e1a1",
   "metadata": {
    "tags": []
   },
   "outputs": [],
   "source": [
    "mae_per_point_tf = compute_ensemble_mae(Tformer_one, obs, reduce_dims=False)\n",
    "mae_mean_tf = mae_per_point_tf.mean(axis=0).mean(axis=(1, 2))\n",
    "mae_per_point_mbm = compute_ensemble_mae(MBM_one, obs, reduce_dims=False)\n",
    "mae_mean_mbm = mae_per_point_mbm.mean(axis=0).mean(axis=(1, 2))\n",
    "mae_per_point_raw = compute_ensemble_mae(Raw, obs, reduce_dims=False)\n",
    "mae_mean_raw = mae_per_point_raw.mean(axis=0).mean(axis=(1, 2))"
   ]
  },
  {
   "cell_type": "code",
   "execution_count": null,
   "id": "88829875-4558-4a6c-97ec-fe59b2f5688b",
   "metadata": {
    "tags": []
   },
   "outputs": [],
   "source": [
    "Leadtimes=obs.step.values\n",
    "matplotlib.rcParams['text.usetex'] = False\n",
    "plt.figure(figsize=(10, 9))\n",
    "plt.plot(Leadtimes, mae_mean_tf, color='red', marker='o', label='Postprocessed, transformer')\n",
    "plt.plot(Leadtimes, mae_mean_mbm, color='blue', marker='*', label='Postprocessed, classical mbm')\n",
    "plt.plot(Leadtimes, mae_mean_raw, color='green', marker='x', label='raw forcast')\n",
    "\n",
    "plt.axhline(y=mae_tf, color='RED',linestyle=':')\n",
    "plt.axhline(y=mae_mbm, color='BLUE',linestyle=':')\n",
    "plt.axhline(y=mae_raw, color='GREEN',linestyle=':')\n",
    "\n",
    "\n",
    "# Set title and labels\n",
    "plt.title('Mean Absolute Error per lead time (Wind speed)', fontsize=22)\n",
    "plt.xlabel('Forecast lead time [hours]', fontsize=18)\n",
    "plt.ylabel('MAE [metres per second.]', fontsize=18)\n",
    "\n",
    "# Set y-axis limits and x-axis ticks\n",
    "#plt.xlim(0,123)\n",
    "#plt.ylim(0,1400000)\n",
    "# Set tick label size and show legend\n",
    "plt.tick_params(axis='both', labelsize=12)\n",
    "plt.legend(fontsize=12)\n",
    "# Ondertitel buiten plot\n",
    "# Adjust layout and show the plot\n",
    "\n",
    "plt.tight_layout()\n",
    "plt.savefig(\"/home/jupyter-ayoub/Pictures/w100/MAE_leadtime.png\", bbox_inches='tight')\n",
    "plt.show()"
   ]
  },
  {
   "cell_type": "code",
   "execution_count": 19,
   "id": "b6e13714-a548-44b3-9b60-63ad043b4c59",
   "metadata": {
    "tags": []
   },
   "outputs": [],
   "source": [
    "import numpy as np\n",
    "\n",
    "def compute_bias(forecast, observed, reduce_dims=True):\n",
    "    \"\"\"\n",
    "    Bereken bias tussen ensemble forecast en observatie.\n",
    "\n",
    "    Parameters:\n",
    "    -----------\n",
    "    forecast : np.ndarray\n",
    "        Ensemble voorspellingen van shape (member, time, step, lat, lon)\n",
    "    observed : np.ndarray\n",
    "        Observaties van shape (time, step, lat, lon)\n",
    "    reduce_dims : bool\n",
    "        Als True retourneer je gemiddelde bias per leadtime (shape = [step])\n",
    "        Als False retourneer je volledige bias-array (shape = [time, step, lat, lon])\n",
    "\n",
    "    Returns:\n",
    "    --------\n",
    "    bias : np.ndarray\n",
    "        Bias per leadtime (of volledige array als reduce_dims=False)\n",
    "    \"\"\"\n",
    "    # Neem ensemblegemiddelde: (time, step, lat, lon)\n",
    "    forecast_mean = forecast.mean(axis=0)\n",
    "\n",
    "    # Bereken bias (voorspelling - observatie)\n",
    "    bias = forecast_mean - observed\n",
    "\n",
    "    if reduce_dims:\n",
    "        # Gemiddeld over tijd, lat, lon → bias per leadtime (step)\n",
    "        return bias.mean(axis=(0, 2, 3))  # shape = (step,)\n",
    "    else:\n",
    "        return bias  # shape = (time, step, lat, lon)\n"
   ]
  },
  {
   "cell_type": "code",
   "execution_count": null,
   "id": "e07f7360-d682-4ecb-9a6c-a93fd81d57ce",
   "metadata": {
    "tags": []
   },
   "outputs": [],
   "source": [
    "import matplotlib.pyplot as plt\n",
    "\n",
    "# Bereken bias\n",
    "bias_per_leadtime = compute_bias(Tformer_one, obs)\n",
    "\n",
    "# Laad leadtimes op (bijv. uit xarray)\n",
    "Leadtimes = obs.step.values  # of np.arange(0, 120+6, 6)\n",
    "\n",
    "# Plot\n",
    "plt.figure(figsize=(10, 6))\n",
    "plt.plot(Leadtimes, bias_per_leadtime, marker='o', color='blue', label='Bias')\n",
    "plt.axhline(0, color='gray', linestyle='--')\n",
    "\n",
    "plt.title('Gemiddelde bias per leadtime (Wind speed 100m)', fontsize=16)\n",
    "plt.xlabel('Lead time [hours]', fontsize=14)\n",
    "plt.ylabel('Bias [metres per second.]', fontsize=14)\n",
    "plt.legend()\n",
    "plt.grid(True)\n",
    "plt.tight_layout()\n",
    "plt.figtext(0.5, -0.08, r\"(a) Transformer\", fontsize=18, ha='center')\n",
    "plt.savefig(\"/home/jupyter-ayoub/Pictures/w100/bias-transformer.png\",  bbox_inches='tight')\n",
    "plt.show()"
   ]
  },
  {
   "cell_type": "code",
   "execution_count": null,
   "id": "22a902a7-21ca-400c-b62f-c17d1336e427",
   "metadata": {
    "tags": []
   },
   "outputs": [],
   "source": [
    "import matplotlib.pyplot as plt\n",
    "\n",
    "# Bereken bias\n",
    "bias_per_leadtime = compute_bias(MBM_one, obs)\n",
    "\n",
    "# Laad leadtimes op (bijv. uit xarray)\n",
    "Leadtimes = obs.step.values  # of np.arange(0, 120+6, 6)\n",
    "\n",
    "# Plot\n",
    "plt.figure(figsize=(10, 6))\n",
    "plt.plot(Leadtimes, bias_per_leadtime, marker='o', color='blue', label='Bias')\n",
    "plt.axhline(0, color='gray', linestyle='--')\n",
    "\n",
    "plt.title('Gemiddelde bias per leadtime (Wind speed 100m)', fontsize=16)\n",
    "plt.xlabel('Lead time [hours]', fontsize=14)\n",
    "plt.ylabel('Bias [metres per second.]', fontsize=14)\n",
    "plt.legend()\n",
    "plt.grid(True)\n",
    "plt.tight_layout()\n",
    "plt.figtext(0.5, -0.08, r\"(b) Classical MBM \", fontsize=18, ha='center')\n",
    "plt.savefig(\"/home/jupyter-ayoub/Pictures/w100/bias-mbm.png\",  bbox_inches='tight')\n",
    "plt.show()"
   ]
  },
  {
   "cell_type": "code",
   "execution_count": null,
   "id": "1be451dc-a700-4425-b024-cee0e0e5e5ad",
   "metadata": {
    "tags": []
   },
   "outputs": [],
   "source": [
    "print(Raw.shape,obs.shape)"
   ]
  },
  {
   "cell_type": "code",
   "execution_count": null,
   "id": "683f2f89-27ff-410d-858d-3e517f23c922",
   "metadata": {
    "tags": []
   },
   "outputs": [],
   "source": [
    "forecast_mean = Raw.mean(axis=0)\n",
    "forecast_mean.shape"
   ]
  },
  {
   "cell_type": "code",
   "execution_count": null,
   "id": "c932bb67-b8db-46d3-93cb-a95372e53b39",
   "metadata": {
    "tags": []
   },
   "outputs": [],
   "source": [
    "print(forecast_mean.shape)  # zou (209, 20, 32, 33) moeten zijn\n",
    "print(obs.shape)            # controleer of dit (209, 16, 32, 33) is"
   ]
  },
  {
   "cell_type": "code",
   "execution_count": null,
   "id": "39dcc7cc-771a-444b-98a6-0019a2106b2c",
   "metadata": {
    "tags": []
   },
   "outputs": [],
   "source": [
    "bias = forecast_mean - obs\n",
    "bias.shape"
   ]
  },
  {
   "cell_type": "code",
   "execution_count": 20,
   "id": "631503e2-97b5-4a6c-a0de-921a03711e7b",
   "metadata": {
    "tags": []
   },
   "outputs": [
    {
     "ename": "ValueError",
     "evalue": "x and y must have same first dimension, but have shapes (20,) and (16,)",
     "output_type": "error",
     "traceback": [
      "\u001b[0;31m---------------------------------------------------------------------------\u001b[0m",
      "\u001b[0;31mValueError\u001b[0m                                Traceback (most recent call last)",
      "Cell \u001b[0;32mIn[20], line 11\u001b[0m\n\u001b[1;32m      9\u001b[0m \u001b[38;5;66;03m# Plot\u001b[39;00m\n\u001b[1;32m     10\u001b[0m plt\u001b[38;5;241m.\u001b[39mfigure(figsize\u001b[38;5;241m=\u001b[39m(\u001b[38;5;241m10\u001b[39m, \u001b[38;5;241m6\u001b[39m))\n\u001b[0;32m---> 11\u001b[0m \u001b[43mplt\u001b[49m\u001b[38;5;241;43m.\u001b[39;49m\u001b[43mplot\u001b[49m\u001b[43m(\u001b[49m\u001b[43mLeadtimes\u001b[49m\u001b[43m,\u001b[49m\u001b[43m \u001b[49m\u001b[43mbias_per_leadtime\u001b[49m\u001b[43m,\u001b[49m\u001b[43m \u001b[49m\u001b[43mmarker\u001b[49m\u001b[38;5;241;43m=\u001b[39;49m\u001b[38;5;124;43m'\u001b[39;49m\u001b[38;5;124;43mo\u001b[39;49m\u001b[38;5;124;43m'\u001b[39;49m\u001b[43m,\u001b[49m\u001b[43m \u001b[49m\u001b[43mcolor\u001b[49m\u001b[38;5;241;43m=\u001b[39;49m\u001b[38;5;124;43m'\u001b[39;49m\u001b[38;5;124;43mblue\u001b[39;49m\u001b[38;5;124;43m'\u001b[39;49m\u001b[43m,\u001b[49m\u001b[43m \u001b[49m\u001b[43mlabel\u001b[49m\u001b[38;5;241;43m=\u001b[39;49m\u001b[38;5;124;43m'\u001b[39;49m\u001b[38;5;124;43mBias\u001b[39;49m\u001b[38;5;124;43m'\u001b[39;49m\u001b[43m)\u001b[49m\n\u001b[1;32m     12\u001b[0m plt\u001b[38;5;241m.\u001b[39maxhline(\u001b[38;5;241m0\u001b[39m, color\u001b[38;5;241m=\u001b[39m\u001b[38;5;124m'\u001b[39m\u001b[38;5;124mgray\u001b[39m\u001b[38;5;124m'\u001b[39m, linestyle\u001b[38;5;241m=\u001b[39m\u001b[38;5;124m'\u001b[39m\u001b[38;5;124m--\u001b[39m\u001b[38;5;124m'\u001b[39m)\n\u001b[1;32m     14\u001b[0m plt\u001b[38;5;241m.\u001b[39mtitle(\u001b[38;5;124m'\u001b[39m\u001b[38;5;124mGemiddelde bias per leadtime (Wind speed 100m)\u001b[39m\u001b[38;5;124m'\u001b[39m, fontsize\u001b[38;5;241m=\u001b[39m\u001b[38;5;241m16\u001b[39m)\n",
      "File \u001b[0;32m~/.local/lib/python3.10/site-packages/matplotlib/pyplot.py:3827\u001b[0m, in \u001b[0;36mplot\u001b[0;34m(scalex, scaley, data, *args, **kwargs)\u001b[0m\n\u001b[1;32m   3819\u001b[0m \u001b[38;5;129m@_copy_docstring_and_deprecators\u001b[39m(Axes\u001b[38;5;241m.\u001b[39mplot)\n\u001b[1;32m   3820\u001b[0m \u001b[38;5;28;01mdef\u001b[39;00m \u001b[38;5;21mplot\u001b[39m(\n\u001b[1;32m   3821\u001b[0m     \u001b[38;5;241m*\u001b[39margs: \u001b[38;5;28mfloat\u001b[39m \u001b[38;5;241m|\u001b[39m ArrayLike \u001b[38;5;241m|\u001b[39m \u001b[38;5;28mstr\u001b[39m,\n\u001b[0;32m   (...)\u001b[0m\n\u001b[1;32m   3825\u001b[0m     \u001b[38;5;241m*\u001b[39m\u001b[38;5;241m*\u001b[39mkwargs,\n\u001b[1;32m   3826\u001b[0m ) \u001b[38;5;241m-\u001b[39m\u001b[38;5;241m>\u001b[39m \u001b[38;5;28mlist\u001b[39m[Line2D]:\n\u001b[0;32m-> 3827\u001b[0m     \u001b[38;5;28;01mreturn\u001b[39;00m \u001b[43mgca\u001b[49m\u001b[43m(\u001b[49m\u001b[43m)\u001b[49m\u001b[38;5;241;43m.\u001b[39;49m\u001b[43mplot\u001b[49m\u001b[43m(\u001b[49m\n\u001b[1;32m   3828\u001b[0m \u001b[43m        \u001b[49m\u001b[38;5;241;43m*\u001b[39;49m\u001b[43margs\u001b[49m\u001b[43m,\u001b[49m\n\u001b[1;32m   3829\u001b[0m \u001b[43m        \u001b[49m\u001b[43mscalex\u001b[49m\u001b[38;5;241;43m=\u001b[39;49m\u001b[43mscalex\u001b[49m\u001b[43m,\u001b[49m\n\u001b[1;32m   3830\u001b[0m \u001b[43m        \u001b[49m\u001b[43mscaley\u001b[49m\u001b[38;5;241;43m=\u001b[39;49m\u001b[43mscaley\u001b[49m\u001b[43m,\u001b[49m\n\u001b[1;32m   3831\u001b[0m \u001b[43m        \u001b[49m\u001b[38;5;241;43m*\u001b[39;49m\u001b[38;5;241;43m*\u001b[39;49m\u001b[43m(\u001b[49m\u001b[43m{\u001b[49m\u001b[38;5;124;43m\"\u001b[39;49m\u001b[38;5;124;43mdata\u001b[39;49m\u001b[38;5;124;43m\"\u001b[39;49m\u001b[43m:\u001b[49m\u001b[43m \u001b[49m\u001b[43mdata\u001b[49m\u001b[43m}\u001b[49m\u001b[43m \u001b[49m\u001b[38;5;28;43;01mif\u001b[39;49;00m\u001b[43m \u001b[49m\u001b[43mdata\u001b[49m\u001b[43m \u001b[49m\u001b[38;5;129;43;01mis\u001b[39;49;00m\u001b[43m \u001b[49m\u001b[38;5;129;43;01mnot\u001b[39;49;00m\u001b[43m \u001b[49m\u001b[38;5;28;43;01mNone\u001b[39;49;00m\u001b[43m \u001b[49m\u001b[38;5;28;43;01melse\u001b[39;49;00m\u001b[43m \u001b[49m\u001b[43m{\u001b[49m\u001b[43m}\u001b[49m\u001b[43m)\u001b[49m\u001b[43m,\u001b[49m\n\u001b[1;32m   3832\u001b[0m \u001b[43m        \u001b[49m\u001b[38;5;241;43m*\u001b[39;49m\u001b[38;5;241;43m*\u001b[39;49m\u001b[43mkwargs\u001b[49m\u001b[43m,\u001b[49m\n\u001b[1;32m   3833\u001b[0m \u001b[43m    \u001b[49m\u001b[43m)\u001b[49m\n",
      "File \u001b[0;32m~/.local/lib/python3.10/site-packages/matplotlib/axes/_axes.py:1777\u001b[0m, in \u001b[0;36mAxes.plot\u001b[0;34m(self, scalex, scaley, data, *args, **kwargs)\u001b[0m\n\u001b[1;32m   1534\u001b[0m \u001b[38;5;250m\u001b[39m\u001b[38;5;124;03m\"\"\"\u001b[39;00m\n\u001b[1;32m   1535\u001b[0m \u001b[38;5;124;03mPlot y versus x as lines and/or markers.\u001b[39;00m\n\u001b[1;32m   1536\u001b[0m \n\u001b[0;32m   (...)\u001b[0m\n\u001b[1;32m   1774\u001b[0m \u001b[38;5;124;03m(``'green'``) or hex strings (``'#008000'``).\u001b[39;00m\n\u001b[1;32m   1775\u001b[0m \u001b[38;5;124;03m\"\"\"\u001b[39;00m\n\u001b[1;32m   1776\u001b[0m kwargs \u001b[38;5;241m=\u001b[39m cbook\u001b[38;5;241m.\u001b[39mnormalize_kwargs(kwargs, mlines\u001b[38;5;241m.\u001b[39mLine2D)\n\u001b[0;32m-> 1777\u001b[0m lines \u001b[38;5;241m=\u001b[39m [\u001b[38;5;241m*\u001b[39m\u001b[38;5;28mself\u001b[39m\u001b[38;5;241m.\u001b[39m_get_lines(\u001b[38;5;28mself\u001b[39m, \u001b[38;5;241m*\u001b[39margs, data\u001b[38;5;241m=\u001b[39mdata, \u001b[38;5;241m*\u001b[39m\u001b[38;5;241m*\u001b[39mkwargs)]\n\u001b[1;32m   1778\u001b[0m \u001b[38;5;28;01mfor\u001b[39;00m line \u001b[38;5;129;01min\u001b[39;00m lines:\n\u001b[1;32m   1779\u001b[0m     \u001b[38;5;28mself\u001b[39m\u001b[38;5;241m.\u001b[39madd_line(line)\n",
      "File \u001b[0;32m~/.local/lib/python3.10/site-packages/matplotlib/axes/_base.py:297\u001b[0m, in \u001b[0;36m_process_plot_var_args.__call__\u001b[0;34m(self, axes, data, return_kwargs, *args, **kwargs)\u001b[0m\n\u001b[1;32m    295\u001b[0m     this \u001b[38;5;241m+\u001b[39m\u001b[38;5;241m=\u001b[39m args[\u001b[38;5;241m0\u001b[39m],\n\u001b[1;32m    296\u001b[0m     args \u001b[38;5;241m=\u001b[39m args[\u001b[38;5;241m1\u001b[39m:]\n\u001b[0;32m--> 297\u001b[0m \u001b[38;5;28;01myield from\u001b[39;00m \u001b[38;5;28;43mself\u001b[39;49m\u001b[38;5;241;43m.\u001b[39;49m\u001b[43m_plot_args\u001b[49m\u001b[43m(\u001b[49m\n\u001b[1;32m    298\u001b[0m \u001b[43m    \u001b[49m\u001b[43maxes\u001b[49m\u001b[43m,\u001b[49m\u001b[43m \u001b[49m\u001b[43mthis\u001b[49m\u001b[43m,\u001b[49m\u001b[43m \u001b[49m\u001b[43mkwargs\u001b[49m\u001b[43m,\u001b[49m\u001b[43m \u001b[49m\u001b[43mambiguous_fmt_datakey\u001b[49m\u001b[38;5;241;43m=\u001b[39;49m\u001b[43mambiguous_fmt_datakey\u001b[49m\u001b[43m,\u001b[49m\n\u001b[1;32m    299\u001b[0m \u001b[43m    \u001b[49m\u001b[43mreturn_kwargs\u001b[49m\u001b[38;5;241;43m=\u001b[39;49m\u001b[43mreturn_kwargs\u001b[49m\n\u001b[1;32m    300\u001b[0m \u001b[43m\u001b[49m\u001b[43m)\u001b[49m\n",
      "File \u001b[0;32m~/.local/lib/python3.10/site-packages/matplotlib/axes/_base.py:494\u001b[0m, in \u001b[0;36m_process_plot_var_args._plot_args\u001b[0;34m(self, axes, tup, kwargs, return_kwargs, ambiguous_fmt_datakey)\u001b[0m\n\u001b[1;32m    491\u001b[0m     axes\u001b[38;5;241m.\u001b[39myaxis\u001b[38;5;241m.\u001b[39mupdate_units(y)\n\u001b[1;32m    493\u001b[0m \u001b[38;5;28;01mif\u001b[39;00m x\u001b[38;5;241m.\u001b[39mshape[\u001b[38;5;241m0\u001b[39m] \u001b[38;5;241m!=\u001b[39m y\u001b[38;5;241m.\u001b[39mshape[\u001b[38;5;241m0\u001b[39m]:\n\u001b[0;32m--> 494\u001b[0m     \u001b[38;5;28;01mraise\u001b[39;00m \u001b[38;5;167;01mValueError\u001b[39;00m(\u001b[38;5;124mf\u001b[39m\u001b[38;5;124m\"\u001b[39m\u001b[38;5;124mx and y must have same first dimension, but \u001b[39m\u001b[38;5;124m\"\u001b[39m\n\u001b[1;32m    495\u001b[0m                      \u001b[38;5;124mf\u001b[39m\u001b[38;5;124m\"\u001b[39m\u001b[38;5;124mhave shapes \u001b[39m\u001b[38;5;132;01m{\u001b[39;00mx\u001b[38;5;241m.\u001b[39mshape\u001b[38;5;132;01m}\u001b[39;00m\u001b[38;5;124m and \u001b[39m\u001b[38;5;132;01m{\u001b[39;00my\u001b[38;5;241m.\u001b[39mshape\u001b[38;5;132;01m}\u001b[39;00m\u001b[38;5;124m\"\u001b[39m)\n\u001b[1;32m    496\u001b[0m \u001b[38;5;28;01mif\u001b[39;00m x\u001b[38;5;241m.\u001b[39mndim \u001b[38;5;241m>\u001b[39m \u001b[38;5;241m2\u001b[39m \u001b[38;5;129;01mor\u001b[39;00m y\u001b[38;5;241m.\u001b[39mndim \u001b[38;5;241m>\u001b[39m \u001b[38;5;241m2\u001b[39m:\n\u001b[1;32m    497\u001b[0m     \u001b[38;5;28;01mraise\u001b[39;00m \u001b[38;5;167;01mValueError\u001b[39;00m(\u001b[38;5;124mf\u001b[39m\u001b[38;5;124m\"\u001b[39m\u001b[38;5;124mx and y can be no greater than 2D, but have \u001b[39m\u001b[38;5;124m\"\u001b[39m\n\u001b[1;32m    498\u001b[0m                      \u001b[38;5;124mf\u001b[39m\u001b[38;5;124m\"\u001b[39m\u001b[38;5;124mshapes \u001b[39m\u001b[38;5;132;01m{\u001b[39;00mx\u001b[38;5;241m.\u001b[39mshape\u001b[38;5;132;01m}\u001b[39;00m\u001b[38;5;124m and \u001b[39m\u001b[38;5;132;01m{\u001b[39;00my\u001b[38;5;241m.\u001b[39mshape\u001b[38;5;132;01m}\u001b[39;00m\u001b[38;5;124m\"\u001b[39m)\n",
      "\u001b[0;31mValueError\u001b[0m: x and y must have same first dimension, but have shapes (20,) and (16,)"
     ]
    },
    {
     "data": {
      "image/png": "[encoded data removed]",
      "text/plain": [
       "<Figure size 1000x600 with 1 Axes>"
      ]
     },
     "metadata": {},
     "output_type": "display_data"
    }
   ],
   "source": [
    "import matplotlib.pyplot as plt\n",
    "\n",
    "# Bereken bias\n",
    "bias_per_leadtime = compute_bias(Raw, obs)\n",
    "\n",
    "# Laad leadtimes op (bijv. uit xarray)\n",
    "Leadtimes = obs.step.values  # of np.arange(0, 120+6, 6)\n",
    "\n",
    "# Plot\n",
    "plt.figure(figsize=(10, 6))\n",
    "plt.plot(Leadtimes, bias_per_leadtime, marker='o', color='blue', label='Bias')\n",
    "plt.axhline(0, color='gray', linestyle='--')\n",
    "\n",
    "plt.title('Gemiddelde bias per leadtime (Wind speed 100m)', fontsize=16)\n",
    "plt.xlabel('Lead time [hours]', fontsize=14)\n",
    "plt.ylabel('Bias [metres per second.]', fontsize=14)\n",
    "plt.legend()\n",
    "plt.grid(True)\n",
    "plt.tight_layout()\n",
    "plt.figtext(0.5, -0.08, r\"(C) RAW \", fontsize=18, ha='center')\n",
    "plt.savefig(\"/home/jupyter-ayoub/Pictures/w100/bias-raw.png\",  bbox_inches='tight')\n",
    "plt.show()"
   ]
  },
  {
   "cell_type": "code",
   "execution_count": null,
   "id": "b01c6d1a-1f3c-4325-9b1b-1ace5af4e230",
   "metadata": {},
   "outputs": [],
   "source": []
  }
 ],
 "metadata": {
  "kernelspec": {
   "display_name": "Python 3 (ipykernel)",
   "language": "python",
   "name": "python3"
  },
  "language_info": {
   "codemirror_mode": {
    "name": "ipython",
    "version": 3
   },
   "file_extension": ".py",
   "mimetype": "text/x-python",
   "name": "python",
   "nbconvert_exporter": "python",
   "pygments_lexer": "ipython3",
   "version": "3.10.10"
  }
 },
 "nbformat": 4,
 "nbformat_minor": 5
}
