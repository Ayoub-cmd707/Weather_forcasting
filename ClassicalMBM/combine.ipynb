{
 "cells": [
  {
   "cell_type": "code",
   "execution_count": 1,
   "id": "351b8990-80ab-4885-8b81-34c444d9c46a",
   "metadata": {
    "tags": []
   },
   "outputs": [
    {
     "name": "stdout",
     "output_type": "stream",
     "text": [
      "Samengevoegd bestand opgeslagen als: /home/jupyter-ayoub/ClassicalMBM/resultsClassicalMBM/w100_obs/MBM_w100_obs_one.npy\n",
      "Shape van gecombineerde array: (20, 209, 11, 1, 1, 32, 33)\n"
     ]
    }
   ],
   "source": [
    "import numpy as np\n",
    "import os\n",
    "import glob\n",
    "\n",
    "# Gebruik jouw specifieke pad\n",
    "data_dir = \"/home/jupyter-ayoub/ClassicalMBM/resultsClassicalMBM/w100_obs\"\n",
    "\n",
    "# Zoek alle .npy bestanden die beginnen met MBM_w100_obs_*\n",
    "file_pattern = os.path.join(data_dir, \"MBM_w100_obs_*.npy\")\n",
    "filenames = sorted(glob.glob(file_pattern))\n",
    "\n",
    "# Laad alle arrays\n",
    "arrays = [np.load(f) for f in filenames]\n",
    "\n",
    "# Combineer langs de eerste dimensie\n",
    "combined_array = np.concatenate(arrays, axis=0)\n",
    "\n",
    "# Opslaan als nieuw bestand\n",
    "output_file = os.path.join(data_dir, \"MBM_w100_obs_one.npy\")\n",
    "np.save(output_file, combined_array)\n",
    "\n",
    "print(\"Samengevoegd bestand opgeslagen als:\", output_file)\n",
    "print(\"Shape van gecombineerde array:\", combined_array.shape)\n"
   ]
  },
  {
   "cell_type": "code",
   "execution_count": null,
   "id": "108fc163-5e98-481f-b4d2-fdd97604d2d0",
   "metadata": {},
   "outputs": [],
   "source": []
  }
 ],
 "metadata": {
  "kernelspec": {
   "display_name": "Python 3 (ipykernel)",
   "language": "python",
   "name": "python3"
  },
  "language_info": {
   "codemirror_mode": {
    "name": "ipython",
    "version": 3
   },
   "file_extension": ".py",
   "mimetype": "text/x-python",
   "name": "python",
   "nbconvert_exporter": "python",
   "pygments_lexer": "ipython3",
   "version": "3.10.10"
  }
 },
 "nbformat": 4,
 "nbformat_minor": 5
}
