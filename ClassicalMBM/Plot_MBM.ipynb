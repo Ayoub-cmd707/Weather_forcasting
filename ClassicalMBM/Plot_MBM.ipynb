{
 "cells": [
  {
   "cell_type": "code",
   "execution_count": null,
   "id": "21e7ae22-3101-43c7-8f16-9f4b10be5e0e",
   "metadata": {
    "tags": []
   },
   "outputs": [],
   "source": [
    "import numpy as np\n",
    "import matplotlib.pyplot as plt\n",
    "\n",
    "forecast_ssrd6 = np.load('./resultsClassicalMBM/forecast_ssrd6_lt0.npy')\n",
    "mbm_prediction_ssrd6 = np.load('./resultsClassicalMBM/mbm_prediction_ssrd6_lt0.npy')\n",
    "observation_ssrd6 = np.load('./resultsClassicalMBM/observation_ssrd6_lt0.npy')\n",
    "\n",
    "\n",
    "# Plot voor een bepaalde tijdstap\n",
    "t = 0\n",
    "\n",
    "vmin = min(forecast_ssrd6[t].min(), mbm_prediction_ssrd6[t].min(), observation_ssrd6[t].min())\n",
    "vmax = max(forecast_ssrd6[t].max(), mbm_prediction_ssrd6[t].max(), observation_ssrd6[t].max())\n",
    "\n",
    "fig, axs = plt.subplots(1, 3, figsize=(18, 5))\n",
    "\n",
    "im0 = axs[0].imshow(forecast_ssrd6[t], cmap='viridis', vmin=vmin, vmax=vmax)\n",
    "axs[0].set_title(\"Originele forecast (ssrd6)\")\n",
    "fig.colorbar(im0, ax=axs[0])\n",
    "\n",
    "im1 = axs[1].imshow(mbm_prediction_ssrd6[t], cmap='viridis', vmin=vmin, vmax=vmax)\n",
    "axs[1].set_title(\"MBM correctie (ssrd6)\")\n",
    "fig.colorbar(im1, ax=axs[1])\n",
    "\n",
    "im2 = axs[2].imshow(observation_ssrd6[t], cmap='viridis', vmin=vmin, vmax=vmax)\n",
    "axs[2].set_title(\"Waarneming (ssrd6_obs)\")\n",
    "fig.colorbar(im2, ax=axs[2])\n",
    "\n",
    "plt.suptitle(f\"Vergelijking SSRD6 op tijdstap {t}\")\n",
    "plt.tight_layout()\n",
    "plt.show()\n"
   ]
  },
  {
   "cell_type": "code",
   "execution_count": null,
   "id": "ad6ace34-8f81-46b2-8202-4ca4ecc05761",
   "metadata": {
    "tags": []
   },
   "outputs": [],
   "source": [
    "import numpy as np\n",
    "import matplotlib.pyplot as plt\n",
    "\n",
    "# Laad de data\n",
    "forecast_ssrd6 = np.load('./resultsClassicalMBM/forecast_ssrd6_lt0.npy')\n",
    "mbm_prediction_ssrd6 = np.load('./resultsClassicalMBM/mbm_prediction_ssrd6_lt0.npy')\n",
    "observation_ssrd6 = np.load('./resultsClassicalMBM/observation_ssrd6_lt0.npy')\n",
    "\n",
    "# Kies een gridpunt (bijv. centraal in het domein)\n",
    "lat_idx = 16  # midden van 32\n",
    "lon_idx = 16  # midden van 33\n",
    "\n",
    "# Extract time series op dat punt\n",
    "ts_forecast = forecast_ssrd6[:, lat_idx, lon_idx]\n",
    "ts_mbm = mbm_prediction_ssrd6[:, lat_idx, lon_idx]\n",
    "ts_obs = observation_ssrd6[:, lat_idx, lon_idx]\n",
    "\n",
    "# Plot\n",
    "plt.figure(figsize=(12, 6))\n",
    "plt.plot(ts_forecast, label='Originele forecast', linestyle='--')\n",
    "plt.plot(ts_mbm, label='MBM correctie', linestyle='-')\n",
    "plt.plot(ts_obs, label='Waarneming (ERA5)', linestyle=':')\n",
    "plt.xlabel(\"Tijdstap (dagen of runs)\")\n",
    "plt.ylabel(\"SSRD6 (W/m²)\")\n",
    "plt.title(\"Tijdserie van SSRD6 op gridpunt (lat=16, lon=16)\")\n",
    "plt.legend()\n",
    "plt.grid(True)\n",
    "plt.tight_layout()\n",
    "plt.show()\n"
   ]
  },
  {
   "cell_type": "code",
   "execution_count": null,
   "id": "15692ed1-16e2-46cd-b527-055bfeb5655d",
   "metadata": {},
   "outputs": [],
   "source": []
  }
 ],
 "metadata": {
  "kernelspec": {
   "display_name": "Python 3 (ipykernel)",
   "language": "python",
   "name": "python3"
  },
  "language_info": {
   "codemirror_mode": {
    "name": "ipython",
    "version": 3
   },
   "file_extension": ".py",
   "mimetype": "text/x-python",
   "name": "python",
   "nbconvert_exporter": "python",
   "pygments_lexer": "ipython3",
   "version": "3.10.10"
  }
 },
 "nbformat": 4,
 "nbformat_minor": 5
}
