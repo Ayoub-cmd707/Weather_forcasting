{
 "cells": [
  {
   "cell_type": "code",
   "execution_count": null,
   "id": "c387e4e9-0612-40f8-b330-dbb9894521c2",
   "metadata": {
    "tags": []
   },
   "outputs": [],
   "source": [
    "import xarray as xr\n",
    "import os, sys\n",
    "import torch\n",
    "import numpy as np\n",
    "import matplotlib.pyplot as plt\n",
    "import matplotlib"
   ]
  },
  {
   "cell_type": "code",
   "execution_count": null,
   "id": "b1eed416-c061-48d2-abfe-c5a28e45c50d",
   "metadata": {
    "tags": []
   },
   "outputs": [],
   "source": [
    "module_path = '/home/jupyter-ayoub'\n",
    "if module_path not in sys.path:\n",
    "    sys.path.append(module_path)\n",
    "from Transformer import StackedTransformer"
   ]
  },
  {
   "cell_type": "code",
   "execution_count": null,
   "id": "058bb7cf-aa25-4890-a23c-d0c9eb1b1011",
   "metadata": {
    "tags": []
   },
   "outputs": [],
   "source": [
    "#ssrd6\n",
    "test_rfcs=xr.open_dataset(\"/home/jupyter-ayoub/data/test/test_reforecast.nc\")\n",
    "obs=xr.open_dataset(\"/home/jupyter-ayoub/data/test/test_observation.nc\")"
   ]
  },
  {
   "cell_type": "code",
   "execution_count": null,
   "id": "daac6ed5-bdfe-427a-82e2-4270aa052089",
   "metadata": {
    "tags": []
   },
   "outputs": [],
   "source": [
    "test_rfcs=test_rfcs\n",
    "obs=obs"
   ]
  },
  {
   "cell_type": "code",
   "execution_count": null,
   "id": "6d701237-5b1b-4670-8d2a-b3b2fa2ba73e",
   "metadata": {
    "tags": []
   },
   "outputs": [],
   "source": [
    "target='ssrd6_obs'  \n",
    "obs=obs[target]\n",
    "test_rfcs=test_rfcs.drop_vars(['sd', 'mx2t6', 'mn2t6', 'q', 'ssr6', 'str6'])\n",
    "#test_rfcs=test_rfcs.drop_vars(['t2m', 'z', 't', 'u10', 'v10', 'tcc', 'sd', 'mx2t6', 'mn2t6', 'w10', 'u100', 'w100', 'u', 'w700', 'p10fg6', 'v100', 'v', 'q', 'tp6', 'ssr6', 'str6', 'strd6'])\n",
    "#test_rfcs=test_rfcs.drop_vars(['u10', 'v10', 'sd', 'mx2t6', 'mn2t6', 'w10', 'u100', 'w100', 'u', 'w700', 'p10fg6', 'v100', 'v', 'q', 'ssr6', 'str6']) #8\n",
    "#[ 'sd', 'mx2t6', 'mn2t6', 'q', 'ssr6', 'str6']\n",
    "#['sd', 'mx2t6', 'mn2t6', 'q', 'tp6', 'ssr6', 'str6', 'ssrd6', 'strd6']"
   ]
  },
  {
   "cell_type": "code",
   "execution_count": null,
   "id": "c3e35771-6d38-4eea-b3b7-94445db03209",
   "metadata": {
    "tags": []
   },
   "outputs": [],
   "source": [
    "print(obs.shape)"
   ]
  },
  {
   "cell_type": "code",
   "execution_count": null,
   "id": "0f1e0cea-1ab5-490e-864a-3cb9b9482afa",
   "metadata": {
    "tags": []
   },
   "outputs": [],
   "source": [
    "#add orography as a variable\n",
    "oro=xr.open_dataset(\"/home/jupyter-aaron/Postprocessing/PP_EUPP/data/oro.nc\") \n",
    "dims={'time' : test_rfcs['time'],\n",
    "       'number': test_rfcs['number'],\n",
    "       'step': test_rfcs['step']}\n",
    "xds_oro=oro.expand_dims(time=dims['time'], number=dims['number'],step=dims['step'])\n",
    "dummy_oro=xr.Dataset(coords=dims)\n",
    "final_oro=xds_oro.broadcast_like(dummy_oro)"
   ]
  },
  {
   "cell_type": "code",
   "execution_count": null,
   "id": "c5db2bc4-d251-4324-9e52-3737ce887b56",
   "metadata": {
    "tags": []
   },
   "outputs": [],
   "source": [
    "fcs_10=xr.merge([test_rfcs,final_oro])\n",
    "dummy=xr.merge([test_rfcs,final_oro])"
   ]
  },
  {
   "cell_type": "code",
   "execution_count": null,
   "id": "23833a89-5703-4237-a020-f95ee3f348ef",
   "metadata": {
    "tags": []
   },
   "outputs": [],
   "source": [
    "#normalizing met oro.nc\n",
    "min_max_values={\"t2m\":(235, 304), \"z\": (48200, 58000), \"t\":(240, 299), \"u10\": (-13., 11.),\"v10\": (-30,35), \"tcc\": (0., 1.0),\"sd\":(0,8),\"mx2t6\":(230,320),\"mn2t6\":(225,315),\"v\":(-50,55), \"w100\":(0,50),\"w10\":(0,30), \"u100\": (-35,45), \"u\": (-45,60),\"v100\":(-40,45), \"w700\": (0,60), \"p10fg6\": (0,60), \"oro\":(-400,2800),\"ssr6\":(0,3200000),\"ssrd6\":(-5200.0,18541902.0),\"strd6\":(2103856,9537712),\"tp6\":(-4,1),\"ssr6\":(-4220.0,15344816.0),\"str6\":(-4630656.0,1093968.0)}\n",
    "# Function to normalize using vectorized operations\n",
    "def minmax_normalize(ds, min_max_values):\n",
    "    for var in ds.data_vars:\n",
    "        if var in min_max_values:\n",
    "            min_val, max_val = min_max_values[var]\n",
    "            ds[var] = (ds[var] - min_val) / (max_val - min_val)\n",
    "    return ds\n",
    "\n",
    "def z_normalize(ds):\n",
    "    for var in ds.data_vars:\n",
    "        ds[var] = ds[var].copy()  # Ensure the variable is writable\n",
    "        \n",
    "        for t in range(len(ds[\"time\"])):  # Loop over time dimension\n",
    "            mean = ds[var].isel(time=t).mean()\n",
    "            std = ds[var].isel(time=t).std()\n",
    "            ds[var].loc[dict(time=ds[\"time\"][t])] = (ds[var].isel(time=t) - mean) / std\n",
    "\n",
    "    return ds\n",
    "\n",
    "\n",
    "\n",
    "dummy_norm=minmax_normalize(dummy,min_max_values)\n",
    "fcs_norm=dummy_norm"
   ]
  },
  {
   "cell_type": "code",
   "execution_count": null,
   "id": "53c6799a-cf80-4f5d-a811-b46aa4f106c2",
   "metadata": {
    "tags": []
   },
   "outputs": [],
   "source": [
    "%reload_ext autoreload\n",
    "model =  StackedTransformer(num_blocks=4, n_data_shape=(20, 32, 33, 18), n_heads=8,mlp_mult=4,projection_channels=64)"
   ]
  },
  {
   "cell_type": "code",
   "execution_count": null,
   "id": "b9063b6b-1eb6-4cc8-bba3-b7168cf0b0df",
   "metadata": {
    "tags": []
   },
   "outputs": [],
   "source": [
    "#this is where the last run is stored \n",
    "checkpoint_path = '/home/jupyter-ayoub/results/Transformerweights/ssrd6/Beste_result/epochs50predictors18CRPSKERNELSTEPlambda0.02k3.3.pth'\n",
    "\n",
    "# Load the checkpoint\n",
    "checkpoint = torch.load(checkpoint_path, weights_only=False)\n",
    "model_state_dict = checkpoint['model']\n",
    "new_state_dict = {k.replace(\"module.\", \"\"): v for k, v in model_state_dict.items()}\n",
    "model.load_state_dict(new_state_dict)\n",
    "total_params = sum(p.numel() for p in model.parameters())\n",
    "print(\"Total number of parameters: \", total_params)"
   ]
  },
  {
   "cell_type": "code",
   "execution_count": null,
   "id": "1b77fb57-441d-4e00-8ddc-f2f92bf8d154",
   "metadata": {
    "tags": []
   },
   "outputs": [],
   "source": [
    "#turn the normalized reforecasts into a tensor\n",
    "fcs_norm_whole= fcs_norm.to_array(dim='variable')\n",
    "print(fcs_norm_whole.sizes)\n",
    "#print(fcs_norm_whole)\n",
    "print(fcs_norm_whole.shape)\n",
    "rearranged_10= fcs_norm_whole.transpose('time', 'number','step', 'latitude', 'longitude', 'variable')\n",
    "fcs_whole_tensor=torch.tensor(rearranged_10.values)\n",
    "print(fcs_whole_tensor.shape) "
   ]
  },
  {
   "cell_type": "code",
   "execution_count": null,
   "id": "3f7d118e-d64d-4d5d-8276-72bb788ec120",
   "metadata": {
    "tags": []
   },
   "outputs": [],
   "source": [
    "#same for unnormalized data, because I need them for the rescaling \n",
    "fcs_array_10 =fcs_10.to_array(dim='variable')\n",
    "fcs_rearranged_10= fcs_array_10.transpose('time', 'number','step', 'latitude', 'longitude', 'variable')\n",
    "fcs_whole_notnorm_tensor=torch.tensor(fcs_rearranged_10.values)\n",
    "print(fcs_whole_notnorm_tensor.shape)"
   ]
  },
  {
   "cell_type": "code",
   "execution_count": null,
   "id": "88e55b86-14be-4ede-b28d-d3356243d88d",
   "metadata": {
    "tags": []
   },
   "outputs": [],
   "source": [
    "MBM_one=np.empty((209,11,20,32,33),dtype=float)\n",
    "for i in range(20):\n",
    "    mbm1=np.load(f\"/home/jupyter-ayoub/ClassicalMBM/resultsClassicalMBM/{target}/MBM_{target}_{i}.npy\")\n",
    "    MBM_one[:,:,i,:,:]=mbm1.squeeze()"
   ]
  },
  {
   "cell_type": "code",
   "execution_count": null,
   "id": "b07032c8-86c9-4569-84e4-b49ddb4c1c46",
   "metadata": {
    "tags": []
   },
   "outputs": [],
   "source": [
    "postpro_10_whole = torch.empty((209,11,20,32,33,1))\n",
    "\n",
    "# Apply model in chunks of 10\n",
    "with torch.no_grad():\n",
    "    for i in range(0, 209, 2):\n",
    "        # Get the end index for this chunk\n",
    "        end = min(i + 2, 209)  # Ensure we don't go out of bounds\n",
    "\n",
    "        # Apply the model to the chunk and store in the corresponding location in postpro_10_whole\n",
    "        #print(fcs_whole_tensor[i:end].shape)\n",
    "        #print(postpro_10_whole[i:end].shape)\n",
    "        postpro_10_whole[i:end] = model(fcs_whole_tensor[i:end])"
   ]
  },
  {
   "cell_type": "code",
   "execution_count": null,
   "id": "d53acace-d519-4c41-85f9-6e9e8d026f94",
   "metadata": {
    "tags": []
   },
   "outputs": [],
   "source": [
    "# Extract ensemble forecasts\n",
    "ensemble_one = postpro_10_whole[...,0]\n",
    "\n",
    "# Compute standard deviation & mean across ensemble dimension (dim=1)\n",
    "scale_std, scale_mean = torch.std_mean(fcs_whole_notnorm_tensor[..., 15], dim=1, unbiased=True)\n",
    "\n",
    "# Function to scale and clamp ensemble data\n",
    "def scale_and_clamp(ensemble):\n",
    "    scaled = ensemble * scale_std.unsqueeze(1) + scale_mean.unsqueeze(1)\n",
    "    return torch.clamp(scaled, min=1e-6).permute(1, 0, 2, 3, 4)\n",
    "\n",
    "# Apply scaling and clamping\n",
    "scaled_ensemble_one = scale_and_clamp(ensemble_one)"
   ]
  },
  {
   "cell_type": "code",
   "execution_count": null,
   "id": "d2a1d55a-dd2d-4a16-b188-27197625b3f3",
   "metadata": {
    "tags": []
   },
   "outputs": [],
   "source": [
    "# Define coordinates with member first\n",
    "coords_forecast = {\n",
    "    'member': test_rfcs['number'].rename({'number': 'member'}),\n",
    "    'time': obs['time'],\n",
    "    'step': obs['step'],\n",
    "    'latitude': obs['latitude'],\n",
    "    'longitude': obs['longitude'],\n",
    "}\n",
    "\n",
    "\n",
    "# Define dimensions with member first\n",
    "dims_forecast = ('member', 'time', 'step', 'latitude', 'longitude')\n",
    "\n",
    "# Convert numpy arrays to xarray DataArray with the specified order\n",
    "MBM_one=xr.DataArray(np.transpose(MBM_one,(1,0,2,3,4)), coords=coords_forecast, dims=dims_forecast)\n",
    "full_ensemble_one= xr.DataArray(scaled_ensemble_one, coords=coords_forecast, dims=dims_forecast)\n",
    "\n",
    "# Compute mean and std across the member dimension\n",
    "mean_one = full_ensemble_one.mean(dim='member')\n",
    "std_one = full_ensemble_one.std(dim='member')\n",
    "\n",
    "# Adjust raw_fcs to have 'member' first\n",
    "raw_fcs = test_rfcs.rename({'number': 'member'})\n",
    "raw_fcs = raw_fcs.transpose('member', 'time', 'step', 'latitude', 'longitude')\n",
    "raw_mean=raw_fcs.mean(dim='member')\n",
    "raw_std=raw_fcs.std(dim='member')"
   ]
  },
  {
   "cell_type": "code",
   "execution_count": null,
   "id": "9a7e4956-b47d-4033-a027-b766b6f0bd7e",
   "metadata": {
    "tags": []
   },
   "outputs": [],
   "source": [
    "#ALL ENSEMBLES\n",
    "Tformer_one=full_ensemble_one\n",
    "MBM_one = MBM_one\n",
    "Raw = raw_fcs['ssrd6']\n",
    "obs=obs.squeeze()"
   ]
  },
  {
   "cell_type": "code",
   "execution_count": null,
   "id": "ffcaf233-fd23-44a4-96d8-d23ac717c301",
   "metadata": {
    "tags": []
   },
   "outputs": [],
   "source": [
    "print(obs.shape)"
   ]
  },
  {
   "cell_type": "code",
   "execution_count": null,
   "id": "883269ab-dbb3-4d78-889d-76d2f4da1784",
   "metadata": {
    "tags": []
   },
   "outputs": [],
   "source": [
    "# Opslaan\n",
    "np.save(\"/home/jupyter-ayoub/results/energie/ssrd6/Tformer_one.npy\", Tformer_one)\n",
    "np.save(\"/home/jupyter-ayoub/results/energie/ssrd6/MBM_one.npy\", MBM_one)\n",
    "np.save(\"/home/jupyter-ayoub/results/energie/ssrd6/Raw_ssrd6.npy\", Raw)\n",
    "np.save(\"/home/jupyter-ayoub/results/energie/ssrd6/obs.npy\", obs)"
   ]
  },
  {
   "cell_type": "code",
   "execution_count": null,
   "id": "dd59377f-4afe-409b-83e7-5a889f2dfdcf",
   "metadata": {},
   "outputs": [],
   "source": [
    "Tformer_one = np.load(\"/home/jupyter-ayoub/results/energie/ssrd6/Tformer_one.npy\")\n",
    "MBM_one = np.load(\"/home/jupyter-ayoub/results/energie/ssrd6/MBM_one.npy\")\n",
    "Raw = np.load(\"/home/jupyter-ayoub/results/energie/ssrd6/Raw_ssrd6.npy\")\n",
    "sv_obs = np.load(\"/home/jupyter-ayoub/results/energie/ssrd6/obs.npy\")"
   ]
  },
  {
   "cell_type": "code",
   "execution_count": null,
   "id": "2a52c748-ef4d-4d22-9a9c-8ea5de0913c5",
   "metadata": {},
   "outputs": [],
   "source": [
    "import torch\n",
    "\n",
    "def solar_irradiance_to_power(ghi_tensor: torch.Tensor, eta_pv: float = 0.18, area_pv: float = 1.0) -> torch.Tensor:\n",
    "    \"\"\"\n",
    "    De paper \"Current-Day and Future Dunkelflaute Risks for Belgium\", in Section 2 \n",
    "    \"Solar power is computed from GHI data by assuming a fixed conversion efficiency of 18% for the installed PV capacity. \n",
    "    The efficiency is applied directly to the GHI to estimate solar power generation.\"\n",
    "    \n",
    "    \n",
    "    Zet globale horizontale instraling (GHI) om naar opgewekt vermogen van een PV-systeem.\n",
    "    \n",
    "    Parameters:\n",
    "    - ghi_tensor (torch.Tensor): Tensor met GHI-waarden in W/m².\n",
    "    - eta_pv (float): Rendement van het PV-systeem (standaard 0.18 voor 18%).\n",
    "    - area_pv (float): Oppervlakte van het PV-systeem in m² (standaard 1.0 m²).\n",
    "    \n",
    "    Returns:\n",
    "    - torch.Tensor: Tensor met opgewekt vermogen in Watt.\n",
    "    \"\"\"\n",
    "    return eta_pv * area_pv * ghi_tensor\n"
   ]
  },
  {
   "cell_type": "code",
   "execution_count": null,
   "id": "aedac0b9-1965-461e-bb5e-940465113e70",
   "metadata": {
    "tags": []
   },
   "outputs": [],
   "source": [
    "solar_power_output_tf = solar_irradiance_to_power(\n",
    "    Tformer_one /21600 # convert from J/m² to W/m²\n",
    ")\n",
    "solar_power_output_mbm = solar_irradiance_to_power(\n",
    "    MBM_one /21600 # convert from J/m² to W/m²\n",
    ")\n",
    "solar_power_output_raw = solar_irradiance_to_power(\n",
    "    Raw /21600 # convert from J/m² to W/m²\n",
    ")\n",
    "solar_power_output_obs = solar_irradiance_to_power(\n",
    "    sv_obs /21600 # convert from J/m² to W/m²\n",
    ")"
   ]
  },
  {
   "cell_type": "code",
   "execution_count": null,
   "id": "822e4a3e-0975-40e8-9291-4de411044f38",
   "metadata": {
    "tags": []
   },
   "outputs": [],
   "source": [
    "print(solar_power_output_obs.shape)"
   ]
  },
  {
   "cell_type": "code",
   "execution_count": null,
   "id": "6934af54-91b7-484a-a1a5-f1a1e9a8a2d3",
   "metadata": {
    "tags": []
   },
   "outputs": [],
   "source": [
    "print(solar_power_output_tf.shape,solar_power_output_mbm.shape,solar_power_output_raw.shape)"
   ]
  },
  {
   "cell_type": "code",
   "execution_count": null,
   "id": "8702c0ff-9378-45f7-b3be-85ba66ca0439",
   "metadata": {
    "tags": []
   },
   "outputs": [],
   "source": [
    "solar_energy_kWh = solar_power_output * 6 / 1000  # W × h → Wh → kWh"
   ]
  },
  {
   "cell_type": "code",
   "execution_count": null,
   "id": "fb5f7d1b-f475-403d-a7be-68b6c332562e",
   "metadata": {
    "tags": []
   },
   "outputs": [],
   "source": [
    "# Som over alle gridpoints en ensembleleden → totaal vermogen per tijd\n",
    "total_power_per_time = solar_power_output.sum(axis=(0, 2, 3))  # shape: (time,)"
   ]
  },
  {
   "cell_type": "code",
   "execution_count": null,
   "id": "899048ac-bfa4-47de-97a9-0a3986e9d5c9",
   "metadata": {
    "tags": []
   },
   "outputs": [],
   "source": [
    "mean_power_per_time = solar_power_output.mean(axis=0).sum(axis=(1, 2))  # shape: (time,)"
   ]
  },
  {
   "cell_type": "code",
   "execution_count": null,
   "id": "abe06e27-c9c6-4d2f-a5eb-b7413f8f2a0d",
   "metadata": {},
   "outputs": [],
   "source": [
    "##### import matplotlib.pyplot as plt\n",
    "import cartopy.crs as ccrs\n",
    "import cartopy.feature as cfeature\n",
    "import numpy as np\n",
    "from matplotlib.colors import TwoSlopeNorm\n",
    "\n",
    "lons = obs.longitude.values  # of .lon\n",
    "lats = obs.latitude.values\n",
    "\n",
    "TF_1 = solar_power_output_tf.mean(axis=0).mean(axis=(0, 1))\n",
    "OBS_1 = solar_power_output_obs.mean(axis=(0, 1))\n",
    "\n",
    "#CRPS_OG=np.load(\"/home/jupyter-ayoub/results/CRPS/w100/Raw_fair_crps.npy\")\n",
    "# Data voorbereidenS\n",
    "diff =  OBS_1 - TF_1\n",
    "\n",
    "# Coördinaten grid voor contourplot\n",
    "lon2d, lat2d = np.meshgrid(lons, lats)\n",
    "\n",
    "# Plotfiguur\n",
    "fig, ax = plt.subplots(figsize=(5, 4), subplot_kw={'projection': ccrs.PlateCarree()})\n",
    "ax.set_extent([2.5, 10.5, 45.75, 53.5], crs=ccrs.PlateCarree())\n",
    "\n",
    "# Geografische lagen\n",
    "ax.add_feature(cfeature.BORDERS.with_scale(\"10m\"), linewidth=0.6)\n",
    "ax.add_feature(cfeature.COASTLINE.with_scale(\"10m\"), linewidth=0.6)\n",
    "\n",
    "levels = np.linspace(-2.5, 2.5, 10)\n",
    "# Contourplot met nette levels\n",
    "cf = ax.contourf(lon2d, lat2d,diff, cmap='twilight_shifted_r',transform=ccrs.PlateCarree(),levels=levels, )\n",
    "\n",
    "# Nette colorbar met LaTeX label\n",
    "cbar = fig.colorbar(cf, ax=ax, orientation='vertical', pad=0.02, shrink=0.9, aspect=20)\n",
    "cbar.set_label(r'differents in W', fontsize=10)\n",
    "cbar.ax.tick_params(labelsize=9)\n",
    "\n",
    "# Gridlines\n",
    "gl = ax.gridlines(draw_labels=True, linewidth=0.3, color='gray', alpha=0.5)\n",
    "gl.top_labels = False\n",
    "gl.right_labels = False\n",
    "\n",
    "# Geen titel in het plot zelf\n",
    "ax.set_title(\"\")\n",
    "\n",
    "# Ondertitel buiten plot\n",
    "\n",
    "plt.suptitle('Solar power', fontsize=16,ha='center')\n",
    "plt.figtext(0.5, -0.08, r\"(a) Observed - RAW\", fontsize=12, ha='center')\n",
    "plt.tight_layout()\n",
    "plt.savefig(\"/home/jupyter-ayoub/Pictures/ssrd6/power_map_obs-transformer_10.png\", bbox_inches='tight')\n",
    "plt.show()"
   ]
  },
  {
   "cell_type": "code",
   "execution_count": null,
   "id": "f39d2cb4-7413-449d-ada4-05a3636bcacc",
   "metadata": {},
   "outputs": [],
   "source": [
    "##### import matplotlib.pyplot as plt\n",
    "import cartopy.crs as ccrs\n",
    "import cartopy.feature as cfeature\n",
    "import numpy as np\n",
    "from matplotlib.colors import TwoSlopeNorm\n",
    "\n",
    "lons = obs.longitude.values  # of .lon\n",
    "lats = obs.latitude.values\n",
    "\n",
    "MBM_1 = solar_power_output_mbm.mean(axis=0).mean(axis=(0, 1))\n",
    "OBS_1 = solar_power_output_obs.mean(axis=(0, 1))\n",
    "\n",
    "#CRPS_OG=np.load(\"/home/jupyter-ayoub/results/CRPS/w100/Raw_fair_crps.npy\")\n",
    "# Data voorbereidenS\n",
    "diff =  OBS_1 - MBM_1\n",
    "\n",
    "# Coördinaten grid voor contourplot\n",
    "lon2d, lat2d = np.meshgrid(lons, lats)\n",
    "\n",
    "# Plotfiguur\n",
    "fig, ax = plt.subplots(figsize=(5, 4), subplot_kw={'projection': ccrs.PlateCarree()})\n",
    "ax.set_extent([2.5, 10.5, 45.75, 53.5], crs=ccrs.PlateCarree())\n",
    "\n",
    "# Geografische lagen\n",
    "ax.add_feature(cfeature.BORDERS.with_scale(\"10m\"), linewidth=0.6)\n",
    "ax.add_feature(cfeature.COASTLINE.with_scale(\"10m\"), linewidth=0.6)\n",
    "\n",
    "levels = np.linspace(-2.5, 2.5, 10)\n",
    "# Contourplot met nette levels\n",
    "cf = ax.contourf(lon2d, lat2d,diff, cmap='twilight_shifted_r',transform=ccrs.PlateCarree(),levels=levels, )\n",
    "\n",
    "# Nette colorbar met LaTeX label\n",
    "cbar = fig.colorbar(cf, ax=ax, orientation='vertical', pad=0.02, aspect=20)\n",
    "cbar.set_label(r'differents in W', fontsize=10)\n",
    "cbar.ax.tick_params(labelsize=9)\n",
    "\n",
    "# Gridlines\n",
    "gl = ax.gridlines(draw_labels=True, linewidth=0.3, color='gray', alpha=0.5)\n",
    "gl.top_labels = False\n",
    "gl.right_labels = False\n",
    "\n",
    "# Geen titel in het plot zelf\n",
    "ax.set_title(\"\")\n",
    "\n",
    "# Ondertitel buiten plot\n",
    "plt.suptitle('Solar power', fontsize=16,ha='center')\n",
    "plt.figtext(0.5, -0.08, r\"(b) Observed - Classical MBM\", fontsize=12, ha='center')\n",
    "plt.tight_layout()\n",
    "plt.savefig(\"/home/jupyter-ayoub/Pictures/ssrd6/power_map_obs-mbm_10.png\", bbox_inches='tight')\n",
    "plt.show()"
   ]
  },
  {
   "cell_type": "code",
   "execution_count": null,
   "id": "d3c7cbd8-30ed-43c9-a9dd-c2b73cf4abb8",
   "metadata": {},
   "outputs": [],
   "source": [
    "##### import matplotlib.pyplot as plt\n",
    "import cartopy.crs as ccrs\n",
    "import cartopy.feature as cfeature\n",
    "import numpy as np\n",
    "from matplotlib.colors import TwoSlopeNorm\n",
    "\n",
    "lons = obs.longitude.values  # of .lon\n",
    "lats = obs.latitude.values\n",
    "\n",
    "RAW_ssrd6_1 = solar_power_output_raw.mean(axis=0).mean(axis=(0, 1))\n",
    "OBS_1 = solar_power_output_obs.mean(axis=(0, 1))\n",
    "\n",
    "#CRPS_OG=np.load(\"/home/jupyter-ayoub/results/CRPS/w100/Raw_fair_crps.npy\")\n",
    "# Data voorbereidenS\n",
    "diff =  OBS_1 - RAW_ssrd6_1\n",
    "\n",
    "# Coördinaten grid voor contourplot\n",
    "lon2d, lat2d = np.meshgrid(lons, lats)\n",
    "\n",
    "# Plotfiguur\n",
    "fig, ax = plt.subplots(figsize=(5, 4), subplot_kw={'projection': ccrs.PlateCarree()})\n",
    "ax.set_extent([2.5, 10.5, 45.75, 53.5], crs=ccrs.PlateCarree())\n",
    "\n",
    "# Geografische lagen\n",
    "ax.add_feature(cfeature.BORDERS.with_scale(\"10m\"), linewidth=0.6)\n",
    "ax.add_feature(cfeature.COASTLINE.with_scale(\"10m\"), linewidth=0.6)\n",
    "\n",
    "levels = np.linspace(-2.5, 2.5, 10)\n",
    "# Contourplot met nette levels\n",
    "cf = ax.contourf(lon2d, lat2d,diff, cmap='twilight_shifted_r',transform=ccrs.PlateCarree(),levels=levels, )\n",
    "\n",
    "# Nette colorbar met LaTeX label\n",
    "cbar = fig.colorbar(cf, ax=ax, orientation='vertical', pad=0.02, aspect=20)\n",
    "cbar.set_label(r'differents in W', fontsize=10)\n",
    "cbar.ax.tick_params(labelsize=9)\n",
    "\n",
    "# Gridlines\n",
    "gl = ax.gridlines(draw_labels=True, linewidth=0.3, color='gray', alpha=0.5)\n",
    "gl.top_labels = False\n",
    "gl.right_labels = False\n",
    "\n",
    "# Geen titel in het plot zelf\n",
    "ax.set_title(\"\")\n",
    "\n",
    "# Ondertitel buiten plot\n",
    "plt.suptitle('Solar power', fontsize=16,ha='center')\n",
    "plt.figtext(0.5, -0.08, r\"(c) Observed - RAW\", fontsize=12, ha='center')\n",
    "plt.tight_layout()\n",
    "plt.savefig(\"/home/jupyter-ayoub/Pictures/ssrd6/power_map_obs-raw_10.png\", bbox_inches='tight')\n",
    "plt.show()"
   ]
  },
  {
   "cell_type": "code",
   "execution_count": null,
   "id": "b4308e95-a1bc-42aa-8ff6-35f26cf1b408",
   "metadata": {},
   "outputs": [],
   "source": [
    "##### import matplotlib.pyplot as plt\n",
    "import cartopy.crs as ccrs\n",
    "import cartopy.feature as cfeature\n",
    "import numpy as np\n",
    "from matplotlib.colors import TwoSlopeNorm\n",
    "\n",
    "lons = obs.longitude.values  # of .lon\n",
    "lats = obs.latitude.values\n",
    "\n",
    "TF_1 = solar_power_output_tf.mean(axis=0).mean(axis=(0, 1))\n",
    "MBM_1 = solar_power_output_mbm.mean(axis=0).mean(axis=(0, 1))\n",
    "\n",
    "#CRPS_OG=np.load(\"/home/jupyter-ayoub/results/CRPS/w100/Raw_fair_crps.npy\")\n",
    "# Data voorbereidenS\n",
    "diff =  MBM_1 - TF_1\n",
    "\n",
    "# Coördinaten grid voor contourplot\n",
    "lon2d, lat2d = np.meshgrid(lons, lats)\n",
    "\n",
    "# Plotfiguur\n",
    "fig, ax = plt.subplots(figsize=(5, 4), subplot_kw={'projection': ccrs.PlateCarree()})\n",
    "ax.set_extent([2.5, 10.5, 45.75, 53.5], crs=ccrs.PlateCarree())\n",
    "\n",
    "# Geografische lagen\n",
    "ax.add_feature(cfeature.BORDERS.with_scale(\"10m\"), linewidth=0.6)\n",
    "ax.add_feature(cfeature.COASTLINE.with_scale(\"10m\"), linewidth=0.6)\n",
    "\n",
    "# Contourplot met nette levels\n",
    "levels = np.linspace(-2.5, 2.5, 10)\n",
    "cf = ax.contourf(lon2d, lat2d, diff, cmap='twilight_shifted_r',transform=ccrs.PlateCarree(),levels=levels)\n",
    "\n",
    "# Nette colorbar met LaTeX label\n",
    "cbar = fig.colorbar(cf, ax=ax, orientation='vertical', pad=0.02, shrink=0.9, aspect=20)\n",
    "cbar.set_label(r'differents in W', fontsize=10)\n",
    "cbar.ax.tick_params(labelsize=9)\n",
    "\n",
    "# Gridlines\n",
    "gl = ax.gridlines(draw_labels=True, linewidth=0.3, color='gray', alpha=0.5)\n",
    "gl.top_labels = False\n",
    "gl.right_labels = False\n",
    "\n",
    "# Geen titel in het plot zelf\n",
    "ax.set_title(\"\")\n",
    "\n",
    "# Ondertitel buiten plot\n",
    "plt.title('Solar power', fontsize=22)\n",
    "plt.figtext(0.5, -0.08, r\"(b) Classical MBM - Transformer\", fontsize=12, ha='center')\n",
    "\n",
    "plt.tight_layout()\n",
    "plt.show()"
   ]
  },
  {
   "cell_type": "code",
   "execution_count": null,
   "id": "9b9cdea5-968a-412d-bc65-3119c1ca64c2",
   "metadata": {
    "tags": []
   },
   "outputs": [],
   "source": [
    "##### import matplotlib.pyplot as plt\n",
    "import cartopy.crs as ccrs\n",
    "import cartopy.feature as cfeature\n",
    "import numpy as np\n",
    "from matplotlib.colors import TwoSlopeNorm\n",
    "\n",
    "lons = obs.longitude.values  # of .lon\n",
    "lats = obs.latitude.values\n",
    "\n",
    "TF_1 = solar_power_output_tf.mean(axis=0).mean(axis=(0, 1))\n",
    "OG = solar_power_output_raw.mean(axis=0).mean(axis=(0, 1))\n",
    "\n",
    "#CRPS_OG=np.load(\"/home/jupyter-ayoub/results/CRPS/w100/Raw_fair_crps.npy\")\n",
    "# Data voorbereidenS\n",
    "diff =  OG - TF_1\n",
    "\n",
    "# Coördinaten grid voor contourplot\n",
    "lon2d, lat2d = np.meshgrid(lons, lats)\n",
    "\n",
    "# Plotfiguur\n",
    "levels = np.linspace(-2.5, 2.5, 9)\n",
    "fig, ax = plt.subplots(figsize=(5, 4), subplot_kw={'projection': ccrs.PlateCarree()})\n",
    "ax.set_extent([2.5, 10.5, 45.75, 53.5], crs=ccrs.PlateCarree())\n",
    "\n",
    "# Geografische lagen\n",
    "ax.add_feature(cfeature.BORDERS.with_scale(\"10m\"), linewidth=0.6)\n",
    "ax.add_feature(cfeature.COASTLINE.with_scale(\"10m\"), linewidth=0.6)\n",
    "\n",
    "# Contourplot met nette levels\n",
    "cf = ax.contourf(lon2d, lat2d, diff, cmap='twilight_shifted_r',transform=ccrs.PlateCarree(),levels=levels)\n",
    "\n",
    "# Nette colorbar met LaTeX label\n",
    "cbar = fig.colorbar(cf, ax=ax, orientation='vertical', pad=0.02, shrink=0.9, aspect=20)\n",
    "cbar.set_label(r'differents in W', fontsize=10)\n",
    "cbar.ax.tick_params(labelsize=9)\n",
    "\n",
    "# Gridlines\n",
    "gl = ax.gridlines(draw_labels=True, linewidth=0.3, color='gray', alpha=0.5)\n",
    "gl.top_labels = False\n",
    "gl.right_labels = False\n",
    "\n",
    "# Geen titel in het plot zelf\n",
    "ax.set_title(\"\")\n",
    "\n",
    "# Ondertitel buiten plot\n",
    "plt.title('Solar power', fontsize=22)\n",
    "plt.figtext(0.5, -0.08, r\"(b) RAW - Transformer\", fontsize=12, ha='center')\n",
    "\n",
    "plt.tight_layout()\n",
    "plt.show()"
   ]
  },
  {
   "cell_type": "code",
   "execution_count": null,
   "id": "db2d9566-2436-4f0b-a8ed-6f95add34968",
   "metadata": {},
   "outputs": [],
   "source": [
    "def compute_ensemble_mae(forecast, observed, reduce_dims=True):\n",
    "    \"\"\"\n",
    "    Bereken de MAE tussen ensemble voorspellingen en observaties.\n",
    "\n",
    "    Parameters:\n",
    "    -----------\n",
    "    forecast : np.ndarray\n",
    "        Voorspellingen met shape (member, time, step, lat, lon)\n",
    "    observed : np.ndarray\n",
    "        Observaties met shape (time, step, lat, lon)\n",
    "    reduce_dims : bool\n",
    "        Als True retourneert de functie de gemiddelde MAE (scalar),\n",
    "        anders retourneert ze de MAE per gridpunt (time, step, lat, lon)\n",
    "\n",
    "    Returns:\n",
    "    --------\n",
    "    mae : float of np.ndarray\n",
    "        De Mean Absolute Error tussen forecast en observed\n",
    "    \"\"\"\n",
    "    # Zorg dat forecast en observed numpy arrays zijn\n",
    "    forecast = np.asarray(forecast)\n",
    "    observed = np.asarray(observed)\n",
    "\n",
    "    # Neem gemiddelde over de ensembleleden (dim 0)\n",
    "    forecast_mean = forecast.mean(axis=0)  # shape = (time, step, lat, lon)\n",
    "\n",
    "    # Bereken absolute fout\n",
    "    abs_error = np.abs(forecast_mean - observed)  # shape = (time, step, lat, lon)\n",
    "\n",
    "    if reduce_dims:\n",
    "        # Neem gemiddelde over alle dimensies → scalar MAE\n",
    "        return abs_error.mean()\n",
    "    else:\n",
    "        # Retourneer MAE per gridpunt\n",
    "        return abs_error"
   ]
  },
  {
   "cell_type": "code",
   "execution_count": null,
   "id": "adeb981b-4d8d-4ac2-9e8a-df8dcf774bc8",
   "metadata": {
    "tags": []
   },
   "outputs": [],
   "source": [
    "mae_tf = compute_ensemble_mae(Tformer_one, sv_obs)\n",
    "mae_mbm = compute_ensemble_mae(MBM_one, sv_obs)\n",
    "mae_raw = compute_ensemble_mae(Raw, sv_obs)\n",
    "print(mae_tf,mae_mbm,mae_raw)"
   ]
  },
  {
   "cell_type": "code",
   "execution_count": null,
   "id": "f8a27800-063d-46d3-a87b-80f07c33ba95",
   "metadata": {
    "tags": []
   },
   "outputs": [],
   "source": [
    "mae_per_point_tf = compute_ensemble_mae(Tformer_one, sv_obs, reduce_dims=False)\n",
    "mae_mean_tf = mae_per_point_tf.mean(axis=0).mean(axis=(1, 2))\n",
    "mae_per_point_mbm = compute_ensemble_mae(MBM_one, sv_obs, reduce_dims=False)\n",
    "mae_mean_mbm = mae_per_point_mbm.mean(axis=0).mean(axis=(1, 2))\n",
    "mae_per_point_raw = compute_ensemble_mae(Raw, sv_obs, reduce_dims=False)\n",
    "mae_mean_raw = mae_per_point_raw.mean(axis=0).mean(axis=(1, 2))"
   ]
  },
  {
   "cell_type": "code",
   "execution_count": null,
   "id": "2eacd208-8baf-4cd0-b99f-de91ce27ca26",
   "metadata": {
    "tags": []
   },
   "outputs": [],
   "source": [
    "print(obs.sizes)"
   ]
  },
  {
   "cell_type": "code",
   "execution_count": null,
   "id": "8fc8f107-0a72-4ec7-9737-1e3a3f8cce0d",
   "metadata": {
    "tags": []
   },
   "outputs": [],
   "source": [
    "Leadtimes=obs.step.values\n",
    "matplotlib.rcParams['text.usetex'] = False\n",
    "plt.figure(figsize=(10, 9))\n",
    "plt.plot(Leadtimes, mae_mean_tf, color='red', marker='o', label='Postprocessed, transformer')\n",
    "plt.plot(Leadtimes, mae_mean_mbm, color='blue', marker='*', label='Postprocessed, classical mbm')\n",
    "plt.plot(Leadtimes, mae_mean_raw, color='green', marker='x', label='raw forcast')\n",
    "\n",
    "plt.axhline(y=mae_tf, color='RED',linestyle=':')\n",
    "plt.axhline(y=mae_mbm, color='BLUE',linestyle=':')\n",
    "plt.axhline(y=mae_raw, color='GREEN',linestyle=':')\n",
    "\n",
    "\n",
    "# Set title and labels\n",
    "plt.title('Mean Absolute Error per lead time (solar radiation)', fontsize=22)\n",
    "plt.xlabel('Forecast lead time [hours]', fontsize=18)\n",
    "plt.ylabel('[J/m$^2$]', fontsize=18)\n",
    "\n",
    "# Set y-axis limits and x-axis ticks\n",
    "#plt.xlim(0,123)\n",
    "plt.ylim(0,1400000)\n",
    "# Set tick label size and show legend\n",
    "plt.tick_params(axis='both', labelsize=12)\n",
    "plt.legend(fontsize=12)\n",
    "# Ondertitel buiten plot\n",
    "# Adjust layout and show the plot\n",
    "\n",
    "plt.tight_layout()\n",
    "plt.savefig(\"/home/jupyter-ayoub/Pictures/ssrd6/MAE_leadtime.png\", bbox_inches='tight')\n",
    "plt.show()"
   ]
  },
  {
   "cell_type": "code",
   "execution_count": null,
   "id": "e8e2cdfa-c11b-46bc-a8a6-d38a4aba4435",
   "metadata": {
    "tags": []
   },
   "outputs": [],
   "source": [
    "Leadtimes=obs.step.values\n",
    "matplotlib.rcParams['text.usetex'] = False\n",
    "plt.figure(figsize=(10, 8))\n",
    "plt.plot(Leadtimes, mae_mean, color='red', marker='o', label='Mean Absolute Error')\n",
    "\n",
    "\n",
    "# Set title and labels\n",
    "plt.title('Mean Absolute Error per lead time (solar radiation)', fontsize=22)\n",
    "plt.xlabel('Forecast lead time [hours]', fontsize=18)\n",
    "plt.ylabel('J/m$^2$', fontsize=18)\n",
    "\n",
    "# Set y-axis limits and x-axis ticks\n",
    "#plt.xlim(0,123)\n",
    "#plt.ylim(0,70)\n",
    "\n",
    "# Set tick label size and show legend\n",
    "plt.tick_params(axis='both', labelsize=12)\n",
    "plt.legend(fontsize=12)\n",
    "\n",
    "# Adjust layout and show the plot\n",
    "plt.tight_layout()\n",
    "#plt.savefig(\"CRPS_leadtime_all.png\")\n",
    "plt.figtext(0.5, -0.08, r\"(b) Classical MBM \", fontsize=18, ha='center')\n",
    "plt.show()"
   ]
  },
  {
   "cell_type": "code",
   "execution_count": null,
   "id": "a91b3b2c-9dd9-4bf3-a967-bea5071ecc31",
   "metadata": {},
   "outputs": [],
   "source": [
    "import numpy as np\n",
    "\n",
    "def compute_bias(forecast, observed, reduce_dims=True):\n",
    "    \"\"\"\n",
    "    Bereken bias tussen ensemble forecast en observatie.\n",
    "\n",
    "    Parameters:\n",
    "    -----------\n",
    "    forecast : np.ndarray\n",
    "        Ensemble voorspellingen van shape (member, time, step, lat, lon)\n",
    "    observed : np.ndarray\n",
    "        Observaties van shape (time, step, lat, lon)\n",
    "    reduce_dims : bool\n",
    "        Als True retourneer je gemiddelde bias per leadtime (shape = [step])\n",
    "        Als False retourneer je volledige bias-array (shape = [time, step, lat, lon])\n",
    "\n",
    "    Returns:\n",
    "    --------\n",
    "    bias : np.ndarray\n",
    "        Bias per leadtime (of volledige array als reduce_dims=False)\n",
    "    \"\"\"\n",
    "    # Neem ensemblegemiddelde: (time, step, lat, lon)\n",
    "    forecast_mean = forecast.mean(axis=0)\n",
    "\n",
    "    # Bereken bias (voorspelling - observatie)\n",
    "    bias = forecast_mean - observed\n",
    "\n",
    "    if reduce_dims:\n",
    "        # Gemiddeld over tijd, lat, lon → bias per leadtime (step)\n",
    "        return bias.mean(axis=(0, 2, 3))  # shape = (step,)\n",
    "    else:\n",
    "        return bias  # shape = (time, step, lat, lon)\n"
   ]
  },
  {
   "cell_type": "code",
   "execution_count": null,
   "id": "a748e39c-ddcf-47b8-b9ac-52cefb9db3a8",
   "metadata": {
    "tags": []
   },
   "outputs": [],
   "source": [
    "import matplotlib.pyplot as plt\n",
    "\n",
    "# Bereken bias\n",
    "bias_per_leadtime = compute_bias(Tformer_one, sv_obs)\n",
    "\n",
    "# Laad leadtimes op (bijv. uit xarray)\n",
    "Leadtimes = obs.step.values  # of np.arange(0, 120+6, 6)\n",
    "\n",
    "# Plot\n",
    "plt.figure(figsize=(10, 6))\n",
    "plt.plot(Leadtimes, bias_per_leadtime, marker='o', color='blue', label='Bias')\n",
    "plt.axhline(0, color='gray', linestyle='--')\n",
    "\n",
    "plt.title('Gemiddelde bias per leadtime (ssrd6)', fontsize=16)\n",
    "plt.xlabel('Lead time [hours]', fontsize=14)\n",
    "plt.ylabel('Bias [J/m$^2$]', fontsize=14)\n",
    "plt.legend()\n",
    "plt.grid(True)\n",
    "plt.tight_layout()\n",
    "plt.figtext(0.5, -0.08, r\"(a) Transformer\", fontsize=18, ha='center')\n",
    "plt.savefig(\"/home/jupyter-ayoub/Pictures/ssrd6/bias-transformer.png\",  bbox_inches='tight')\n",
    "plt.show()\n"
   ]
  },
  {
   "cell_type": "code",
   "execution_count": null,
   "id": "3db69fe7-dde2-4e65-b662-f82ae9d61578",
   "metadata": {
    "tags": []
   },
   "outputs": [],
   "source": [
    "import matplotlib.pyplot as plt\n",
    "\n",
    "# Bereken bias\n",
    "bias_per_leadtime = compute_bias(MBM_one, sv_obs)\n",
    "\n",
    "# Laad leadtimes op (bijv. uit xarray)\n",
    "Leadtimes = obs.step.values  # of np.arange(0, 120+6, 6)\n",
    "\n",
    "# Plot\n",
    "plt.figure(figsize=(10, 6))\n",
    "plt.plot(Leadtimes, bias_per_leadtime, marker='o', color='blue', label='Bias')\n",
    "plt.axhline(0, color='gray', linestyle='--')\n",
    "\n",
    "plt.title('Gemiddelde bias per leadtime (ssrd6)', fontsize=16)\n",
    "plt.xlabel('Lead time [hours]', fontsize=14)\n",
    "plt.ylabel('Bias [J/m$^2$]', fontsize=14)\n",
    "plt.legend()\n",
    "plt.grid(True)\n",
    "plt.tight_layout()\n",
    "plt.figtext(0.5, -0.08, r\"(b) Classical MBM \", fontsize=18, ha='center')\n",
    "plt.savefig(\"/home/jupyter-ayoub/Pictures/ssrd6/bias-mbm.png\",  bbox_inches='tight')\n",
    "plt.show()"
   ]
  },
  {
   "cell_type": "code",
   "execution_count": null,
   "id": "dd187cbe-8f70-44fe-b235-77580b29dc70",
   "metadata": {
    "tags": []
   },
   "outputs": [],
   "source": [
    "import matplotlib.pyplot as plt\n",
    "\n",
    "# Bereken bias\n",
    "bias_per_leadtime = compute_bias(Raw, sv_obs)\n",
    "\n",
    "# Laad leadtimes op (bijv. uit xarray)\n",
    "Leadtimes = obs.step.values  # of np.arange(0, 120+6, 6)\n",
    "\n",
    "# Plot\n",
    "plt.figure(figsize=(10, 6))\n",
    "plt.plot(Leadtimes, bias_per_leadtime, marker='o', color='blue', label='Bias')\n",
    "plt.axhline(0, color='gray', linestyle='--')\n",
    "\n",
    "plt.title('Gemiddelde bias per leadtime (ssrd6)', fontsize=16)\n",
    "plt.xlabel('Lead time [hours]', fontsize=14)\n",
    "plt.ylabel('Bias [J/m$^2$]', fontsize=14)\n",
    "plt.legend()\n",
    "plt.grid(True)\n",
    "plt.tight_layout()\n",
    "plt.figtext(0.5, -0.08, r\"(C) RAW \", fontsize=18, ha='center')\n",
    "plt.savefig(\"/home/jupyter-ayoub/Pictures/ssrd6/bias-raw.png\",  bbox_inches='tight')\n",
    "plt.show()"
   ]
  },
  {
   "cell_type": "code",
   "execution_count": null,
   "id": "85401119-0c81-4d58-8d4c-1218048cb4b0",
   "metadata": {},
   "outputs": [],
   "source": []
  }
 ],
 "metadata": {
  "kernelspec": {
   "display_name": "Python 3 (ipykernel)",
   "language": "python",
   "name": "python3"
  },
  "language_info": {
   "codemirror_mode": {
    "name": "ipython",
    "version": 3
   },
   "file_extension": ".py",
   "mimetype": "text/x-python",
   "name": "python",
   "nbconvert_exporter": "python",
   "pygments_lexer": "ipython3",
   "version": "3.10.10"
  }
 },
 "nbformat": 4,
 "nbformat_minor": 5
}
