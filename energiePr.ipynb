{
 "cells": [
  {
   "cell_type": "code",
   "execution_count": null,
   "id": "c387e4e9-0612-40f8-b330-dbb9894521c2",
   "metadata": {
    "tags": []
   },
   "outputs": [],
   "source": [
    "import xarray as xr\n",
    "import os, sys\n",
    "import torch\n",
    "import numpy as np\n",
    "import matplotlib.pyplot as plt\n",
    "import matplotlib"
   ]
  },
  {
   "cell_type": "code",
   "execution_count": null,
   "id": "b1eed416-c061-48d2-abfe-c5a28e45c50d",
   "metadata": {
    "tags": []
   },
   "outputs": [],
   "source": [
    "module_path = '/home/jupyter-ayoub'\n",
    "if module_path not in sys.path:\n",
    "    sys.path.append(module_path)\n",
    "from Transformer import StackedTransformer"
   ]
  },
  {
   "cell_type": "code",
   "execution_count": null,
   "id": "058bb7cf-aa25-4890-a23c-d0c9eb1b1011",
   "metadata": {
    "tags": []
   },
   "outputs": [],
   "source": [
    "#ssrd6\n",
    "test_rfcs=xr.open_dataset(\"/home/jupyter-ayoub/data/test/test_reforecast.nc\")\n",
    "obs=xr.open_dataset(\"/home/jupyter-ayoub/data/test/test_observation.nc\")"
   ]
  },
  {
   "cell_type": "code",
   "execution_count": null,
   "id": "daac6ed5-bdfe-427a-82e2-4270aa052089",
   "metadata": {
    "tags": []
   },
   "outputs": [],
   "source": [
    "test_rfcs=test_rfcs\n",
    "obs=obs"
   ]
  },
  {
   "cell_type": "code",
   "execution_count": null,
   "id": "6d701237-5b1b-4670-8d2a-b3b2fa2ba73e",
   "metadata": {
    "tags": []
   },
   "outputs": [],
   "source": [
    "target='ssrd6_obs'  \n",
    "obs=obs[target]\n",
    "test_rfcs=test_rfcs.drop_vars(['sd', 'mx2t6', 'mn2t6', 'q', 'ssr6', 'str6'])\n",
    "#test_rfcs=test_rfcs.drop_vars(['t2m', 'z', 't', 'u10', 'v10', 'tcc', 'sd', 'mx2t6', 'mn2t6', 'w10', 'u100', 'w100', 'u', 'w700', 'p10fg6', 'v100', 'v', 'q', 'tp6', 'ssr6', 'str6', 'strd6'])\n",
    "#test_rfcs=test_rfcs.drop_vars(['u10', 'v10', 'sd', 'mx2t6', 'mn2t6', 'w10', 'u100', 'w100', 'u', 'w700', 'p10fg6', 'v100', 'v', 'q', 'ssr6', 'str6']) #8\n",
    "#[ 'sd', 'mx2t6', 'mn2t6', 'q', 'ssr6', 'str6']\n",
    "#['sd', 'mx2t6', 'mn2t6', 'q', 'tp6', 'ssr6', 'str6', 'ssrd6', 'strd6']"
   ]
  },
  {
   "cell_type": "code",
   "execution_count": null,
   "id": "0f1e0cea-1ab5-490e-864a-3cb9b9482afa",
   "metadata": {
    "tags": []
   },
   "outputs": [],
   "source": [
    "#add orography as a variable\n",
    "oro=xr.open_dataset(\"/home/jupyter-aaron/Postprocessing/PP_EUPP/data/oro.nc\") \n",
    "dims={'time' : test_rfcs['time'],\n",
    "       'number': test_rfcs['number'],\n",
    "       'step': test_rfcs['step']}\n",
    "xds_oro=oro.expand_dims(time=dims['time'], number=dims['number'],step=dims['step'])\n",
    "dummy_oro=xr.Dataset(coords=dims)\n",
    "final_oro=xds_oro.broadcast_like(dummy_oro)"
   ]
  },
  {
   "cell_type": "code",
   "execution_count": null,
   "id": "c5db2bc4-d251-4324-9e52-3737ce887b56",
   "metadata": {
    "tags": []
   },
   "outputs": [],
   "source": [
    "fcs_10=xr.merge([test_rfcs,final_oro])\n",
    "dummy=xr.merge([test_rfcs,final_oro])"
   ]
  },
  {
   "cell_type": "code",
   "execution_count": null,
   "id": "23833a89-5703-4237-a020-f95ee3f348ef",
   "metadata": {
    "tags": []
   },
   "outputs": [],
   "source": [
    "#normalizing met oro.nc\n",
    "min_max_values={\"t2m\":(235, 304), \"z\": (48200, 58000), \"t\":(240, 299), \"u10\": (-13., 11.),\"v10\": (-30,35), \"tcc\": (0., 1.0),\"sd\":(0,8),\"mx2t6\":(230,320),\"mn2t6\":(225,315),\"v\":(-50,55), \"w100\":(0,50),\"w10\":(0,30), \"u100\": (-35,45), \"u\": (-45,60),\"v100\":(-40,45), \"w700\": (0,60), \"p10fg6\": (0,60), \"oro\":(-400,2800),\"ssr6\":(0,3200000),\"ssrd6\":(-5200.0,18541902.0),\"strd6\":(2103856,9537712),\"tp6\":(-4,1),\"ssr6\":(-4220.0,15344816.0),\"str6\":(-4630656.0,1093968.0)}\n",
    "# Function to normalize using vectorized operations\n",
    "def minmax_normalize(ds, min_max_values):\n",
    "    for var in ds.data_vars:\n",
    "        if var in min_max_values:\n",
    "            min_val, max_val = min_max_values[var]\n",
    "            ds[var] = (ds[var] - min_val) / (max_val - min_val)\n",
    "    return ds\n",
    "\n",
    "def z_normalize(ds):\n",
    "    for var in ds.data_vars:\n",
    "        ds[var] = ds[var].copy()  # Ensure the variable is writable\n",
    "        \n",
    "        for t in range(len(ds[\"time\"])):  # Loop over time dimension\n",
    "            mean = ds[var].isel(time=t).mean()\n",
    "            std = ds[var].isel(time=t).std()\n",
    "            ds[var].loc[dict(time=ds[\"time\"][t])] = (ds[var].isel(time=t) - mean) / std\n",
    "\n",
    "    return ds\n",
    "\n",
    "\n",
    "\n",
    "dummy_norm=minmax_normalize(dummy,min_max_values)\n",
    "fcs_norm=dummy_norm"
   ]
  },
  {
   "cell_type": "code",
   "execution_count": null,
   "id": "53c6799a-cf80-4f5d-a811-b46aa4f106c2",
   "metadata": {
    "tags": []
   },
   "outputs": [],
   "source": [
    "%reload_ext autoreload\n",
    "model =  StackedTransformer(num_blocks=4, n_data_shape=(20, 32, 33, 18), n_heads=8,mlp_mult=4,projection_channels=64)"
   ]
  },
  {
   "cell_type": "code",
   "execution_count": null,
   "id": "b9063b6b-1eb6-4cc8-bba3-b7168cf0b0df",
   "metadata": {
    "tags": []
   },
   "outputs": [],
   "source": [
    "#this is where the last run is stored \n",
    "checkpoint_path = '/home/jupyter-ayoub/results/Transformerweights/ssrd6/Beste_result/epochs50predictors18CRPSKERNELSTEPlambda0.02k3.3.pth'\n",
    "\n",
    "# Load the checkpoint\n",
    "checkpoint = torch.load(checkpoint_path, weights_only=False)\n",
    "model_state_dict = checkpoint['model']\n",
    "new_state_dict = {k.replace(\"module.\", \"\"): v for k, v in model_state_dict.items()}\n",
    "model.load_state_dict(new_state_dict)\n",
    "total_params = sum(p.numel() for p in model.parameters())\n",
    "print(\"Total number of parameters: \", total_params)"
   ]
  },
  {
   "cell_type": "code",
   "execution_count": null,
   "id": "1b77fb57-441d-4e00-8ddc-f2f92bf8d154",
   "metadata": {
    "tags": []
   },
   "outputs": [],
   "source": [
    "#turn the normalized reforecasts into a tensor\n",
    "fcs_norm_whole= fcs_norm.to_array(dim='variable')\n",
    "print(fcs_norm_whole.sizes)\n",
    "#print(fcs_norm_whole)\n",
    "print(fcs_norm_whole.shape)\n",
    "rearranged_10= fcs_norm_whole.transpose('time', 'number','step', 'latitude', 'longitude', 'variable')\n",
    "fcs_whole_tensor=torch.tensor(rearranged_10.values)\n",
    "print(fcs_whole_tensor.shape) "
   ]
  },
  {
   "cell_type": "code",
   "execution_count": null,
   "id": "3f7d118e-d64d-4d5d-8276-72bb788ec120",
   "metadata": {
    "tags": []
   },
   "outputs": [],
   "source": [
    "#same for unnormalized data, because I need them for the rescaling \n",
    "fcs_array_10 =fcs_10.to_array(dim='variable')\n",
    "fcs_rearranged_10= fcs_array_10.transpose('time', 'number','step', 'latitude', 'longitude', 'variable')\n",
    "fcs_whole_notnorm_tensor=torch.tensor(fcs_rearranged_10.values)\n",
    "print(fcs_whole_notnorm_tensor.shape)"
   ]
  },
  {
   "cell_type": "code",
   "execution_count": null,
   "id": "88e55b86-14be-4ede-b28d-d3356243d88d",
   "metadata": {
    "tags": []
   },
   "outputs": [],
   "source": [
    "MBM_one=np.empty((209,11,20,32,33),dtype=float)\n",
    "for i in range(20):\n",
    "    mbm1=np.load(f\"/home/jupyter-ayoub/ClassicalMBM/resultsClassicalMBM/{target}/MBM_{target}_{i}.npy\")\n",
    "    MBM_one[:,:,i,:,:]=mbm1.squeeze()"
   ]
  },
  {
   "cell_type": "code",
   "execution_count": null,
   "id": "b07032c8-86c9-4569-84e4-b49ddb4c1c46",
   "metadata": {
    "tags": []
   },
   "outputs": [],
   "source": [
    "postpro_10_whole = torch.empty((209,11,20,32,33,1))\n",
    "\n",
    "# Apply model in chunks of 10\n",
    "with torch.no_grad():\n",
    "    for i in range(0, 209, 2):\n",
    "        # Get the end index for this chunk\n",
    "        end = min(i + 2, 209)  # Ensure we don't go out of bounds\n",
    "\n",
    "        # Apply the model to the chunk and store in the corresponding location in postpro_10_whole\n",
    "        #print(fcs_whole_tensor[i:end].shape)\n",
    "        #print(postpro_10_whole[i:end].shape)\n",
    "        postpro_10_whole[i:end] = model(fcs_whole_tensor[i:end])"
   ]
  },
  {
   "cell_type": "code",
   "execution_count": null,
   "id": "d53acace-d519-4c41-85f9-6e9e8d026f94",
   "metadata": {
    "tags": []
   },
   "outputs": [],
   "source": [
    "# Extract ensemble forecasts\n",
    "ensemble_one = postpro_10_whole[...,0]\n",
    "\n",
    "# Compute standard deviation & mean across ensemble dimension (dim=1)\n",
    "scale_std, scale_mean = torch.std_mean(fcs_whole_notnorm_tensor[..., 15], dim=1, unbiased=True)\n",
    "\n",
    "# Function to scale and clamp ensemble data\n",
    "def scale_and_clamp(ensemble):\n",
    "    scaled = ensemble * scale_std.unsqueeze(1) + scale_mean.unsqueeze(1)\n",
    "    return torch.clamp(scaled, min=1e-6).permute(1, 0, 2, 3, 4)\n",
    "\n",
    "# Apply scaling and clamping\n",
    "scaled_ensemble_one = scale_and_clamp(ensemble_one)"
   ]
  },
  {
   "cell_type": "code",
   "execution_count": null,
   "id": "d2a1d55a-dd2d-4a16-b188-27197625b3f3",
   "metadata": {
    "tags": []
   },
   "outputs": [],
   "source": [
    "# Define coordinates with member first\n",
    "coords_forecast = {\n",
    "    'member': test_rfcs['number'].rename({'number': 'member'}),\n",
    "    'time': obs['time'],\n",
    "    'step': obs['step'],\n",
    "    'latitude': obs['latitude'],\n",
    "    'longitude': obs['longitude'],\n",
    "}\n",
    "\n",
    "\n",
    "# Define dimensions with member first\n",
    "dims_forecast = ('member', 'time', 'step', 'latitude', 'longitude')\n",
    "\n",
    "# Convert numpy arrays to xarray DataArray with the specified order\n",
    "MBM_one=xr.DataArray(np.transpose(MBM_one,(1,0,2,3,4)), coords=coords_forecast, dims=dims_forecast)\n",
    "full_ensemble_one= xr.DataArray(scaled_ensemble_one, coords=coords_forecast, dims=dims_forecast)\n",
    "\n",
    "# Compute mean and std across the member dimension\n",
    "mean_one = full_ensemble_one.mean(dim='member')\n",
    "std_one = full_ensemble_one.std(dim='member')\n",
    "\n",
    "# Adjust raw_fcs to have 'member' first\n",
    "raw_fcs = test_rfcs.rename({'number': 'member'})\n",
    "raw_fcs = raw_fcs.transpose('member', 'time', 'step', 'latitude', 'longitude')\n",
    "raw_mean=raw_fcs.mean(dim='member')\n",
    "raw_std=raw_fcs.std(dim='member')"
   ]
  },
  {
   "cell_type": "code",
   "execution_count": null,
   "id": "9a7e4956-b47d-4033-a027-b766b6f0bd7e",
   "metadata": {
    "tags": []
   },
   "outputs": [],
   "source": [
    "#ALL ENSEMBLES\n",
    "Tformer_one=full_ensemble_one\n",
    "MBM_one = MBM_one\n",
    "Raw = raw_fcs['ssrd6']"
   ]
  },
  {
   "cell_type": "code",
   "execution_count": null,
   "id": "8557e51b-6d8e-47e0-80d8-97408e356924",
   "metadata": {
    "tags": []
   },
   "outputs": [],
   "source": [
    "def compute_solar_power_from_ssrd6(ssrd6_data, efficiency=0.18, panel_area=1000.0):\n",
    "    \"\"\"\n",
    "    Zet ssrd6 (J/m² over 6 uur) om naar geschat vermogen (W) van een zonne-energiesysteem.\n",
    "    Werkt op een numpy array of xarray DataArray.\n",
    "\n",
    "    Parameters:\n",
    "    - ssrd6_data: ndarray met shape (ensemble, time, lat, lon)\n",
    "    - efficiency: float, systeemefficiëntie (typisch 0.15–0.20)\n",
    "    - panel_area: float, totale paneeloppervlakte in m²\n",
    "\n",
    "    Returns:\n",
    "    - power_output: zelfde shape als input, vermogen in watt\n",
    "    \"\"\"\n",
    "    irradiance_avg = ssrd6_data / (6 * 3600)  # W/m² gemiddeld over 6 uur\n",
    "    power_output = efficiency * irradiance_avg * panel_area  # W\n",
    "\n",
    "    return power_output\n"
   ]
  },
  {
   "cell_type": "code",
   "execution_count": null,
   "id": "2a52c748-ef4d-4d22-9a9c-8ea5de0913c5",
   "metadata": {},
   "outputs": [],
   "source": [
    "import torch\n",
    "\n",
    "def solar_irradiance_to_power(ghi_tensor: torch.Tensor, eta_pv: float = 0.18, area_pv: float = 1.0) -> torch.Tensor:\n",
    "    \"\"\"\n",
    "    De paper \"Current-Day and Future Dunkelflaute Risks for Belgium\", in Section 2 \n",
    "    \"Solar power is computed from GHI data by assuming a fixed conversion efficiency of 18% for the installed PV capacity. \n",
    "    The efficiency is applied directly to the GHI to estimate solar power generation.\"\n",
    "    \n",
    "    \n",
    "    Zet globale horizontale instraling (GHI) om naar opgewekt vermogen van een PV-systeem.\n",
    "    \n",
    "    Parameters:\n",
    "    - ghi_tensor (torch.Tensor): Tensor met GHI-waarden in W/m².\n",
    "    - eta_pv (float): Rendement van het PV-systeem (standaard 0.18 voor 18%).\n",
    "    - area_pv (float): Oppervlakte van het PV-systeem in m² (standaard 1.0 m²).\n",
    "    \n",
    "    Returns:\n",
    "    - torch.Tensor: Tensor met opgewekt vermogen in Watt.\n",
    "    \"\"\"\n",
    "    return eta_pv * area_pv * ghi_tensor\n"
   ]
  },
  {
   "cell_type": "code",
   "execution_count": null,
   "id": "aedac0b9-1965-461e-bb5e-940465113e70",
   "metadata": {
    "tags": []
   },
   "outputs": [],
   "source": [
    "# Stel: Tformer_one.shape = (11, 8, 32, 33)\n",
    "solar_power_output = solar_irradiance_to_power(\n",
    "    Tformer_one\n",
    ")"
   ]
  },
  {
   "cell_type": "code",
   "execution_count": null,
   "id": "162f5b98-73ce-4714-9338-131b393565d1",
   "metadata": {
    "tags": []
   },
   "outputs": [],
   "source": [
    "# Stel: Tformer_one.shape = (11, 8, 32, 33)\n",
    "solar_power_output = compute_solar_power_from_ssrd6(\n",
    "    Tformer_one,\n",
    "    efficiency=0.19,     # bijvoorbeeld voor moderne panelen\n",
    "    panel_area=10000.0   # stel dat je 10.000 m² PV-oppervlak modelleert\n",
    ")"
   ]
  },
  {
   "cell_type": "code",
   "execution_count": null,
   "id": "52b460cb-eb80-4bcf-b845-e9d349a5141d",
   "metadata": {
    "tags": []
   },
   "outputs": [],
   "source": [
    "solar_power_output.shape  # (11, time, lat, lon)"
   ]
  },
  {
   "cell_type": "code",
   "execution_count": null,
   "id": "8702c0ff-9378-45f7-b3be-85ba66ca0439",
   "metadata": {
    "tags": []
   },
   "outputs": [],
   "source": [
    "solar_energy_kWh = solar_power_output * 6 / 1000  # W × h → Wh → kWh"
   ]
  },
  {
   "cell_type": "code",
   "execution_count": null,
   "id": "fb5f7d1b-f475-403d-a7be-68b6c332562e",
   "metadata": {
    "tags": []
   },
   "outputs": [],
   "source": [
    "# Som over alle gridpoints en ensembleleden → totaal vermogen per tijd\n",
    "total_power_per_time = solar_power_output.sum(axis=(0, 2, 3))  # shape: (time,)"
   ]
  },
  {
   "cell_type": "code",
   "execution_count": null,
   "id": "899048ac-bfa4-47de-97a9-0a3986e9d5c9",
   "metadata": {
    "tags": []
   },
   "outputs": [],
   "source": [
    "mean_power_per_time = solar_power_output.mean(axis=0).sum(axis=(1, 2))  # shape: (time,)"
   ]
  },
  {
   "cell_type": "code",
   "execution_count": null,
   "id": "f4295779-91d2-4325-a2ce-6887605dbe49",
   "metadata": {
    "tags": []
   },
   "outputs": [],
   "source": [
    "# Plotten\n",
    "plt.figure(figsize=(10, 5))\n",
    "plt.plot(mean_power_per_time, marker='o')\n",
    "plt.title(\"Gemiddeld voorspeld vermogen per tijdstap (over ensemble en grid)\")\n",
    "plt.xlabel(\"Tijdstap (6-uurs intervallen)\")\n",
    "plt.ylabel(\"Vermogen (Watt)\")\n",
    "plt.grid(True)\n",
    "plt.tight_layout()\n",
    "plt.show()"
   ]
  },
  {
   "cell_type": "code",
   "execution_count": null,
   "id": "9cb10d29-3443-43fb-9b8a-a842ec5e0944",
   "metadata": {
    "tags": []
   },
   "outputs": [],
   "source": [
    "# Selecteer enkel de eerste 4 tijdstappen (1 dag = 4 x 6u)\n",
    "solar_power_day1 = solar_power_output[:, :4, :, :]  # shape: (ensemble, 4, lat, lon)\n",
    "\n",
    "# Gemiddeld over ensemble en som over grid → vermogen per tijdstap\n",
    "mean_power_day1 = solar_power_day1.mean(axis=0).sum(axis=(1, 2))  # shape: (4,)\n",
    "\n",
    "# Plotten\n",
    "plt.figure(figsize=(8, 5))\n",
    "plt.plot(mean_power_day1, marker='o', color='orange')\n",
    "plt.title(\"Gemiddeld voorspeld vermogen per 6u tijdsblok (dag 1)\")\n",
    "plt.xlabel(\"Tijdstap (6-uurs intervallen)\")\n",
    "plt.xticks(ticks=range(4), labels=[\"00–06\", \"06–12\", \"12–18\", \"18–24\"])\n",
    "plt.ylabel(\"Vermogen (Watt)\")\n",
    "plt.grid(True)\n",
    "plt.tight_layout()\n",
    "plt.show()"
   ]
  },
  {
   "cell_type": "code",
   "execution_count": null,
   "id": "f7efef52-f995-493a-bccc-ead6eb42e104",
   "metadata": {
    "tags": []
   },
   "outputs": [],
   "source": [
    "sample = solar_power_output[0]  # shape: (209, 20, 32, 33)"
   ]
  },
  {
   "cell_type": "code",
   "execution_count": null,
   "id": "8a66f684-3cf0-44a2-b575-1931ee547dd1",
   "metadata": {
    "tags": []
   },
   "outputs": [],
   "source": [
    "time_len, ens_len, lat_len, lon_len = sample.shape\n",
    "\n",
    "random_time = np.random.randint(0, time_len)\n",
    "random_ens = np.arange(ens_len)\n",
    "random_lat = np.random.randint(0, lat_len)\n",
    "random_lon = np.random.randint(0, lon_len)\n",
    "\n",
    "# Extract ensemblewaarden (vorm: ensemble,)\n",
    "power_at_point = sample[random_time, :, random_lat, random_lon]\n",
    "\n",
    "# Plot ensembleverdeling\n",
    "import matplotlib.pyplot as plt\n",
    "plt.figure(figsize=(7, 5))\n",
    "plt.bar(random_ens, power_at_point, color='orange')\n",
    "plt.title(f\"Voorspeld vermogen per ensemblelid\\nTijdstap={random_time}, Locatie=({random_lat},{random_lon})\")\n",
    "plt.xlabel(\"Ensemblelid\")\n",
    "plt.ylabel(\"Vermogen (Watt)\")\n",
    "plt.grid(True, axis='y')\n",
    "plt.tight_layout()\n",
    "plt.show()\n"
   ]
  },
  {
   "cell_type": "code",
   "execution_count": null,
   "id": "3e60755a-4e58-4515-b601-30c2791d8778",
   "metadata": {
    "tags": []
   },
   "outputs": [],
   "source": [
    "# Check shape\n",
    "print(\"Sample shape:\", sample.shape)\n",
    "assert sample.ndim == 4, \"Verwacht shape (time, ensemble, lat, lon)\"\n",
    "\n",
    "time_len, ens_len, lat_len, lon_len = sample.shape\n",
    "\n",
    "# Kies een random gridlocatie\n",
    "random_lat = np.random.randint(0, lat_len)\n",
    "random_lon = np.random.randint(0, lon_len)\n",
    "\n",
    "# Neem eerste 4 tijdstappen (één dag)\n",
    "time_indices = np.arange(4)\n",
    "\n",
    "# Plot lijn per ensemblelid\n",
    "import matplotlib.pyplot as plt\n",
    "plt.figure(figsize=(9, 5))\n",
    "for ens in range(ens_len):\n",
    "    plt.plot(time_indices, sample[time_indices, ens, random_lat, random_lon],\n",
    "             marker='o', alpha=0.6, label=f'Ens {ens}')\n",
    "\n",
    "plt.title(f\"Voorspeld vermogen per ensemblelid over 1 dag\\nLocatie=({random_lat},{random_lon})\")\n",
    "plt.xlabel(\"6-uurs tijdsblok\")\n",
    "plt.xticks(ticks=range(4), labels=[\"00–06\", \"06–12\", \"12–18\", \"18–24\"])\n",
    "plt.ylabel(\"Vermogen (Watt)\")\n",
    "plt.grid(True)\n",
    "plt.tight_layout()\n",
    "plt.show()"
   ]
  },
  {
   "cell_type": "code",
   "execution_count": null,
   "id": "abe06e27-c9c6-4d2f-a5eb-b7413f8f2a0d",
   "metadata": {},
   "outputs": [],
   "source": []
  }
 ],
 "metadata": {
  "kernelspec": {
   "display_name": "Python 3 (ipykernel)",
   "language": "python",
   "name": "python3"
  },
  "language_info": {
   "codemirror_mode": {
    "name": "ipython",
    "version": 3
   },
   "file_extension": ".py",
   "mimetype": "text/x-python",
   "name": "python",
   "nbconvert_exporter": "python",
   "pygments_lexer": "ipython3",
   "version": "3.10.10"
  }
 },
 "nbformat": 4,
 "nbformat_minor": 5
}
