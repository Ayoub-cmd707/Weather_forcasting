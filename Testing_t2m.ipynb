{
 "cells": [
  {
   "cell_type": "code",
   "execution_count": 1,
   "id": "f03442e1-82e9-45cd-8802-f0eaab01c3f4",
   "metadata": {
    "tags": []
   },
   "outputs": [],
   "source": [
    "import xarray as xr\n",
    "import os, sys\n",
    "import torch\n",
    "import numpy as np\n",
    "import matplotlib.pyplot as plt\n",
    "import matplotlib\n",
    "from xskillscore import crps_ensemble, crps_gaussian\n",
    "module_path = '/home/jupyter-aaron/Postprocessing/PP_EUPP'\n",
    "if module_path not in sys.path:\n",
    "    sys.path.append(module_path)\n",
    "from Transformer import StackedTransformer"
   ]
  },
  {
   "cell_type": "code",
   "execution_count": 2,
   "id": "a2eace9b-3300-484e-9132-157365bc09fd",
   "metadata": {
    "tags": []
   },
   "outputs": [],
   "source": [
    "def fair_crps_ensemble(observations, forecasts, axis=0):\n",
    "\n",
    "    # Convert inputs to numpy arrays if they're not already\n",
    "    forecasts = np.asarray(forecasts)\n",
    "    observations = np.asarray(observations)\n",
    "    \n",
    "    if axis != 1:\n",
    "        forecasts = np.moveaxis(forecasts, axis, 1)\n",
    "    \n",
    "    # Get number of ensemble members\n",
    "    m = forecasts.shape[1]\n",
    "    \n",
    "    # Calculate dxy: sum of absolute differences between forecasts and observations\n",
    "    # Add a dimension to observations to allow broadcasting\n",
    "    observations_expanded = np.expand_dims(observations, axis=1)\n",
    "    dxy = np.sum(np.abs(forecasts - observations_expanded), axis=1)\n",
    "    \n",
    "    # Calculate dxx: sum of absolute differences between all pairs of ensemble members\n",
    "    # Add dimensions to enable broadcasting for pairwise differences\n",
    "    forecast_i = np.expand_dims(forecasts, axis=2)  # [batch, ens, 1, ...]\n",
    "    forecast_j = np.expand_dims(forecasts, axis=1)  # [batch, 1, ens, ...]\n",
    "    dxx = np.sum(np.abs(forecast_i - forecast_j), axis=(1, 2))\n",
    "    \n",
    "    # Calculate CRPS using the kernel approximation formula\n",
    "    crps = dxy / m - dxx / (m * (m - 1) * 2)\n",
    "    \n",
    "    return crps"
   ]
  },
  {
   "cell_type": "markdown",
   "id": "70466718-5605-42d6-92e4-49569a34aa75",
   "metadata": {
    "tags": []
   },
   "source": [
    "## Test trained models on 2017 data"
   ]
  },
  {
   "cell_type": "markdown",
   "id": "60d06df7-a88e-44d9-85c1-0e88cdea0b8e",
   "metadata": {
    "tags": []
   },
   "source": [
    "### Data preparation"
   ]
  },
  {
   "cell_type": "code",
   "execution_count": 3,
   "id": "b67c2d5a-4dca-44ff-8f7d-e44a0655827a",
   "metadata": {
    "tags": []
   },
   "outputs": [],
   "source": [
    "test_rfcs=xr.open_dataset(\"/home/jupyter-aaron/Postprocessing/PP_EUPP/data/TEST/test_reforecast.nc\")\n",
    "obs=xr.open_dataset(\"/home/jupyter-aaron/Postprocessing/PP_EUPP/data/TEST/test_observation.nc\")"
   ]
  },
  {
   "cell_type": "code",
   "execution_count": 4,
   "id": "89f87978-2e68-475a-8828-a97f6a319b74",
   "metadata": {
    "tags": []
   },
   "outputs": [],
   "source": [
    "test_rfcs=test_rfcs\n",
    "obs=obs"
   ]
  },
  {
   "cell_type": "code",
   "execution_count": 7,
   "id": "561f810f-b0e9-4142-837e-57b90a6c30de",
   "metadata": {
    "tags": []
   },
   "outputs": [
    {
     "name": "stdout",
     "output_type": "stream",
     "text": [
      "<xarray.Dataset> Size: 3GB\n",
      "Dimensions:        (time: 209, number: 11, step: 20, latitude: 32, longitude: 33)\n",
      "Coordinates:\n",
      "  * latitude       (latitude) float64 256B 53.5 53.25 53.0 ... 46.25 46.0 45.75\n",
      "  * longitude      (longitude) float64 264B 2.5 2.75 3.0 ... 10.0 10.25 10.5\n",
      "  * number         (number) int64 88B 0 1 2 3 4 5 6 7 8 9 10\n",
      "    surface        float64 8B ...\n",
      "  * time           (time) datetime64[ns] 2kB 2017-01-02 ... 2018-12-31\n",
      "    valid_time     (time, step) datetime64[ns] 33kB ...\n",
      "    year           int64 8B ...\n",
      "  * step           (step) float64 160B 6.0 12.0 18.0 24.0 ... 108.0 114.0 120.0\n",
      "    isobaricInhPa  float64 8B ...\n",
      "Data variables: (12/17)\n",
      "    t2m            (time, number, step, latitude, longitude) float32 194MB ...\n",
      "    z              (time, number, step, latitude, longitude) float32 194MB ...\n",
      "    t              (time, number, step, latitude, longitude) float32 194MB ...\n",
      "    u10            (time, number, step, latitude, longitude) float32 194MB ...\n",
      "    v10            (time, number, step, latitude, longitude) float32 194MB ...\n",
      "    tcc            (time, number, step, latitude, longitude) float32 194MB ...\n",
      "    ...             ...\n",
      "    w100           (time, number, step, latitude, longitude) float32 194MB ...\n",
      "    u              (time, number, step, latitude, longitude) float32 194MB ...\n",
      "    w700           (time, number, step, latitude, longitude) float32 194MB ...\n",
      "    p10fg6         (time, number, step, latitude, longitude) float32 194MB ...\n",
      "    v100           (time, number, step, latitude, longitude) float32 194MB ...\n",
      "    v              (time, number, step, latitude, longitude) float32 194MB ...\n",
      "Attributes:\n",
      "    Conventions:             CF-1.7\n",
      "    GRIB_centre:             ecmf\n",
      "    GRIB_centreDescription:  European Centre for Medium-Range Weather Forecasts\n",
      "    GRIB_edition:            1\n",
      "    GRIB_subCentre:          0\n",
      "    history:                 2022-07-08T08:03 GRIB to CDM+CF via cfgrib-0.9.1...\n",
      "    institution:             European Centre for Medium-Range Weather Forecasts\n"
     ]
    }
   ],
   "source": [
    "print(test_rfcs)"
   ]
  },
  {
   "cell_type": "code",
   "execution_count": null,
   "id": "e17f5e6a-f015-4913-98d2-bb7af1e43258",
   "metadata": {
    "tags": []
   },
   "outputs": [],
   "source": [
    "target='t2m'  \n",
    "obs=obs[target]\n",
    "test_rfcs=test_rfcs.drop_vars([\"u100\", \"w100\",\"u\", \"v\", \"w700\", \"v100\"])"
   ]
  },
  {
   "cell_type": "code",
   "execution_count": 6,
   "id": "3d57b1a5-99a4-4730-9472-55ef1d7a0b69",
   "metadata": {
    "tags": []
   },
   "outputs": [
    {
     "name": "stdout",
     "output_type": "stream",
     "text": [
      "['t2m', 'w10', 'w100_obs']\n"
     ]
    }
   ],
   "source": [
    "print(list(obs.data_vars))"
   ]
  },
  {
   "cell_type": "code",
   "execution_count": null,
   "id": "c1b76310-f106-4b19-ba4a-8be1f398ec2f",
   "metadata": {},
   "outputs": [],
   "source": [
    "#add orography as a variable\n",
    "oro=xr.open_dataset('/home/jupyter-aaron/Postprocessing/TfMBM_wind/baselines/data/oro.nc') \n",
    "dims={'time' : test_rfcs['time'],\n",
    "       'number': test_rfcs['number'],\n",
    "       'step': test_rfcs['step']}\n",
    "xds_oro=oro.expand_dims(time=dims['time'], number=dims['number'],step=dims['step'])\n",
    "dummy_oro=xr.Dataset(coords=dims)\n",
    "final_oro=xds_oro.broadcast_like(dummy_oro)"
   ]
  },
  {
   "cell_type": "code",
   "execution_count": null,
   "id": "b1b5b4f1-d333-41a9-871d-a28cf2a3c060",
   "metadata": {},
   "outputs": [],
   "source": [
    "fcs_10=xr.merge([test_rfcs,final_oro])\n",
    "dummy=xr.merge([test_rfcs,final_oro])"
   ]
  },
  {
   "cell_type": "code",
   "execution_count": null,
   "id": "f7ea92bc-e710-48f8-8644-c0a8b438b8d7",
   "metadata": {},
   "outputs": [],
   "source": [
    "#normalizing\n",
    "min_max_values={\"t2m\":(235, 304), \"z\": (48200, 58000), \"t\":(240, 299), \"u10\": (-13., 11.),\"v10\": (-30,35), \"tcc\": (0., 1.0),\"sd\":(0,8),\"mx2t6\":(230,320),\"mn2t6\":(225,315),\"v\":(-50,55), \"w100\":(0,50),\"w10\":(0,30), \"u100\": (-35,45), \"u\": (-45,60),\"v100\":(-40,45), \"w700\": (0,60), \"p10fg6\": (0,60), \"oro\":(-400,2800)}\n",
    "# Function to normalize using vectorized operations\n",
    "def minmax_normalize(ds, min_max_values):\n",
    "    for var in ds.data_vars:\n",
    "        if var in min_max_values:\n",
    "            min_val, max_val = min_max_values[var]\n",
    "            ds[var] = (ds[var] - min_val) / (max_val - min_val)\n",
    "    return ds\n",
    "\n",
    "def z_normalize(ds):\n",
    "    for var in ds.data_vars:\n",
    "        ds[var] = ds[var].copy()  # Ensure the variable is writable\n",
    "        \n",
    "        for t in range(len(ds[\"time\"])):  # Loop over time dimension\n",
    "            mean = ds[var].isel(time=t).mean()\n",
    "            std = ds[var].isel(time=t).std()\n",
    "            ds[var].loc[dict(time=ds[\"time\"][t])] = (ds[var].isel(time=t) - mean) / std\n",
    "\n",
    "    return ds\n",
    "\n",
    "\n",
    "\n",
    "\n",
    "dummy_norm=minmax_normalize(dummy,min_max_values)\n",
    "fcs_norm=dummy_norm"
   ]
  },
  {
   "cell_type": "code",
   "execution_count": null,
   "id": "198b71f6-8884-44e4-8455-defaec3f1f57",
   "metadata": {},
   "outputs": [],
   "source": [
    "%reload_ext autoreload\n",
    "model =  StackedTransformer(num_blocks=4, n_data_shape=(2, 32, 33, 12), n_heads=8,mlp_mult=4,projection_channels=64)"
   ]
  },
  {
   "cell_type": "markdown",
   "id": "3b005b11-99ff-4ba8-821f-c41c0d96ca97",
   "metadata": {},
   "source": [
    "### Actual testing"
   ]
  },
  {
   "cell_type": "code",
   "execution_count": null,
   "id": "00d6c32c-acd6-444d-86a8-d0759b01bda7",
   "metadata": {},
   "outputs": [],
   "source": [
    "#this is where the last run is stored \n",
    "checkpoint_path = f'/home/jupyter-aaron/Postprocessing/PP_EUPP/results/Transformerweights/{target}/epochs50predictors12CRPSlambda0.02k3.3_910LEADTIMES.pth'\n",
    "# Load the checkpoint\n",
    "checkpoint = torch.load(checkpoint_path, weights_only=False)\n",
    "model_state_dict = checkpoint['model']\n",
    "new_state_dict = {k.replace(\"module.\", \"\"): v for k, v in model_state_dict.items()}\n",
    "model.load_state_dict(new_state_dict)\n",
    "total_params = sum(p.numel() for p in model.parameters())\n",
    "print(\"Total number of parameters: \", total_params)"
   ]
  },
  {
   "cell_type": "code",
   "execution_count": null,
   "id": "7b9806e1-80cb-4fec-ac90-928649d220f7",
   "metadata": {},
   "outputs": [],
   "source": [
    "#turn the normalized reforecasts into a tensor\n",
    "fcs_norm_whole= fcs_norm.to_array(dim='variable')\n",
    "rearranged_10= fcs_norm_whole.transpose('time', 'number','step', 'latitude', 'longitude', 'variable')\n",
    "fcs_whole_tensor=torch.tensor(rearranged_10.values)\n",
    "print(fcs_whole_tensor.shape) "
   ]
  },
  {
   "cell_type": "code",
   "execution_count": null,
   "id": "9228d4d0-1de0-4ce5-bae8-920abe395310",
   "metadata": {},
   "outputs": [],
   "source": [
    "#same for unnormalized data, because I need them for the rescaling \n",
    "fcs_array_10 =fcs_10.to_array(dim='variable')\n",
    "fcs_rearranged_10= fcs_array_10.transpose('time', 'number','step', 'latitude', 'longitude', 'variable')\n",
    "fcs_whole_notnorm_tensor=torch.tensor(fcs_rearranged_10.values)\n",
    "print(fcs_whole_notnorm_tensor.shape)"
   ]
  },
  {
   "cell_type": "code",
   "execution_count": null,
   "id": "4d538b79-743d-4e2d-bd45-0c6fd177cc83",
   "metadata": {},
   "outputs": [],
   "source": [
    "import torch\n",
    "postpro_10_whole = torch.empty((209,11,2,32,33,1))\n",
    "\n",
    "# Apply model in chunks of 10\n",
    "with torch.no_grad():\n",
    "    for i in range(0, 209, 2):\n",
    "        # Get the end index for this chunk\n",
    "        end = min(i + 2, 209)  # Ensure we don't go out of bounds\n",
    "\n",
    "        # Apply the model to the chunk and store in the corresponding location in postpro_10_whole\n",
    "        postpro_10_whole[i:end] = model(fcs_whole_tensor[i:end])\n"
   ]
  },
  {
   "cell_type": "code",
   "execution_count": null,
   "id": "8cc60fa9-ea9f-434d-8614-42f6f157524c",
   "metadata": {},
   "outputs": [],
   "source": [
    "MBM_one=np.empty((209,11,20,32,33),dtype=float)\n",
    "MBM_all= np.empty((209,11,20,32,33),dtype=float)\n",
    "for i in range(20):\n",
    "    mbm1=np.load(f\"/home/jupyter-aaron/Postprocessing/PP_EUPP/ClassicalMBM/resultsClassicalMBM/t2m/MBM_t2m_{i}_pred1.npy\")\n",
    "    MBM_one[:,:,i,:,:]=mbm1.squeeze()\n",
    "    mbm_all=np.load(f\"/home/jupyter-aaron/Postprocessing/PP_EUPP/ClassicalMBM/resultsClassicalMBM/t2m/MBM_t2m_{i}_pred11.npy\")\n",
    "    MBM_all[:,:,i,:,:]=mbm_all.squeeze()"
   ]
  },
  {
   "cell_type": "code",
   "execution_count": null,
   "id": "e09c232d-497a-49c2-8059-c13d170588eb",
   "metadata": {},
   "outputs": [],
   "source": [
    "#np.save(\"/home/jupyter-aaron/Postprocessing/PP_EUPP/ClassicalMBM/resultsClassicalMBM/t2m/MBM_t2m_all.npy\",MBM_all)\n",
    "#np.save(\"/home/jupyter-aaron/Postprocessing/PP_EUPP/ClassicalMBM/resultsClassicalMBM/t2m/MBM_t2m_one.npy\",MBM_one)"
   ]
  },
  {
   "cell_type": "code",
   "execution_count": null,
   "id": "149df00b-f495-45c9-a2f8-349e9ac54bcb",
   "metadata": {},
   "outputs": [],
   "source": [
    "MBM_all=np.load(\"/home/jupyter-aaron/Postprocessing/PP_EUPP/ClassicalMBM/resultsClassicalMBM/t2m/MBM_t2m_all.npy\")\n",
    "MBM_one=np.load(\"/home/jupyter-aaron/Postprocessing/PP_EUPP/ClassicalMBM/resultsClassicalMBM/t2m/MBM_t2m_one.npy\")\n",
    "#postpro_1_whole = torch.load(\"postpro_1_whole_t2m_all.pt\")\n",
    "# = torch.load(\"postpro_10_whole_t2m_all.pt\")\n",
    "ensemble_all=postpro_10_whole[...,0]\n",
    "#ensemble_one = postpro_1_whole[...,0]\n",
    "values_tar = fcs_whole_notnorm_tensor[:,:,:,:,:,0] #torch.Size([26, 11, 32, 33])\n",
    "scale_std, scale_mean= torch.std_mean(values_tar, dim=1, unbiased=True)\n",
    "scaled_ensemble_all=(ensemble_all * scale_std.unsqueeze(1) + scale_mean.unsqueeze(1)).permute(1, 0, 2, 3, 4)\n",
    "#scaled_ensemble_one=(ensemble_one * scale_std.unsqueeze(1) + scale_mean.unsqueeze(1)).permute(1, 0, 2, 3, 4)"
   ]
  },
  {
   "cell_type": "code",
   "execution_count": null,
   "id": "2b18832c-ea09-4bf4-a9b6-0462e24cca22",
   "metadata": {
    "scrolled": true
   },
   "outputs": [],
   "source": [
    "# Define coordinates with member first\n",
    "coords_forecast = {\n",
    "    'member': test_rfcs['number'].rename({'number': 'member'}),\n",
    "    'time': obs['time'],\n",
    "    'step': obs['step'],\n",
    "    'latitude': obs['latitude'],\n",
    "    'longitude': obs['longitude'],\n",
    "}\n",
    "\n",
    "\n",
    "# Define dimensions with member first\n",
    "dims_forecast = ('member', 'time', 'step', 'latitude', 'longitude')\n",
    "\n",
    "# Convert numpy arrays to xarray DataArray with the specified order\n",
    "MBM_all=xr.DataArray(np.transpose(MBM_all,(1,0,2,3,4)), coords=coords_forecast, dims=dims_forecast)\n",
    "MBM_one=xr.DataArray(np.transpose(MBM_one,(1,0,2,3,4)), coords=coords_forecast, dims=dims_forecast)\n",
    "full_ensemble_all = xr.DataArray(scaled_ensemble_all, coords=coords_forecast, dims=dims_forecast)\n",
    "#full_ensemble_one= xr.DataArray(scaled_ensemble_one, coords=coords_forecast, dims=dims_forecast)\n",
    "# Compute mean and std across the member dimension\n",
    "mean_all = full_ensemble_all.mean(dim='member')\n",
    "std_all = full_ensemble_all.std(dim='member')\n",
    "\n",
    "#mean_one = full_ensemble_one.mean(dim='member')\n",
    "#std_one = full_ensemble_one.std(dim='member')\n",
    "\n",
    "# Adjust raw_fcs to have 'member' first\n",
    "raw_fcs = test_rfcs.rename({'number': 'member'})\n",
    "raw_fcs = raw_fcs.transpose('member', 'time', 'step', 'latitude', 'longitude')\n",
    "raw_mean=raw_fcs.mean(dim='member')\n",
    "raw_std=raw_fcs.std(dim='member')"
   ]
  },
  {
   "cell_type": "code",
   "execution_count": null,
   "id": "c30282ae-b8da-4235-b2a2-6e8cc31ec6f5",
   "metadata": {},
   "outputs": [],
   "source": [
    "#ALL ENSEMBLES\n",
    "Tformer_all=full_ensemble_all\n",
    "#Tformer_one=full_ensemble_one\n",
    "MBM_all = MBM_all\n",
    "MBM_one = MBM_one\n",
    "Raw = raw_fcs[target]\n",
    "obs=obs.squeeze()"
   ]
  },
  {
   "cell_type": "code",
   "execution_count": null,
   "id": "a43cbe71-ca0d-473e-8f99-957b37d879a6",
   "metadata": {},
   "outputs": [],
   "source": [
    "# np.save(\"Tformer_t2m_all.npy\",Tformer_all)\n",
    "# np.save(\"Tformer_t2m_one.npy\",Tformer_one)\n",
    "# np.save(\"Raw_t2m.npy\",Raw)\n",
    "# np.save(\"obs_t2m.npy\",obs)\n",
    "# np.save(\"MBM_t2m_all.npy\",MBM_all)\n",
    "# np.save(\"MBM_t2m_one.npy\",MBM_one)"
   ]
  },
  {
   "cell_type": "code",
   "execution_count": null,
   "id": "ac93a20a-1ef6-403b-9d3f-2228f776b168",
   "metadata": {},
   "outputs": [],
   "source": [
    "import xskillscore as xs\n",
    "\n",
    "output_dir = \"/home/jupyter-aaron/Postprocessing/PP_EUPP/results/CRPS\"\n",
    "os.makedirs(output_dir, exist_ok=True)\n",
    "\n",
    "# Load observations (assuming you have them)\n",
    "observations = obs\n",
    "\n",
    "# Dictionary of ensemble forecasts\n",
    "ensembles = {\n",
    "    \"Tformer_all\": Tformer_all,\n",
    "    #\"Tformer_one\": Tformer_one,\n",
    "    #\"MBM_all\": MBM_all,\n",
    "    #\"MBM_one\": MBM_one,\n",
    "    #\"Raw\": raw_fcs\n",
    "}\n",
    "\n",
    "# Process each ensemble\n",
    "for name, ensemble in ensembles.items():\n",
    "    print(f\"Processing {name}...\")\n",
    "    \n",
    "    obs_broadcast = observations\n",
    "    \n",
    "    # Initialize arrays to store CRPS values\n",
    "    # Assuming we compute CRPS for each leadtime\n",
    "    n_leadtimes = ensemble.shape[2]\n",
    "    gaussian_crps = np.zeros(n_leadtimes)\n",
    "    fair_crps = np.zeros(n_leadtimes)\n",
    "    \n",
    "    # Compute CRPS for each leadtime\n",
    "    for lt in range(n_leadtimes):\n",
    "        \n",
    "        # Extract data for this leadtime\n",
    "        ensemble_lt = ensemble[:, :, lt, :, :]  # (member, time, lat, lon)\n",
    "        obs_lt = obs_broadcast[:, lt, :, :]  # (time, lat, lon)\n",
    "        \n",
    "        # Convert to xarray for xs.crps_gaussian\n",
    "        ensemble_xr = xr.DataArray(\n",
    "            ensemble_lt, \n",
    "            dims=[\"member\", \"time\", \"latitude\", \"longitude\"]\n",
    "        )\n",
    "        obs_xr = xr.DataArray(\n",
    "            obs_lt,\n",
    "            dims=[\"time\", \"latitude\", \"longitude\"]\n",
    "        )\n",
    "        \n",
    "        # Compute Gaussian CRPS\n",
    "        # Mean and standard deviation along member dimension\n",
    "        mean = ensemble_xr.mean(dim=\"member\")\n",
    "        std = ensemble_xr.std(dim=\"member\")\n",
    "        g_crps = xs.crps_gaussian(obs_xr, mean, std)\n",
    "        gaussian_crps[lt] = g_crps.mean().values\n",
    "        \n",
    "        # Compute fair ensemble CRPS\n",
    "        f_crps = fair_crps_ensemble(obs_lt, ensemble_lt, axis=0)\n",
    "        fair_crps[lt] = np.mean(f_crps)\n",
    "    \n",
    "    # Save results\n",
    "    np.save(f\"{output_dir}/{name}_gaussian_crps.npy\", gaussian_crps)\n",
    "    np.save(f\"{output_dir}/{name}_fair_crps.npy\", fair_crps)\n",
    "    \n",
    "\n",
    "print(\"All CRPS computations complete!\")"
   ]
  },
  {
   "cell_type": "code",
   "execution_count": null,
   "id": "b9e2f64f-b6ff-44c2-a0f9-f254dd5fb95f",
   "metadata": {},
   "outputs": [],
   "source": [
    "np.load(\"./CRPS/Tformer_all_gaussian_crps.npy\")"
   ]
  },
  {
   "cell_type": "code",
   "execution_count": null,
   "id": "90ae17e4-0bcd-4bbe-aa81-ecf188f8d841",
   "metadata": {},
   "outputs": [],
   "source": [
    "CRPS_TF = np.load(\"./CRPS/Tformer_all_fair_crps.npy\")\n",
    "CRPS_TF_1 = np.load(\"./CRPS/Tformer_one_fair_crps.npy\")\n",
    "CRPS_TF_G = np.load(\"./CRPS/Tformer_all_gaussian_crps.npy\")\n",
    "CRPS_TF_1_G = np.load(\"./CRPS/Tformer_one_gaussian_crps.npy\")\n",
    "CRPS_MBM = np.load(\"./CRPS/MBM_all_fair_crps.npy\")\n",
    "CRPS_MBM_1 = np.load(\"./CRPS/MBM_one_fair_crps.npy\")\n",
    "CRPS_MBM_G = np.load(\"./CRPS/MBM_all_gaussian_crps.npy\")\n",
    "CRPS_MBM_1_G = np.load(\"./CRPS/MBM_one_gaussian_crps.npy\")\n",
    "CRPS_OG=np.load(\"./CRPS/Raw_fair_crps.npy\")\n",
    "CRPS_OG_G=np.load(\"./CRPS/Raw_gaussian_crps.npy\")\n",
    "meanOG=np.mean(CRPS_OG)\n",
    "meanOG_g=np.mean(CRPS_OG_G)\n",
    "meanmbm= np.mean(CRPS_MBM)\n",
    "meanmbm_1=np.mean(CRPS_MBM_1)\n",
    "meanmbm_g =np.mean(CRPS_MBM_G)\n",
    "meanmbm_1_g=np.mean(CRPS_MBM_1_G)\n",
    "meantf=np.mean(CRPS_TF)\n",
    "meantf_1=np.mean(CRPS_TF_1)\n",
    "meantf_g = np.mean(CRPS_TF_G)\n",
    "meantf_1_g=np.mean(CRPS_TF_1_G)\n",
    "print(meanOG,meanOG_g,meanmbm,meanmbm_1,meanmbm_g,meanmbm_1_g,meantf,meantf_1,meantf_g,meantf_1_g)"
   ]
  },
  {
   "cell_type": "code",
   "execution_count": null,
   "id": "09bd10e4-86a0-4f79-965f-6af7feb84955",
   "metadata": {},
   "outputs": [],
   "source": [
    "#CRPS WITHOUT GAUSSIAN ASSUMPTION\n",
    "Leadtimes=obs.step.values\n",
    "matplotlib.rcParams['text.usetex'] = False\n",
    "plt.figure(figsize=(10, 5))\n",
    "plt.plot(Leadtimes, CRPS_OG, color='red', marker='o', label='Original')\n",
    "plt.plot(Leadtimes, CRPS_TF, color='blue',linestyle=':', marker='d' ,label='Postprocessed,Transformer All pred')\n",
    "plt.plot(Leadtimes, CRPS_TF_1, color='cyan',linestyle=':', marker='d' ,alpha=0.5,label='Postprocessed,Transformer 1 pred')\n",
    "plt.plot(Leadtimes, CRPS_MBM_1, color='brown',linestyle=':', marker='*',alpha=0.5, label='Postprocessed, Classical MBM 1 pred')\n",
    "plt.plot(Leadtimes, CRPS_MBM, color='black',linestyle=':', marker='*', label='Postprocessed, Classical MBM All pred')\n",
    "\n",
    "\n",
    "plt.axhline(y=meanOG, color='red',linestyle=':')\n",
    "plt.axhline(y=meantf, color='blue',linestyle=':')\n",
    "plt.axhline(y=meantf_1, color='cyan',linestyle=':')\n",
    "plt.axhline(y=meanmbm, color='black',linestyle=':')\n",
    "plt.axhline(y=meanmbm_1, color='brown',linestyle=':')\n",
    "\n",
    "# Set title and labels\n",
    "plt.title('Ensemble CRPS per lead time (Temperature)', fontsize=22)\n",
    "plt.xlabel('Forecast lead time [hours]', fontsize=18)\n",
    "plt.ylabel('CRPS [°C]', fontsize=18)\n",
    "\n",
    "# Set y-axis limits and x-axis ticks\n",
    "plt.xlim(0,124)\n",
    "plt.ylim(0.6,1.3)\n",
    "\n",
    "# Set tick label size and show legend\n",
    "plt.tick_params(axis='both', labelsize=12)\n",
    "plt.legend(fontsize=12)\n",
    "\n",
    "# Adjust layout and show the plot\n",
    "plt.tight_layout()\n",
    "#plt.savefig(\"CRPS_leadtime_all.png\")\n",
    "plt.show()"
   ]
  },
  {
   "cell_type": "code",
   "execution_count": null,
   "id": "96c1e7a9-b1ed-4be0-bcec-b0c5e257749c",
   "metadata": {},
   "outputs": [],
   "source": [
    "#CPRS WITH GAUSSIAN ASSUMPTION\n",
    "matplotlib.rcParams['text.usetex'] = False\n",
    "plt.figure(figsize=(10, 5))\n",
    "plt.plot(Leadtimes, CRPS_OG_G, color='red', marker='o', label='Original')\n",
    "plt.plot(Leadtimes, CRPS_TF_G, color='blue',linestyle=':', marker='d' ,label='Postprocessed,Transformer All pred')\n",
    "plt.plot(Leadtimes, CRPS_TF_1_G, color='cyan',linestyle=':', marker='d' ,alpha=0.5,label='Postprocessed,Transformer 1 pred')\n",
    "plt.plot(Leadtimes, CRPS_MBM_1_G, color='brown',linestyle=':', marker='*',alpha=0.5, label='Postprocessed, Classical MBM 1 pred')\n",
    "plt.plot(Leadtimes, CRPS_MBM_G, color='black',linestyle=':', marker='*', label='Postprocessed, Classical MBM All pred')\n",
    "\n",
    "\n",
    "plt.axhline(y=meanOG_g, color='red',linestyle=':')\n",
    "plt.axhline(y=meantf_g, color='blue',linestyle=':')\n",
    "plt.axhline(y=meantf_1_g, color='cyan',linestyle=':')\n",
    "plt.axhline(y=meanmbm_g, color='black',linestyle=':')\n",
    "plt.axhline(y=meanmbm_1_g, color='brown',linestyle=':')\n",
    "\n",
    "# Set title and labels\n",
    "plt.title('Ensemble CRPS per lead time (Temperature)', fontsize=22)\n",
    "plt.xlabel('Forecast lead time [hours]', fontsize=18)\n",
    "plt.ylabel('CRPS [°C]', fontsize=18)\n",
    "\n",
    "# Set y-axis limits and x-axis ticks\n",
    "plt.xlim(0,124)\n",
    "plt.ylim(0.6,1.38)\n",
    "\n",
    "# Set tick label size and show legend\n",
    "plt.tick_params(axis='both', labelsize=12)\n",
    "plt.legend(fontsize=12)\n",
    "\n",
    "# Adjust layout and show the plot\n",
    "plt.tight_layout()\n",
    "#plt.savefig(\"CRPS_leadtime_all.png\")\n",
    "plt.show()"
   ]
  },
  {
   "cell_type": "code",
   "execution_count": null,
   "id": "5d44b08e-b427-4ae0-a1f5-ecbd88572404",
   "metadata": {},
   "outputs": [],
   "source": [
    "#Example of an ensemble\n",
    "np.random.seed(156)  # For reproducibility #156\n",
    "random_time = np.random.randint(0, Tformer_all.sizes[\"time\"])\n",
    "random_lat = np.random.randint(0, Tformer_all.sizes[\"latitude\"])\n",
    "random_lon = np.random.randint(0, Tformer_all.sizes[\"longitude\"])\n",
    "\n",
    "# Extract data for all 11 ensemble members at the chosen location\n",
    "TF = Tformer_all[:, random_time, :, random_lat, random_lon]  # Shape: (11, step)\n",
    "MBM = MBM_all[:, random_time, :, random_lat, random_lon]  # Shape: (11, step)\n",
    "OBS = obs[random_time, :, random_lat, random_lon] \n",
    "RAW = raw_fcs[:, random_time, :, random_lat, random_lon]  # Shape: (11, step)\n",
    "# Plot all ensemble members as a function of step\n",
    "plt.figure(figsize=(10, 6))\n",
    "#plt.plot(MBM_all.step, np.mean(RAW,axis=0),color='red',alpha=0.8,label=\"Raw Forecasts\")\n",
    "plt.plot(MBM_all.step, np.mean(MBM,axis=0),color='black',alpha=0.8,label=\"Classical MBM\")\n",
    "plt.plot(Tformer_all.step, np.mean(TF,axis=0),color='blue',alpha=0.8,label=\"Transformer\")\n",
    "plt.plot(MBM_all.step, OBS,color='green',alpha=0.8,label=\"Observations\")\n",
    "for member in range(TF.sizes[\"member\"]):\n",
    "    plt.plot(Tformer_all.step, TF[member, :],color='blue',alpha=0.2)\n",
    "    plt.plot(MBM_all.step, MBM[member, :],color='black',alpha=0.2)\n",
    "    #plt.plot(raw_fcs.step, RAW[member,:],color='red',alpha=0.2)\n",
    "\n",
    "# Formatting the plot\n",
    "plt.xlabel(\"Timestep, \")\n",
    "plt.ylabel(\"Temperature\")\n",
    "plt.title(\"Temperature, randomly selected day\",fontsize=\"20\")\n",
    "plt.legend(loc=\"upper right\", fontsize=12, ncol=2)\n",
    "plt.grid(True)\n",
    "plt.show()"
   ]
  },
  {
   "cell_type": "markdown",
   "id": "63b093fd-482e-4327-b5a2-7346607e652b",
   "metadata": {},
   "source": [
    "### Gaussian crps "
   ]
  },
  {
   "cell_type": "code",
   "execution_count": null,
   "id": "12682e04-c1cb-4b8d-9a6f-17557ff1f0e7",
   "metadata": {},
   "outputs": [],
   "source": [
    "ensemble_all=postpro_10_whole[...,0]\n",
    "tf_mu=torch.mean(ensemble_all,axis=1)\n",
    "tf_std=torch.std(ensemble_all,axis=1)\n",
    "tf_mu=tf_mu*scale_std + scale_mean\n",
    "tf_std=torch.exp(tf_std)*scale_std\n",
    "MBM_mu=np.mean(MBM_all,axis=1)\n",
    "MBM_std=np.std(MBM_all,axis=1)"
   ]
  },
  {
   "cell_type": "code",
   "execution_count": null,
   "id": "ca9e0c70-b10e-42f8-a04a-6887c7406d86",
   "metadata": {},
   "outputs": [],
   "source": [
    "coords_forecast = {\n",
    "    'time': obs['time'],  # time dimension\n",
    "    'step':obs['step'],\n",
    "    'latitude': obs['latitude'],  # Latitude dimension\n",
    "    'longitude':obs['longitude'],  # Longitude dimension\n",
    "}\n",
    "dims_forecast = ('time','step',  'latitude', 'longitude')  # Dimensions in order\n"
   ]
  },
  {
   "cell_type": "code",
   "execution_count": null,
   "id": "df520cf1-5c89-456b-aa37-b4de4e318f1d",
   "metadata": {},
   "outputs": [],
   "source": [
    "tf_mu = xr.DataArray(tf_mu, coords=coords_forecast, dims=dims_forecast)\n",
    "tf_std =xr.DataArray(tf_std, coords=coords_forecast, dims=dims_forecast)\n",
    "MBM_mu = xr.DataArray(MBM_mu, coords=coords_forecast, dims=dims_forecast)\n",
    "MBM_std =xr.DataArray(MBM_std, coords=coords_forecast, dims=dims_forecast)"
   ]
  },
  {
   "cell_type": "code",
   "execution_count": null,
   "id": "7998c509-4a82-426f-b620-13f1ebadecb3",
   "metadata": {},
   "outputs": [],
   "source": [
    "np.save(\"TF_mu.npy\", tf_mu)\n",
    "np.save(\"TF_std.npy\",tf_std)"
   ]
  },
  {
   "cell_type": "code",
   "execution_count": null,
   "id": "ffa96e72-e02b-41b4-943c-42c71c2efd81",
   "metadata": {},
   "outputs": [],
   "source": [
    "Leadtimes=list(fcs_10.step.values)\n",
    "CRPS_OG=[]\n",
    "CRPS_TF=[]\n",
    "CRPS_MBM=[]\n",
    "for i in range(len(fcs_10.step)):\n",
    "    mu_OG=fcs_rearranged_10.isel(step=i).sel(variable='t2m').mean(dim='number')\n",
    "    sigma_OG=fcs_rearranged_10.isel(step=i).sel(variable='t2m').std(dim='number')\n",
    "    mu_postpro=tf_mu.isel(step=i)\n",
    "    sigma_postpro= tf_std.isel(step=i)\n",
    "    CRPS_P = crps_gaussian(obs.isel(step=i),mu_postpro,sigma_postpro).values\n",
    "    CRPS_O = crps_gaussian(obs.isel(step=i),mu_OG,sigma_OG).values\n",
    "    CRPS_OG.append(CRPS_O.item())\n",
    "    CRPS_TF.append(CRPS_P.item())\n",
    "    mu_MBM=MBM_mu.isel(step=i)\n",
    "    sigma_MBM= MBM_std.isel(step=i)\n",
    "    CRPS_M = crps_gaussian(obs.isel(step=i),mu_MBM,sigma_MBM).values\n",
    "    CRPS_MBM.append(CRPS_M.item())"
   ]
  },
  {
   "cell_type": "code",
   "execution_count": null,
   "id": "ba2e9837-07ee-47f7-9a3c-13d4cf33a98e",
   "metadata": {},
   "outputs": [],
   "source": [
    "#CPRS WITH GAUSSIAN ASSUMPTION\n",
    "matplotlib.rcParams['text.usetex'] = False\n",
    "plt.figure(figsize=(10, 5))\n",
    "plt.plot(Leadtimes, CRPS_OG, color='red', marker='o', label='Original')\n",
    "plt.plot(Leadtimes, CRPS_TF, color='blue',linestyle=':', marker='d' ,label='Postprocessed,Transformer All pred')\n",
    "plt.plot(Leadtimes, CRPS_MBM, color='black',linestyle=':', marker='*', label='Postprocessed, Classical MBM All pred')\n",
    "\n",
    "\n",
    "plt.axhline(y=np.mean(CRPS_OG), color='red',linestyle=':')\n",
    "plt.axhline(y=np.mean(CRPS_TF), color='blue',linestyle=':')\n",
    "plt.axhline(y=np.mean(CRPS_MBM), color='black',linestyle=':')\n",
    "\n",
    "# Set title and labels\n",
    "plt.title('Ensemble CRPS per lead time (Temperature)', fontsize=22)\n",
    "plt.xlabel('Forecast lead time [hours]', fontsize=18)\n",
    "plt.ylabel('CRPS [°C]', fontsize=18)\n",
    "\n",
    "# Set y-axis limits and x-axis ticks\n",
    "plt.xlim(0,124)\n",
    "plt.ylim(0.6,1.38)\n",
    "\n",
    "# Set tick label size and show legend\n",
    "plt.tick_params(axis='both', labelsize=12)\n",
    "plt.legend(fontsize=12)\n",
    "\n",
    "# Adjust layout and show the plot\n",
    "plt.tight_layout()\n",
    "#plt.savefig(\"CRPS_leadtime_all.png\")\n",
    "plt.show()"
   ]
  },
  {
   "cell_type": "code",
   "execution_count": null,
   "id": "f493cc42-bc09-4c03-9df5-8bcfb479b625",
   "metadata": {},
   "outputs": [],
   "source": []
  },
  {
   "cell_type": "code",
   "execution_count": null,
   "id": "3e15bf9e-88f4-45b6-b19d-f1cbddd7a60e",
   "metadata": {},
   "outputs": [],
   "source": []
  }
 ],
 "metadata": {
  "kernelspec": {
   "display_name": "Python 3 (ipykernel)",
   "language": "python",
   "name": "python3"
  },
  "language_info": {
   "codemirror_mode": {
    "name": "ipython",
    "version": 3
   },
   "file_extension": ".py",
   "mimetype": "text/x-python",
   "name": "python",
   "nbconvert_exporter": "python",
   "pygments_lexer": "ipython3",
   "version": "3.10.10"
  }
 },
 "nbformat": 4,
 "nbformat_minor": 5
}
