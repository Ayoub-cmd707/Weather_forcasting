{
 "cells": [
  {
   "cell_type": "code",
   "execution_count": null,
   "id": "a4e59acc-b30d-454e-9631-e310531ccf82",
   "metadata": {},
   "outputs": [],
   "source": [
    "!pip install climetlab climetlab-eumetnet-postprocessing-benchmark xarray pandas matplotlib numpy zarr"
   ]
  },
  {
   "cell_type": "code",
   "execution_count": null,
   "id": "60155523-ee9e-4763-bde8-cada1baa9899",
   "metadata": {},
   "outputs": [],
   "source": [
    "!pip install zarr"
   ]
  },
  {
   "cell_type": "code",
   "execution_count": 4,
   "id": "bbe3a7ac-47b8-4737-a64a-943136568513",
   "metadata": {},
   "outputs": [],
   "source": [
    "import numpy as np\n",
    "import climetlab as cml\n",
    "import xarray as xr \n",
    "import pandas as pd\n",
    "import os\n",
    "import zarr"
   ]
  },
  {
   "cell_type": "code",
   "execution_count": null,
   "id": "9e62a44b-11fb-492b-8877-d8e65a5a2110",
   "metadata": {},
   "outputs": [],
   "source": [
    "# Open the Zarr store with consolidated metadata\n",
    "ds = xr.open_zarr(\"saved_variables.zarr\", consolidated=True)\n",
    "\n",
    "# Print metadata\n",
    "print(ds)\n",
    "\n",
    "# Access individual variables\n",
    "t2m = ds[\"t2m\"]\n",
    "u10 = ds[\"u10\"]\n",
    "v10 = ds[\"v10\"]\n",
    "tcc = ds[\"tcc\"]\n",
    "u100 = ds[\"u100\"]\n",
    "v100 = ds[\"v100\"]\n",
    "z = ds[\"z\"]\n",
    "u700 = ds[\"u700\"]\n",
    "v700 = ds[\"v700\"]\n",
    "t = ds[\"t\"]\n",
    "p10fg6 = ds[\"p10fg6\"]\n",
    "ssr6 = ds[\"ssr6\"]\n",
    "ssrd6 = ds[\"ssrd6\"]"
   ]
  },
  {
   "cell_type": "code",
   "execution_count": null,
   "id": "b106c17a-6918-4199-a53d-7851a16b1bcf",
   "metadata": {},
   "outputs": [],
   "source": [
    "# Open the entire dataset from the Zarr store\n",
    "ds = xr.open_zarr(\"full_datasets.zarr\", consolidated=True)\n",
    "\n",
    "# Print dataset metadata to confirm loading\n",
    "print(ds)"
   ]
  },
  {
   "cell_type": "code",
   "execution_count": 5,
   "id": "bb1fa4fb-3ab8-48e3-a29e-e83cabea7460",
   "metadata": {},
   "outputs": [
    {
     "name": "stdout",
     "output_type": "stream",
     "text": [
      "By downloading data from this dataset, you agree to the terms and conditions defined at\n",
      "\n",
      "    https://github.com/Climdyn/climetlab-eumetnet-postprocessing-benchmark/blob/main/DATA_LICENSE\n",
      "\n",
      "If you do not agree with such terms, do not download the data. \n"
     ]
    },
    {
     "name": "stderr",
     "output_type": "stream",
     "text": [
      "/home/jupyter-ayoub/.local/lib/python3.10/site-packages/climetlab/sources/zarr.py:92: FutureWarning: In a future version of xarray decode_timedelta will default to False rather than None. To silence this warning, set decode_timedelta to True, False, or a 'CFTimedeltaCoder' instance.\n",
      "  self._ds = xr.open_dataset(store, engine=\"zarr\")  # TODO: chunks=\"auto\" ?\n"
     ]
    }
   ],
   "source": [
    "# #### Surface variables \n",
    "\n",
    "sfc_rfc =cml.load_dataset('EUPPBench-training-data-gridded-reforecasts-surface')"
   ]
  },
  {
   "cell_type": "code",
   "execution_count": 6,
   "id": "f8aa7711-e101-42b6-b051-54994e5587ff",
   "metadata": {},
   "outputs": [
    {
     "name": "stdout",
     "output_type": "stream",
     "text": [
      "By downloading data from this dataset, you agree to the terms and conditions defined at\n",
      "\n",
      "    https://github.com/Climdyn/climetlab-eumetnet-postprocessing-benchmark/blob/main/DATA_LICENSE\n",
      "\n",
      "If you do not agree with such terms, do not download the data. \n"
     ]
    },
    {
     "name": "stderr",
     "output_type": "stream",
     "text": [
      "/home/jupyter-ayoub/.local/lib/python3.10/site-packages/climetlab/sources/zarr.py:92: FutureWarning: In a future version of xarray decode_timedelta will default to False rather than None. To silence this warning, set decode_timedelta to True, False, or a 'CFTimedeltaCoder' instance.\n",
      "  self._ds = xr.open_dataset(store, engine=\"zarr\")  # TODO: chunks=\"auto\" ?\n",
      "/home/jupyter-ayoub/.local/lib/python3.10/site-packages/climetlab/sources/zarr.py:92: FutureWarning: In a future version of xarray decode_timedelta will default to False rather than None. To silence this warning, set decode_timedelta to True, False, or a 'CFTimedeltaCoder' instance.\n",
      "  self._ds = xr.open_dataset(store, engine=\"zarr\")  # TODO: chunks=\"auto\" ?\n",
      "/home/jupyter-ayoub/.local/lib/python3.10/site-packages/climetlab/sources/zarr.py:92: FutureWarning: In a future version of xarray decode_timedelta will default to False rather than None. To silence this warning, set decode_timedelta to True, False, or a 'CFTimedeltaCoder' instance.\n",
      "  self._ds = xr.open_dataset(store, engine=\"zarr\")  # TODO: chunks=\"auto\" ?\n"
     ]
    }
   ],
   "source": [
    "# #### presure level variables \n",
    "\n",
    "pl500_rfc = cml.load_dataset('EUPPBench-training-data-gridded-reforecasts-pressure', level='500')\n",
    "pl700_rfc = cml.load_dataset('EUPPBench-training-data-gridded-reforecasts-pressure', level='700')\n",
    "pl850_rfc=cml.load_dataset('EUPPBench-training-data-gridded-reforecasts-pressure', level='850')"
   ]
  },
  {
   "cell_type": "code",
   "execution_count": 7,
   "id": "3de1f78a-95f8-441c-af60-6cc245a05268",
   "metadata": {
    "editable": true,
    "slideshow": {
     "slide_type": ""
    },
    "tags": []
   },
   "outputs": [
    {
     "name": "stdout",
     "output_type": "stream",
     "text": [
      "By downloading data from this dataset, you agree to the terms and conditions defined at\n",
      "\n",
      "    https://github.com/Climdyn/climetlab-eumetnet-postprocessing-benchmark/blob/main/DATA_LICENSE\n",
      "\n",
      "If you do not agree with such terms, do not download the data. \n"
     ]
    },
    {
     "name": "stderr",
     "output_type": "stream",
     "text": [
      "/home/jupyter-ayoub/.local/lib/python3.10/site-packages/climetlab/sources/zarr.py:92: FutureWarning: In a future version of xarray decode_timedelta will default to False rather than None. To silence this warning, set decode_timedelta to True, False, or a 'CFTimedeltaCoder' instance.\n",
      "  self._ds = xr.open_dataset(store, engine=\"zarr\")  # TODO: chunks=\"auto\" ?\n"
     ]
    }
   ],
   "source": [
    "# #### processed variables\n",
    "\n",
    "proc_rfc = cml.load_dataset('EUPPBench-training-data-gridded-reforecasts-surface-processed')"
   ]
  },
  {
   "cell_type": "code",
   "execution_count": null,
   "id": "ec7c34f2-42a9-448f-a0fd-0e65106ef4dc",
   "metadata": {},
   "outputs": [],
   "source": [
    "sfc_rfc.to_xarray().to_zarr(\"full_datasets.zarr\", mode=\"w\")\n",
    "pl500_rfc.to_xarray().to_zarr(\"full_datasets.zarr\", mode=\"a\")\n",
    "pl700_rfc.to_xarray().to_zarr(\"full_datasets.zarr\", mode=\"a\")\n",
    "pl850_rfc.to_xarray().to_zarr(\"full_datasets.zarr\", mode=\"a\")\n",
    "proc_rfc.to_xarray().to_zarr(\"full_datasets.zarr\", mode=\"a\")\n",
    "\n",
    "# **Consolidate metadata** after all datasets are written\n",
    "zarr.consolidate_metadata(\"full_datasets.zarr\")"
   ]
  },
  {
   "cell_type": "code",
   "execution_count": 8,
   "id": "c085739e-58ca-4a4d-ada2-a823205edf6d",
   "metadata": {},
   "outputs": [],
   "source": [
    "t2m=sfc_rfc.to_xarray()[['t2m']] \n",
    "u10=sfc_rfc.to_xarray()[['u10']]\n",
    "v10=sfc_rfc.to_xarray()[['v10']]\n",
    "tcc=sfc_rfc.to_xarray()[['tcc']]\n",
    "u100 =sfc_rfc.to_xarray()[['u100']]\n",
    "v100 =sfc_rfc.to_xarray()[['v100']]"
   ]
  },
  {
   "cell_type": "code",
   "execution_count": 9,
   "id": "7c99dd2a-df66-4147-99e3-340967642bef",
   "metadata": {},
   "outputs": [],
   "source": [
    "z=pl500_rfc.to_xarray()[['z']] \n",
    "u700=pl700_rfc.to_xarray()[['u']]\n",
    "v700= pl700_rfc.to_xarray()[['v']]\n",
    "t=pl850_rfc.to_xarray()[['t']]"
   ]
  },
  {
   "cell_type": "code",
   "execution_count": 10,
   "id": "e26731e5-15f7-4744-82f3-9fadd770d7e1",
   "metadata": {},
   "outputs": [],
   "source": [
    "p10fg6=proc_rfc.to_xarray()[['p10fg6']]\n",
    "ssr6=proc_rfc.to_xarray()[['ssr6']]\n",
    "ssrd6=proc_rfc.to_xarray()[['ssrd6']]"
   ]
  },
  {
   "cell_type": "code",
   "execution_count": 8,
   "id": "639a803b-ead0-48c3-b027-80f48490a803",
   "metadata": {},
   "outputs": [
    {
     "name": "stdout",
     "output_type": "stream",
     "text": [
      "<class 'numpy.ndarray'>\n"
     ]
    }
   ],
   "source": [
    "print(type(u10['u10'].data))  # DaskArray of NumpyArray?"
   ]
  },
  {
   "cell_type": "code",
   "execution_count": null,
   "id": "91694782-3a92-4a21-a49d-0f0dce6297ee",
   "metadata": {},
   "outputs": [],
   "source": [
    "# Put them in a list\n",
    "datasets = [\n",
    "    t2m, u10, v10, tcc, u100, v100,\n",
    "    z, u700, v700, t,\n",
    "    p10fg6, ssr6, ssrd6\n",
    "]"
   ]
  },
  {
   "cell_type": "code",
   "execution_count": null,
   "id": "c9650dc6-28ae-4646-9adc-bdf2873a062e",
   "metadata": {},
   "outputs": [],
   "source": [
    "# Path to save\n",
    "zarr_path = \"saved_variables.zarr\""
   ]
  },
  {
   "cell_type": "code",
   "execution_count": null,
   "id": "738e9c09-1c4d-4735-853b-23c87beb02c4",
   "metadata": {},
   "outputs": [],
   "source": [
    "def create_encoding(ds):\n",
    "    return {\n",
    "        var: {\n",
    "            \"chunks\": (10, 100, 100),  # gebruik \"chunks\" ipv \"chunksizes\"\n",
    "            \"compressor\": zarr.Blosc(cname=\"zstd\", clevel=3)\n",
    "        }\n",
    "        for var in ds.data_vars\n",
    "    }\n"
   ]
  },
  {
   "cell_type": "code",
   "execution_count": null,
   "id": "1b5df033-48d6-4d17-80b3-364ca71d544f",
   "metadata": {},
   "outputs": [],
   "source": [
    "# Schrijf datasets met encoding\n",
    "for i, ds in enumerate(datasets):\n",
    "    mode = \"w\" if i == 0 else \"a\"\n",
    "    encoding = create_encoding(ds)\n",
    "    ds.to_zarr(zarr_path, mode=mode, encoding=encoding )"
   ]
  },
  {
   "cell_type": "code",
   "execution_count": null,
   "id": "94d84e5b-a568-487c-9ddc-0700b514045c",
   "metadata": {},
   "outputs": [],
   "source": [
    "# Write the first dataset with mode=\"w\", the rest with mode=\"a\"\n",
    "for i, ds in enumerate(datasets):\n",
    "    mode = \"w\" if i == 0 else \"a\"\n",
    "    ds.to_zarr(zarr_path, mode=mode, decode_timedelta=True)"
   ]
  },
  {
   "cell_type": "code",
   "execution_count": null,
   "id": "ce99e877-ed4e-4027-80a6-c67c94e3592a",
   "metadata": {},
   "outputs": [],
   "source": [
    "# Consolidate metadata\n",
    "zarr.consolidate_metadata(zarr_path)"
   ]
  },
  {
   "cell_type": "code",
   "execution_count": 11,
   "id": "b63d750a-1dcc-45d1-bab2-a19a2726b669",
   "metadata": {},
   "outputs": [],
   "source": [
    "w10_calc = np.sqrt(u10['u10']**2 + v10['v10']**2)\n",
    "w10 = xr.Dataset({'w10': w10_calc})"
   ]
  },
  {
   "cell_type": "code",
   "execution_count": 1,
   "id": "e8324c1a-e073-4fc7-9737-c6106fce5df7",
   "metadata": {},
   "outputs": [
    {
     "ename": "NameError",
     "evalue": "name 'np' is not defined",
     "output_type": "error",
     "traceback": [
      "\u001b[0;31m---------------------------------------------------------------------------\u001b[0m",
      "\u001b[0;31mNameError\u001b[0m                                 Traceback (most recent call last)",
      "Cell \u001b[0;32mIn[1], line 1\u001b[0m\n\u001b[0;32m----> 1\u001b[0m w100_calc \u001b[38;5;241m=\u001b[39m \u001b[43mnp\u001b[49m\u001b[38;5;241m.\u001b[39msqrt(u100[\u001b[38;5;124m'\u001b[39m\u001b[38;5;124mu100\u001b[39m\u001b[38;5;124m'\u001b[39m]\u001b[38;5;241m*\u001b[39m\u001b[38;5;241m*\u001b[39m\u001b[38;5;241m2\u001b[39m \u001b[38;5;241m+\u001b[39m v100[\u001b[38;5;124m'\u001b[39m\u001b[38;5;124mv100\u001b[39m\u001b[38;5;124m'\u001b[39m]\u001b[38;5;241m*\u001b[39m\u001b[38;5;241m*\u001b[39m\u001b[38;5;241m2\u001b[39m)\n\u001b[1;32m      2\u001b[0m w100 \u001b[38;5;241m=\u001b[39m xr\u001b[38;5;241m.\u001b[39mDataset({\u001b[38;5;124m'\u001b[39m\u001b[38;5;124mw100\u001b[39m\u001b[38;5;124m'\u001b[39m: w100_calc})\n",
      "\u001b[0;31mNameError\u001b[0m: name 'np' is not defined"
     ]
    }
   ],
   "source": [
    "w100_calc = np.sqrt(u100['u100']**2 + v100['v100']**2)\n",
    "w100 = xr.Dataset({'w100': w100_calc})"
   ]
  },
  {
   "cell_type": "code",
   "execution_count": null,
   "id": "9b2631b9-d435-4ea5-8394-24a5d98304ef",
   "metadata": {},
   "outputs": [],
   "source": [
    "w700_calc =  np.sqrt(u700['u']**2 + v700['v']**2)\n",
    "w700 = xr.Dataset({'w700': w700_calc})"
   ]
  },
  {
   "cell_type": "code",
   "execution_count": null,
   "id": "2ade2381-ebf4-40b8-b002-b4d2919a56ea",
   "metadata": {},
   "outputs": [],
   "source": [
    "# #### Getting the observations \n",
    "u100_obs=sfc_rfc.get_observations_as_xarray()[['u100']]\n",
    "v100_obs=sfc_rfc.get_observations_as_xarray()[['v100']]"
   ]
  },
  {
   "cell_type": "code",
   "execution_count": null,
   "id": "eba3a08d-b5a7-4d29-b1ff-ff0652d31ade",
   "metadata": {},
   "outputs": [],
   "source": [
    "w100_obs_calc= np.sqrt(u100_obs['u100']**2 + v100_obs['v100']**2)"
   ]
  },
  {
   "cell_type": "code",
   "execution_count": null,
   "id": "100b2ccb-711f-4bce-9cce-053becc600f3",
   "metadata": {},
   "outputs": [],
   "source": [
    "w100_obs_DA = xr.DataArray(\n",
    "    w100_obs_calc,\n",
    "    dims=('time', 'number', 'year', 'step', 'surface', 'latitude', 'longitude'),\n",
    "    coords=u100_obs.coords,\n",
    "    name='w100_obs'\n",
    ")"
   ]
  },
  {
   "cell_type": "code",
   "execution_count": null,
   "id": "84fd1e3c-3788-473b-9f30-4d704b1ad276",
   "metadata": {},
   "outputs": [],
   "source": [
    "# Now create the Dataset with `w100_obs`\n",
    "w100_obs = xr.Dataset({'w100_obs': w100_obs_DA})"
   ]
  },
  {
   "cell_type": "code",
   "execution_count": null,
   "id": "03b487d3-5752-4bf8-b868-410368794ec0",
   "metadata": {},
   "outputs": [],
   "source": [
    "#some preprocessing\n",
    "datasets = [t2m, u10, w10, tcc, u100, w100,z, u700,w700, t,p10fg6,w100_obs,ssr6,ssrd6] \n",
    "for i in range(len(datasets)):\n",
    "    # Convert 'step' from nanoseconds to hours\n",
    "    datasets[i]['step'] = pd.to_timedelta(datasets[i]['step'], unit='ns').total_seconds() / 3600\n",
    "    # Select specific time steps\n",
    "    if i!=10:  #remove first forecasting step because it is absent in the processed variables \n",
    "         datasets[i] = datasets[i].isel(step=slice(1,None))\n",
    "    # Squeeze unnecessary dimensions\n",
    "    if 'depthBelowLandLayer' in datasets[i].dims:\n",
    "        datasets[i] = datasets[i].squeeze('depthBelowLandLayer')\n",
    "    if 'surface' in datasets[i].dims:\n",
    "        datasets[i] = datasets[i].squeeze('surface')\n",
    "    if 'isobaricInhPa' in datasets[i].variables:\n",
    "        datasets[i] = datasets[i].drop_vars('isobaricInhPa')\n",
    "    if \"isobaricInhPa\" in datasets[i].dims:\n",
    "        datasets[i] = datasets[i].squeeze(dim=\"isobaricInhPa\")\n",
    "    if 'surface' in datasets[i].variables:\n",
    "        datasets[i] = datasets[i].drop_vars('surface')\n",
    "    if \"surface\" in datasets[i].dims:\n",
    "        datasets[i] = datasets[i].squeeze(dim=\"surface\")"
   ]
  },
  {
   "cell_type": "code",
   "execution_count": null,
   "id": "86f9454c-1469-45e9-bff0-d353e44439c3",
   "metadata": {},
   "outputs": [],
   "source": [
    "#some preprocessing\n",
    "datasets = [t2m, u10, w10, v10, tcc, u100, w100, v100, z, u700, w700, t, p10fg6, w100_obs, ssr6, ssrd6]\n",
    "for i in range(len(datasets)):\n",
    "    # Convert 'step' from nanoseconds to hours\n",
    "    datasets[i]['step'] = pd.to_timedelta(datasets[i]['step'], unit='ns').total_seconds() / 3600\n",
    "    # Select specific time steps\n",
    "    if i!=10:  #remove first forecasting step because it is absent in the processed variables \n",
    "         datasets[i] = datasets[i].isel(step=slice(1,None))\n",
    "    # Squeeze unnecessary dimensions\n",
    "    if 'depthBelowLandLayer' in datasets[i].dims:\n",
    "        datasets[i] = datasets[i].squeeze('depthBelowLandLayer')\n",
    "    if 'surface' in datasets[i].dims:\n",
    "        datasets[i] = datasets[i].squeeze('surface')\n",
    "    if 'isobaricInhPa' in datasets[i].variables:\n",
    "        datasets[i] = datasets[i].drop_vars('isobaricInhPa')\n",
    "    if \"isobaricInhPa\" in datasets[i].dims:\n",
    "        datasets[i] = datasets[i].squeeze(dim=\"isobaricInhPa\")\n",
    "    if 'surface' in datasets[i].variables:\n",
    "        datasets[i] = datasets[i].drop_vars('surface')\n",
    "    if \"surface\" in datasets[i].dims:\n",
    "        datasets[i] = datasets[i].squeeze(dim=\"surface\")"
   ]
  },
  {
   "cell_type": "code",
   "execution_count": null,
   "id": "4d677c83-e574-493c-bfe1-0ee3838e7604",
   "metadata": {},
   "outputs": [],
   "source": [
    "rfc_all = xr.merge(datasets[0:17], compat='override')"
   ]
  },
  {
   "cell_type": "code",
   "execution_count": null,
   "id": "f6d94dd9-a1d2-4b0c-8109-2a64e63940e1",
   "metadata": {},
   "outputs": [],
   "source": [
    "output_dir_forecast = \"./EUPP\"\n",
    "output_dir_era5 =\"./ERA5\""
   ]
  },
  {
   "cell_type": "code",
   "execution_count": null,
   "id": "a241b6e6-8002-44a8-9056-5d0b89f8144c",
   "metadata": {},
   "outputs": [],
   "source": [
    "# Give rights\n",
    "!chmod 777 /home/jupyter-ayoub/data/EUPP\n",
    "!chmod 777 /home/jupyter-ayoub/data/ERA5"
   ]
  },
  {
   "cell_type": "code",
   "execution_count": null,
   "id": "3546e2b6-1146-45ce-9e69-5a69ab89fe90",
   "metadata": {},
   "outputs": [],
   "source": [
    "#save files in format fitted to the loader \n",
    "\n",
    "for year in range(1):\n",
    "    yeardata=rfc_all.isel(year=year)\n",
    "    for time in yeardata.time:\n",
    "        time_str = pd.to_datetime(str(time.values)).strftime('%Y%m%d')\n",
    "        filename = f\"output.sfc.{int(year)}.{time_str}.nc\"\n",
    "        filepath = os.path.join(output_dir_forecast, filename)\n",
    "        # Select the data for the current time step\n",
    "        xds_at_time=yeardata.sel(time=time)\n",
    "        xds_at_time.to_netcdf(filepath)"
   ]
  },
  {
   "cell_type": "code",
   "execution_count": null,
   "id": "053637e0-99f6-4776-a66f-76e40cc188e5",
   "metadata": {},
   "outputs": [],
   "source": [
    "#observations\n",
    "for year in range(1): \n",
    "    yeardata=w100_obs.isel(year=year)\n",
    "    for time in yeardata.time:\n",
    "        time_str = pd.to_datetime(str(time.values)).strftime('%Y%m%d')\n",
    "        filename = f\"era.sfc.{int(year)}.{time_str}.nc\"\n",
    "        filepath = os.path.join(output_dir_era5, filename)\n",
    "        # Select the data for the current time step\n",
    "        xds_at_time=yeardata.sel(time=time)\n",
    "        xds_at_time.to_netcdf(filepath)"
   ]
  },
  {
   "cell_type": "code",
   "execution_count": null,
   "id": "dfe560c6-8d32-4a29-9e59-2f416c5dc89f",
   "metadata": {},
   "outputs": [],
   "source": [
    "# Verkrijg alle variabelen in de dataset\n",
    "variable_names = list(rfc_all.variables)\n",
    "\n",
    "# Print enkel de namen van de variabelen\n",
    "variable_names"
   ]
  },
  {
   "cell_type": "code",
   "execution_count": null,
   "id": "57774638-d88b-4e25-a469-56407fc046e5",
   "metadata": {},
   "outputs": [],
   "source": []
  }
 ],
 "metadata": {
  "kernelspec": {
   "display_name": "Python 3 (ipykernel)",
   "language": "python",
   "name": "python3"
  },
  "language_info": {
   "codemirror_mode": {
    "name": "ipython",
    "version": 3
   },
   "file_extension": ".py",
   "mimetype": "text/x-python",
   "name": "python",
   "nbconvert_exporter": "python",
   "pygments_lexer": "ipython3",
   "version": "3.10.10"
  }
 },
 "nbformat": 4,
 "nbformat_minor": 5
}
