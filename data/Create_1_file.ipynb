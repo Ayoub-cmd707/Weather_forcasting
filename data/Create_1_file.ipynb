{
 "cells": [
  {
   "cell_type": "code",
   "execution_count": null,
   "id": "1de36b0a-2343-4d44-9e8c-a10ac0a4c2a1",
   "metadata": {
    "tags": []
   },
   "outputs": [],
   "source": [
    "import xarray as xr\n",
    "import os\n",
    "\n",
    "# 📁 Directory waar al je bestanden staan\n",
    "input_dir = './EUPP_merged'  # pas aan aan jouw geval\n",
    "output_file = './test/test_reforecast.nc'\n",
    "\n",
    "all_files = sorted([os.path.join(input_dir, f) for f in os.listdir(input_dir) if f.endswith('.nc')])\n",
    "\n",
    "datasets = []\n",
    "\n",
    "for f in all_files:\n",
    "    ds = xr.open_dataset(f)\n",
    "\n",
    "    # Voeg expliciete tijdsdimensie toe als nodig (maak er een lengte-1 array van)\n",
    "    if 'time' not in ds.dims:\n",
    "        ds = ds.expand_dims(dim='time')\n",
    "\n",
    "    datasets.append(ds)\n",
    "\n",
    "# Combineer alles langs tijd\n",
    "ds_combined = xr.concat(datasets, dim='time')\n",
    "\n",
    "# Opslaan\n",
    "ds_combined.to_netcdf(output_file)\n",
    "print(\"✅ Alle bestanden succesvol gecombineerd langs 'time'\")\n"
   ]
  },
  {
   "cell_type": "code",
   "execution_count": null,
   "id": "07ea1c11-a3ee-48a0-b34d-8bce381524db",
   "metadata": {},
   "outputs": [],
   "source": [
    "import xarray as xr\n",
    "import os\n",
    "\n",
    "# 📁 Directory waar al je bestanden staan\n",
    "input_dir = './ERA5'  # pas aan aan jouw geval\n",
    "output_file = './test/test_observation.nc'\n",
    "\n",
    "# 🔍 Zoek alle bestanden\n",
    "all_files = sorted([os.path.join(input_dir, f) for f in os.listdir(input_dir) if f.endswith('.nc')])\n",
    "\n",
    "# 📦 Combineer alle datasets\n",
    "ds_combined = xr.open_mfdataset(all_files, combine='by_coords')\n",
    "\n",
    "# 💾 Sla op als één bestand\n",
    "ds_combined.to_netcdf(output_file)\n",
    "\n",
    "print(\"✅ Alles is samengevoegd in:\", output_file)"
   ]
  }
 ],
 "metadata": {
  "kernelspec": {
   "display_name": "Python 3 (ipykernel)",
   "language": "python",
   "name": "python3"
  },
  "language_info": {
   "codemirror_mode": {
    "name": "ipython",
    "version": 3
   },
   "file_extension": ".py",
   "mimetype": "text/x-python",
   "name": "python",
   "nbconvert_exporter": "python",
   "pygments_lexer": "ipython3",
   "version": "3.10.10"
  }
 },
 "nbformat": 4,
 "nbformat_minor": 5
}
