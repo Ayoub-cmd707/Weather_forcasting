{
 "cells": [
  {
   "cell_type": "code",
   "execution_count": null,
   "id": "dcedcea0-9094-4a23-b381-0c0b41e68f8a",
   "metadata": {
    "tags": []
   },
   "outputs": [],
   "source": [
    "import xarray as xr\n",
    "\n",
    "# Voorbeeldbestand openen\n",
    "filepath = '/home/jupyter-ayoub/data/ERA5/era.sfc.0.20170102.nc'\n",
    "ds = xr.open_dataset(filepath)\n",
    "\n",
    "print(ds)"
   ]
  },
  {
   "cell_type": "code",
   "execution_count": null,
   "id": "8b3acfea-9cd4-4dc9-b29c-2de91bb9c081",
   "metadata": {
    "tags": []
   },
   "outputs": [],
   "source": [
    "import xarray as xr\n",
    "\n",
    "# Voorbeeldbestand openen\n",
    "filepath = '/home/jupyter-ayoub/data/EUPP_3j/output.sfc.0.20170102.nc'\n",
    "ds = xr.open_dataset(filepath)\n",
    "\n",
    "print(ds)"
   ]
  },
  {
   "cell_type": "code",
   "execution_count": null,
   "id": "b12e3b3d-aa10-4d66-a357-a1095b4d4078",
   "metadata": {
    "tags": []
   },
   "outputs": [],
   "source": [
    "import xarray as xr\n",
    "\n",
    "# Voorbeeldbestand openen\n",
    "filepath = '/home/jupyter-aaron/Postprocessing/PP_EUPP/data/EUPP/output.sfc.0.20170102.nc'\n",
    "ds = xr.open_dataset(filepath)\n",
    "\n",
    "print(ds)"
   ]
  },
  {
   "cell_type": "code",
   "execution_count": null,
   "id": "4b05e1de-6a90-4d67-996d-bb8c131ec559",
   "metadata": {
    "tags": []
   },
   "outputs": [],
   "source": [
    "print(ds['w100'])"
   ]
  },
  {
   "cell_type": "code",
   "execution_count": null,
   "id": "50074a82-3822-4ceb-997e-0398cb63e074",
   "metadata": {
    "tags": []
   },
   "outputs": [],
   "source": [
    "import xarray as xr\n",
    "\n",
    "# Open beide datasets\n",
    "ds1 = xr.open_dataset('/home/jupyter-aaron/Postprocessing/PP_EUPP/data/EUPP/output.sfc.0.20170102.nc')\n",
    "ds2 = xr.open_dataset('/home/jupyter-ayoub/data/EUPP/output.sfc.0.20170102.nc')\n",
    "\n",
    "# Merge de datasets (voegt de variabelen van ds2 toe aan ds1)\n",
    "ds_merged = xr.merge([ds1, ds2])\n",
    "\n",
    "# Check het resultaat\n",
    "print(ds_merged)"
   ]
  },
  {
   "cell_type": "code",
   "execution_count": null,
   "id": "618b8c1b-9964-45c1-9414-671ed32c94d7",
   "metadata": {
    "tags": []
   },
   "outputs": [],
   "source": [
    "import xarray as xr\n",
    "import os\n",
    "from tqdm import tqdm\n",
    "\n",
    "# Pad naar directories\n",
    "input_dir_1 = '/home/jupyter-aaron/Postprocessing/PP_EUPP/data/EUPP'       \n",
    "input_dir_2 = '/home/jupyter-ayoub/data/EUPP'       \n",
    "output_dir = './EUPP_merged'    \n",
    "\n",
    "# Zorg dat de output map bestaat\n",
    "os.makedirs(output_dir, exist_ok=True)\n",
    "\n",
    "# Haal bestanden op van Aaron\n",
    "#file_list = sorted([f for f in os.listdir(input_dir_1) if f.endswith('.nc')])[:1]\n",
    "\n",
    "for filename in tqdm(file_list):\n",
    "    file1_path = os.path.join(input_dir_1, filename)\n",
    "    file2_path = os.path.join(input_dir_2, filename)\n",
    "\n",
    "    if not os.path.exists(file2_path):\n",
    "        print(f\"Bestand ontbreekt: {file2_path}\")\n",
    "        continue\n",
    "\n",
    "    # Open datasets\n",
    "    ds1 = xr.open_dataset(file1_path)\n",
    "    ds2 = xr.open_dataset(file2_path)\n",
    "\n",
    "    # vermijden\n",
    "    if 'ssrd6_obs' in ds2:\n",
    "        ds2 = ds2.drop_vars('ssrd6_obs')\n",
    "\n",
    "    try:\n",
    "        ds_merged = xr.merge([ds1, ds2])\n",
    "        #print(ds_merged)\n",
    "        print(ds_merged.data_vars)\n",
    "    except Exception as e:\n",
    "        print(f\"Fout bij mergen van {filename}: {e}\")\n",
    "        continue\n",
    "    \n",
    "    # Opslaan\n",
    "    #output_path = os.path.join(output_dir, filename)\n",
    "    #ds_merged.to_netcdf(output_path)"
   ]
  },
  {
   "cell_type": "code",
   "execution_count": null,
   "id": "3db839c7-36b7-447c-b15c-250a60c4aaa8",
   "metadata": {},
   "outputs": [],
   "source": []
  }
 ],
 "metadata": {
  "kernelspec": {
   "display_name": "Python 3 (ipykernel)",
   "language": "python",
   "name": "python3"
  },
  "language_info": {
   "codemirror_mode": {
    "name": "ipython",
    "version": 3
   },
   "file_extension": ".py",
   "mimetype": "text/x-python",
   "name": "python",
   "nbconvert_exporter": "python",
   "pygments_lexer": "ipython3",
   "version": "3.10.10"
  }
 },
 "nbformat": 4,
 "nbformat_minor": 5
}
