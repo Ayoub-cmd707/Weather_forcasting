{
 "cells": [
  {
   "cell_type": "code",
   "execution_count": null,
   "id": "dcedcea0-9094-4a23-b381-0c0b41e68f8a",
   "metadata": {
    "tags": []
   },
   "outputs": [],
   "source": [
    "import xarray as xr\n",
    "\n",
    "# Voorbeeldbestand openen\n",
    "filepath = '/home/jupyter-ayoub/data/ERA5/era.sfc.0.20170102.nc'\n",
    "ds = xr.open_dataset(filepath)\n",
    "\n",
    "print(ds)"
   ]
  },
  {
   "cell_type": "code",
   "execution_count": null,
   "id": "8b3acfea-9cd4-4dc9-b29c-2de91bb9c081",
   "metadata": {
    "tags": []
   },
   "outputs": [],
   "source": [
    "import xarray as xr\n",
    "\n",
    "# Voorbeeldbestand openen\n",
    "filepath = '/home/jupyter-ayoub/data/EUPP_3j/output.sfc.0.20170102.nc'\n",
    "ds = xr.open_dataset(filepath)\n",
    "\n",
    "print(ds)"
   ]
  },
  {
   "cell_type": "code",
   "execution_count": null,
   "id": "b12e3b3d-aa10-4d66-a357-a1095b4d4078",
   "metadata": {
    "tags": []
   },
   "outputs": [],
   "source": [
    "import xarray as xr\n",
    "\n",
    "# Voorbeeldbestand openen\n",
    "filepath = '/home/jupyter-aaron/Postprocessing/PP_EUPP/data/EUPP/output.sfc.0.20170102.nc'\n",
    "ds = xr.open_dataset(filepath)\n",
    "\n",
    "print(ds)"
   ]
  },
  {
   "cell_type": "code",
   "execution_count": null,
   "id": "4b05e1de-6a90-4d67-996d-bb8c131ec559",
   "metadata": {
    "tags": []
   },
   "outputs": [],
   "source": [
    "print(ds['w100'])"
   ]
  },
  {
   "cell_type": "code",
   "execution_count": null,
   "id": "50074a82-3822-4ceb-997e-0398cb63e074",
   "metadata": {
    "tags": []
   },
   "outputs": [],
   "source": [
    "import xarray as xr\n",
    "\n",
    "# Open beide datasets\n",
    "ds1 = xr.open_dataset('/home/jupyter-aaron/Postprocessing/PP_EUPP/data/EUPP/output.sfc.0.20170102.nc')\n",
    "ds2 = xr.open_dataset('/home/jupyter-ayoub/data/EUPP/output.sfc.0.20170102.nc')\n",
    "\n",
    "# Merge de datasets (voegt de variabelen van ds2 toe aan ds1)\n",
    "ds_merged = xr.merge([ds1, ds2])\n",
    "\n",
    "# Check het resultaat\n",
    "print(ds_merged)"
   ]
  },
  {
   "cell_type": "code",
   "execution_count": null,
   "id": "618b8c1b-9964-45c1-9414-671ed32c94d7",
   "metadata": {
    "tags": []
   },
   "outputs": [],
   "source": [
    "import xarray as xr\n",
    "import os\n",
    "from tqdm import tqdm\n",
    "\n",
    "# Pad naar directories\n",
    "input_dir_1 = '/home/jupyter-aaron/Postprocessing/PP_EUPP/data/EUPP'       \n",
    "input_dir_2 = '/home/jupyter-ayoub/data/EUPP'       \n",
    "output_dir = './EUPP_merged'    \n",
    "\n",
    "# Zorg dat de output map bestaat\n",
    "os.makedirs(output_dir, exist_ok=True)\n",
    "\n",
    "# Haal bestanden op van Aaron\n",
    "file_list = sorted([f for f in os.listdir(input_dir_1) if f.endswith('.nc')])[:5]\n",
    "\n",
    "for filename in tqdm(file_list):\n",
    "    file1_path = os.path.join(input_dir_1, filename)\n",
    "    file2_path = os.path.join(input_dir_2, filename)\n",
    "\n",
    "    if not os.path.exists(file2_path):\n",
    "        print(f\"Bestand ontbreekt: {file2_path}\")\n",
    "        continue\n",
    "\n",
    "    # Open datasets\n",
    "    ds1 = xr.open_dataset(file1_path)\n",
    "    ds2 = xr.open_dataset(file2_path)\n",
    "\n",
    "    # vermijden\n",
    "    if 'ssrd6_obs' in ds2:\n",
    "        ds2 = ds2.drop_vars('ssrd6_obs')\n",
    "\n",
    "    try:\n",
    "        ds_merged = xr.merge([ds1, ds2])\n",
    "        #print(ds_merged)\n",
    "        print(ds_merged.data_vars)\n",
    "    except Exception as e:\n",
    "        print(f\"Fout bij mergen van {filename}: {e}\")\n",
    "        continue\n",
    "    \n",
    "    # Opslaan\n",
    "    output_path = os.path.join(output_dir, filename)\n",
    "    ds_merged.to_netcdf(output_path)"
   ]
  },
  {
   "cell_type": "code",
   "execution_count": null,
   "id": "a0674b93-462b-4e80-8bd5-76c8838e5479",
   "metadata": {
    "tags": []
   },
   "outputs": [],
   "source": [
    "import xarray as xr\n",
    "import os\n",
    "from tqdm import tqdm\n",
    "\n",
    "# Pad naar directories\n",
    "input_dir_1 = '/home/jupyter-aaron/Postprocessing/PP_EUPP/data/EUPP'       \n",
    "input_dir_2 = '/home/jupyter-ayoub/data/EUPP'       \n",
    "output_file = './test/test_reforecast.nc'  # ⬅️ één eindbestand\n",
    "\n",
    "# Haal bestanden op van Aaron\n",
    "file_list = sorted([f for f in os.listdir(input_dir_1) if f.endswith('.nc')])\n",
    "\n",
    "datasets = []\n",
    "\n",
    "for filename in tqdm(file_list):\n",
    "    file1_path = os.path.join(input_dir_1, filename)\n",
    "    file2_path = os.path.join(input_dir_2, filename)\n",
    "\n",
    "    if not os.path.exists(file2_path):\n",
    "        print(f\"Bestand ontbreekt: {file2_path}\")\n",
    "        continue\n",
    "\n",
    "    # Open datasets\n",
    "    ds1 = xr.open_dataset(file1_path)\n",
    "    ds2 = xr.open_dataset(file2_path)\n",
    "\n",
    "    # Vermijd dubbele variabele\n",
    "    if 'ssrd6_obs' in ds2:\n",
    "        ds2 = ds2.drop_vars('ssrd6_obs')\n",
    "\n",
    "    try:\n",
    "        ds_merged = xr.merge([ds1, ds2])\n",
    "\n",
    "        # Zorg dat 'time' een dimension is (anders werkt concat niet)\n",
    "        if 'time' not in ds_merged.dims:\n",
    "            ds_merged = ds_merged.expand_dims(dim='time')\n",
    "\n",
    "        datasets.append(ds_merged)\n",
    "\n",
    "    except Exception as e:\n",
    "        print(f\"Fout bij mergen van {filename}: {e}\")\n",
    "        continue\n",
    "\n",
    "# Combineer alle datasets langs tijd\n",
    "if datasets:\n",
    "    ds_combined = xr.concat(datasets, dim='time')\n",
    "    ds_combined.to_netcdf(output_file)\n",
    "    print(\"✅ Samengevoegd bestand opgeslagen als:\", output_file)\n",
    "else:\n",
    "    print(\"⚠️ Geen datasets om te combineren.\")"
   ]
  },
  {
   "cell_type": "code",
   "execution_count": 1,
   "id": "b11cd610-775c-41ba-ab0d-afb87deb4b1d",
   "metadata": {
    "tags": []
   },
   "outputs": [
    {
     "name": "stderr",
     "output_type": "stream",
     "text": [
      "100%|██████████| 209/209 [00:01<00:00, 203.40it/s]\n"
     ]
    },
    {
     "name": "stdout",
     "output_type": "stream",
     "text": [
      "✅ Samengevoegd bestand opgeslagen als: ./test/test_observation.nc\n"
     ]
    }
   ],
   "source": [
    "import xarray as xr\n",
    "import os\n",
    "from tqdm import tqdm\n",
    "\n",
    "# Pad naar directories\n",
    "input_dir = '/home/jupyter-ayoub/data/ERA5'       \n",
    "output_file = './test/test_observation.nc'  # ⬅️ één eindbestand\n",
    "\n",
    "# Haal bestanden op van Aaron\n",
    "#file_list = sorted([f for f in os.listdir(input_dir) if f.endswith('.nc')])\n",
    "file_list = sorted([f for f in os.listdir(input_dir) if f.endswith('.nc') and f.startswith('era.sfc.19.')])\n",
    "\n",
    "datasets = []\n",
    "\n",
    "for filename in tqdm(file_list):\n",
    "    file1_path = os.path.join(input_dir, filename)\n",
    "\n",
    "\n",
    "\n",
    "    # Open datasets\n",
    "    ds1 = xr.open_dataset(file1_path)\n",
    "\n",
    "    try:\n",
    "\n",
    "        # Zorg dat 'time' een dimension is (anders werkt concat niet)\n",
    "        if 'time' not in ds1.dims:\n",
    "            ds1 = ds1.expand_dims(dim='time')\n",
    "\n",
    "        datasets.append(ds1)\n",
    "\n",
    "    except Exception as e:\n",
    "        print(f\"Fout bij mergen van {filename}: {e}\")\n",
    "        continue\n",
    "\n",
    "# Combineer alle datasets langs tijd\n",
    "if datasets:\n",
    "    ds_combined = xr.concat(datasets, dim='time')\n",
    "    ds_combined.to_netcdf(output_file)\n",
    "    print(\"✅ Samengevoegd bestand opgeslagen als:\", output_file)\n",
    "else:\n",
    "    print(\"⚠️ Geen datasets om te combineren.\")"
   ]
  },
  {
   "cell_type": "code",
   "execution_count": 2,
   "id": "84d17d26-a7f4-4145-b9b0-61a910fbcf76",
   "metadata": {
    "tags": []
   },
   "outputs": [
    {
     "name": "stderr",
     "output_type": "stream",
     "text": [
      "100%|██████████| 209/209 [00:04<00:00, 42.99it/s]\n"
     ]
    },
    {
     "name": "stdout",
     "output_type": "stream",
     "text": [
      "Samengevoegd bestand opgeslagen als: ./test/test_reforecast.nc\n"
     ]
    }
   ],
   "source": [
    "import xarray as xr\n",
    "import os\n",
    "from tqdm import tqdm\n",
    "\n",
    "# Pad naar directories\n",
    "input_dir = '/home/jupyter-ayoub/data/EUPP_merged'       \n",
    "output_file = './test/test_reforecast.nc'  # ⬅️ één eindbestand\n",
    "\n",
    "# Haal bestanden op van Aaron\n",
    "#file_list = sorted([f for f in os.listdir(input_dir) if f.endswith('.nc')])\n",
    "file_list = sorted([f for f in os.listdir(input_dir) if f.endswith('.nc') and f.startswith('output.sfc.19.')])\n",
    "\n",
    "\n",
    "datasets = []\n",
    "\n",
    "for filename in tqdm(file_list):\n",
    "    file1_path = os.path.join(input_dir, filename)\n",
    "\n",
    "\n",
    "\n",
    "    # Open datasets\n",
    "    ds1 = xr.open_dataset(file1_path, chunks={})\n",
    "\n",
    "    try:\n",
    "\n",
    "        # Zorg dat 'time' een dimension is (anders werkt concat niet)\n",
    "        if 'time' not in ds1.dims:\n",
    "            ds1 = ds1.expand_dims(dim='time')\n",
    "\n",
    "        datasets.append(ds1)\n",
    "\n",
    "    except Exception as e:\n",
    "        print(f\"Fout bij mergen van {filename}: {e}\")\n",
    "        continue\n",
    "\n",
    "# Combineer alle datasets langs tijd\n",
    "if datasets:\n",
    "    ds_combined = xr.concat(datasets, dim='time')\n",
    "    ds_combined.to_netcdf(output_file)\n",
    "    print(\"Samengevoegd bestand opgeslagen als:\", output_file)\n",
    "else:\n",
    "    print(\"Geen datasets om te combineren.\")"
   ]
  },
  {
   "cell_type": "code",
   "execution_count": null,
   "id": "3db839c7-36b7-447c-b15c-250a60c4aaa8",
   "metadata": {},
   "outputs": [],
   "source": [
    "import xarray as xr\n",
    "import os\n",
    "from tqdm import tqdm\n",
    "input_dir_1 = './EUPP_merged'    \n",
    "\n",
    "# Zorg dat de output map bestaat\n",
    "file_list = sorted([f for f in os.listdir(input_dir_1) if f.endswith('.nc')])[:400]\n",
    "for filename in file_list:\n",
    "    file1_path = os.path.join(input_dir_1, filename)\n",
    "    ds = xr.open_dataset(file1_path)\n",
    "    print(ds[\"ssrd6\"].isel(step=0).values.min(), ds[\"ssrd6\"].isel(step=0).values.max())\n"
   ]
  },
  {
   "cell_type": "code",
   "execution_count": null,
   "id": "7cd178c9-a815-4b3f-b426-12c53e8503b1",
   "metadata": {},
   "outputs": [],
   "source": [
    "import xarray as xr\n",
    "import os\n",
    "from tqdm import tqdm\n",
    "input_dir_1 = './ERA5'\n",
    "\n",
    "# Zorg dat de output map bestaat\n",
    "file_list = sorted([f for f in os.listdir(input_dir_1) if f.endswith('.nc')])[:400]\n",
    "for filename in file_list:\n",
    "    file1_path = os.path.join(input_dir_1, filename)\n",
    "    ds = xr.open_dataset(file1_path)\n",
    "    print(ds[\"ssrd6_obs\"].isel(step=0).values.min(), ds[\"ssrd6_obs\"].isel(step=0).values.max())\n"
   ]
  },
  {
   "cell_type": "code",
   "execution_count": null,
   "id": "cc6a1fb5-a1df-434d-9911-95e1bd222a00",
   "metadata": {},
   "outputs": [],
   "source": []
  }
 ],
 "metadata": {
  "kernelspec": {
   "display_name": "Python 3 (ipykernel)",
   "language": "python",
   "name": "python3"
  },
  "language_info": {
   "codemirror_mode": {
    "name": "ipython",
    "version": 3
   },
   "file_extension": ".py",
   "mimetype": "text/x-python",
   "name": "python",
   "nbconvert_exporter": "python",
   "pygments_lexer": "ipython3",
   "version": "3.10.10"
  }
 },
 "nbformat": 4,
 "nbformat_minor": 5
}
