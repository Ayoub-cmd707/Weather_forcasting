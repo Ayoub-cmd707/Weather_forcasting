{
 "cells": [
  {
   "cell_type": "code",
   "execution_count": 1,
   "id": "b2137413-335f-43e8-8e42-294ce636b6d6",
   "metadata": {
    "tags": []
   },
   "outputs": [
    {
     "name": "stdout",
     "output_type": "stream",
     "text": [
      "By downloading data from this dataset, you agree to the terms and conditions defined at\n",
      "\n",
      "    https://github.com/Climdyn/climetlab-eumetnet-postprocessing-benchmark/blob/main/DATA_LICENSE\n",
      "\n",
      "If you do not agree with such terms, do not download the data. \n"
     ]
    },
    {
     "name": "stderr",
     "output_type": "stream",
     "text": [
      "/home/jupyter-ayoub/.local/lib/python3.10/site-packages/climetlab/sources/zarr.py:92: FutureWarning: In a future version of xarray decode_timedelta will default to False rather than None. To silence this warning, set decode_timedelta to True, False, or a 'CFTimedeltaCoder' instance.\n",
      "  self._ds = xr.open_dataset(store, engine=\"zarr\")  # TODO: chunks=\"auto\" ?\n"
     ]
    }
   ],
   "source": [
    "import xarray as xr\n",
    "import numpy as np\n",
    "import climetlab as cml\n",
    "\n",
    "# Load datasets\n",
    "proc_rfc = cml.load_dataset('EUPPBench-training-data-gridded-reforecasts-surface-processed')\n",
    "\n",
    "#pl700_rfc = cml.load_dataset('EUPPBench-training-data-gridded-reforecasts-pressure', level='700')\n",
    "\n"
   ]
  },
  {
   "cell_type": "code",
   "execution_count": 2,
   "id": "ffdffe3c-8a1b-4e84-9f38-c32798d6d19c",
   "metadata": {
    "tags": []
   },
   "outputs": [],
   "source": [
    "# Variables to process\n",
    "variables = {\n",
    "  \n",
    "    \"ssr6\": proc_rfc.to_xarray()[['ssr6']],\n",
    "    \"str6\": proc_rfc.to_xarray()[['str6']],\n",
    "    #\"ssrd6\": proc_rfc.to_xarray()[['ssrd6']],\n",
    "    #\"strd6\": proc_rfc.to_xarray()[['strd6']],\n",
    "    #\"tp6\": proc_rfc.to_xarray()[['tp6']]\n",
    "    #\"q\": pl700_rfc.to_xarray()[['q']]\n",
    "}"
   ]
  },
  {
   "cell_type": "code",
   "execution_count": 3,
   "id": "66e61832-2c9c-4191-83ca-b1c2cf7b0916",
   "metadata": {
    "tags": []
   },
   "outputs": [
    {
     "name": "stdout",
     "output_type": "stream",
     "text": [
      "Min and max values saved to min_max_values.txt\n"
     ]
    }
   ],
   "source": [
    "# File to store results\n",
    "output_file = \"min_max_values.txt\"\n",
    "\n",
    "# Write results to a new text file\n",
    "with open(output_file, \"w\") as file:\n",
    "    for var_name, dataset in variables.items():\n",
    "        values = dataset[var_name].values\n",
    "        min_val = np.min(values)\n",
    "        max_val = np.max(values)\n",
    "        file.write(f\"{var_name}: min={min_val}, max={max_val}\\n\")\n",
    "\n",
    "print(f\"Min and max values saved to {output_file}\")"
   ]
  },
  {
   "cell_type": "code",
   "execution_count": null,
   "id": "5553457b-8326-4924-8300-d9f20fdfb5a4",
   "metadata": {},
   "outputs": [],
   "source": []
  }
 ],
 "metadata": {
  "kernelspec": {
   "display_name": "Python 3 (ipykernel)",
   "language": "python",
   "name": "python3"
  },
  "language_info": {
   "codemirror_mode": {
    "name": "ipython",
    "version": 3
   },
   "file_extension": ".py",
   "mimetype": "text/x-python",
   "name": "python",
   "nbconvert_exporter": "python",
   "pygments_lexer": "ipython3",
   "version": "3.10.10"
  }
 },
 "nbformat": 4,
 "nbformat_minor": 5
}
