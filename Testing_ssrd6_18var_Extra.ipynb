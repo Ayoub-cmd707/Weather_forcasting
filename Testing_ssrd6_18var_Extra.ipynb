{
 "cells": [
  {
   "cell_type": "code",
   "execution_count": null,
   "id": "4f4ba222-ac65-48aa-8826-48f65a4aa465",
   "metadata": {
    "tags": []
   },
   "outputs": [],
   "source": [
    "import xarray as xr\n",
    "import os, sys\n",
    "import torch\n",
    "import numpy as np\n",
    "import matplotlib.pyplot as plt\n",
    "import matplotlib"
   ]
  },
  {
   "cell_type": "code",
   "execution_count": null,
   "id": "45269cce-dabd-426b-8b3e-c72acbeac6dc",
   "metadata": {
    "tags": []
   },
   "outputs": [],
   "source": [
    "from xskillscore import crps_ensemble"
   ]
  },
  {
   "cell_type": "code",
   "execution_count": null,
   "id": "1d1fb7ef-abea-42d3-af6d-76094a3bc051",
   "metadata": {},
   "outputs": [],
   "source": [
    "module_path = '/home/jupyter-ayoub'\n",
    "if module_path not in sys.path:\n",
    "    sys.path.append(module_path)\n",
    "from Transformer import StackedTransformer"
   ]
  },
  {
   "cell_type": "code",
   "execution_count": null,
   "id": "4e80a906-c4c3-4784-9d92-61fedf416dd9",
   "metadata": {
    "tags": []
   },
   "outputs": [],
   "source": [
    "def fair_crps_ensemble(observations, forecasts, axis=0):\n",
    "\n",
    "    # Convert inputs to numpy arrays if they're not already\n",
    "    forecasts = np.asarray(forecasts)\n",
    "    observations = np.asarray(observations)\n",
    "    \n",
    "    if axis != 1:\n",
    "        forecasts = np.moveaxis(forecasts, axis, 1)\n",
    "    \n",
    "    # Get number of ensemble members\n",
    "    m = forecasts.shape[1]\n",
    "    \n",
    "    # Calculate dxy: sum of absolute differences between forecasts and observations\n",
    "    # Add a dimension to observations to allow broadcasting\n",
    "    observations_expanded = np.expand_dims(observations, axis=1)\n",
    "    dxy = np.sum(np.abs(forecasts - observations_expanded), axis=1)\n",
    "    \n",
    "    # Calculate dxx: sum of absolute differences between all pairs of ensemble members\n",
    "    # Add dimensions to enable broadcasting for pairwise differences\n",
    "    forecast_i = np.expand_dims(forecasts, axis=2)  # [batch, ens, 1, ...]\n",
    "    forecast_j = np.expand_dims(forecasts, axis=1)  # [batch, 1, ens, ...]\n",
    "    dxx = np.sum(np.abs(forecast_i - forecast_j), axis=(1, 2))\n",
    "    \n",
    "    # Calculate CRPS using the kernel approximation formula\n",
    "    crps = dxy / m - dxx / (m * (m - 1) * 2)\n",
    "    \n",
    "    return crps"
   ]
  },
  {
   "cell_type": "markdown",
   "id": "f3f5e555-2d32-4566-a6b1-a829716833f7",
   "metadata": {
    "tags": []
   },
   "source": [
    "### Data preparation"
   ]
  },
  {
   "cell_type": "code",
   "execution_count": null,
   "id": "9a90098d-6a4e-4808-8e6e-1d6002ee1dca",
   "metadata": {},
   "outputs": [],
   "source": [
    "#ssrd6\n",
    "test_rfcs=xr.open_dataset(\"/home/jupyter-ayoub/data/test/test_reforecast.nc\")\n",
    "obs=xr.open_dataset(\"/home/jupyter-ayoub/data/test/test_observation.nc\")"
   ]
  },
  {
   "cell_type": "code",
   "execution_count": null,
   "id": "3acd43b2-9b40-4cf2-9009-8d2e4dfd3365",
   "metadata": {
    "tags": []
   },
   "outputs": [],
   "source": [
    "test_rfcs=test_rfcs\n",
    "obs=obs"
   ]
  },
  {
   "cell_type": "code",
   "execution_count": null,
   "id": "fbfb8987-b6ae-48d5-8dab-97f20231d65c",
   "metadata": {},
   "outputs": [],
   "source": [
    "print(list(test_rfcs.data_vars))"
   ]
  },
  {
   "cell_type": "code",
   "execution_count": null,
   "id": "3df91c6a-8585-438f-a112-bd25b39a8807",
   "metadata": {},
   "outputs": [],
   "source": [
    "target='ssrd6_obs'  \n",
    "obs=obs[target]\n",
    "test_rfcs=test_rfcs.drop_vars(['sd', 'mx2t6', 'mn2t6',  'q','ssr6','str6'])\n",
    "#test_rfcs=test_rfcs.drop_vars(['t2m', 'z', 't', 'u10', 'v10', 'tcc', 'sd', 'mx2t6', 'mn2t6', 'w10', 'u100', 'w100', 'u', 'w700', 'p10fg6', 'v100', 'v', 'q', 'tp6', 'ssr6', 'str6', 'strd6'])\n",
    "#test_rfcs=test_rfcs.drop_vars(['u10', 'v10', 'sd', 'mx2t6', 'mn2t6', 'w10', 'u100', 'w100', 'u', 'w700', 'p10fg6', 'v100', 'v', 'q', 'ssr6', 'str6']) #8\n",
    "#[ 'sd', 'mx2t6', 'mn2t6', 'q', 'ssr6', 'str6']\n",
    "#['sd', 'mx2t6', 'mn2t6', 'q', 'tp6', 'ssr6', 'str6', 'ssrd6', 'strd6']"
   ]
  },
  {
   "cell_type": "code",
   "execution_count": null,
   "id": "7cbbaff2-c8a5-46b9-b2c5-509c32b9e8b1",
   "metadata": {},
   "outputs": [],
   "source": [
    "print(list(test_rfcs.data_vars))"
   ]
  },
  {
   "cell_type": "code",
   "execution_count": null,
   "id": "5f2b37d1-1a5f-46a5-ad79-c89890f0d0d7",
   "metadata": {
    "tags": []
   },
   "outputs": [],
   "source": [
    "print(obs.shape)"
   ]
  },
  {
   "cell_type": "code",
   "execution_count": null,
   "id": "7ea808ff-b4aa-484a-b2e0-776aa3bbd444",
   "metadata": {},
   "outputs": [],
   "source": [
    "#add orography as a variable\n",
    "oro=xr.open_dataset(\"/home/jupyter-aaron/Postprocessing/PP_EUPP/data/oro.nc\") \n",
    "dims={'time' : test_rfcs['time'],\n",
    "       'number': test_rfcs['number'],\n",
    "       'step': test_rfcs['step']}\n",
    "xds_oro=oro.expand_dims(time=dims['time'], number=dims['number'],step=dims['step'])\n",
    "dummy_oro=xr.Dataset(coords=dims)\n",
    "final_oro=xds_oro.broadcast_like(dummy_oro)"
   ]
  },
  {
   "cell_type": "code",
   "execution_count": null,
   "id": "e480eefc-2589-4b94-a12e-6599d0607a16",
   "metadata": {
    "tags": []
   },
   "outputs": [],
   "source": [
    "fcs_10=xr.merge([test_rfcs,final_oro])\n",
    "dummy=xr.merge([test_rfcs,final_oro])"
   ]
  },
  {
   "cell_type": "code",
   "execution_count": null,
   "id": "99f6c527-049c-4e5c-8e31-6ce2d90577cc",
   "metadata": {},
   "outputs": [],
   "source": [
    "#normalizing met oro.nc\n",
    "min_max_values={\"t2m\":(235, 304), \"z\": (48200, 58000), \"t\":(240, 299), \"u10\": (-13., 11.),\"v10\": (-30,35), \"tcc\": (0., 1.0),\"sd\":(0,8),\"mx2t6\":(230,320),\"mn2t6\":(225,315),\"v\":(-50,55), \"w100\":(0,50),\"w10\":(0,30), \"u100\": (-35,45), \"u\": (-45,60),\"v100\":(-40,45), \"w700\": (0,60), \"p10fg6\": (0,60), \"oro\":(-400,2800),\"ssr6\":(0,3200000),\"ssrd6\":(-5200.0,18541902.0),\"strd6\":(2103856,9537712),\"tp6\":(-4,1),\"ssr6\":(-4220.0,15344816.0),\"str6\":(-4630656.0,1093968.0)}\n",
    "# Function to normalize using vectorized operations\n",
    "def minmax_normalize(ds, min_max_values):\n",
    "    for var in ds.data_vars:\n",
    "        if var in min_max_values:\n",
    "            min_val, max_val = min_max_values[var]\n",
    "            ds[var] = (ds[var] - min_val) / (max_val - min_val)\n",
    "    return ds\n",
    "\n",
    "def z_normalize(ds):\n",
    "    for var in ds.data_vars:\n",
    "        ds[var] = ds[var].copy()  # Ensure the variable is writable\n",
    "        \n",
    "        for t in range(len(ds[\"time\"])):  # Loop over time dimension\n",
    "            mean = ds[var].isel(time=t).mean()\n",
    "            std = ds[var].isel(time=t).std()\n",
    "            ds[var].loc[dict(time=ds[\"time\"][t])] = (ds[var].isel(time=t) - mean) / std\n",
    "\n",
    "    return ds\n",
    "\n",
    "\n",
    "\n",
    "dummy_norm=minmax_normalize(dummy,min_max_values)\n",
    "fcs_norm=dummy_norm"
   ]
  },
  {
   "cell_type": "code",
   "execution_count": null,
   "id": "aec2f8db-359f-4abb-b0aa-0eb5a5125442",
   "metadata": {},
   "outputs": [],
   "source": [
    "%reload_ext autoreload\n",
    "model =  StackedTransformer(num_blocks=4, n_data_shape=(20, 32, 33, 18), n_heads=8,mlp_mult=4,projection_channels=64)"
   ]
  },
  {
   "cell_type": "markdown",
   "id": "9f58e193-69f2-4db1-b4f1-73f06e2fb501",
   "metadata": {},
   "source": [
    "### Actual testing"
   ]
  },
  {
   "cell_type": "code",
   "execution_count": null,
   "id": "ea60ea4d-388b-48ab-b576-529458e0dba4",
   "metadata": {},
   "outputs": [],
   "source": [
    "MBM_one=np.empty((209,11,20,32,33),dtype=float)\n",
    "for i in range(20):\n",
    "    mbm1=np.load(f\"/home/jupyter-ayoub/ClassicalMBM/resultsClassicalMBM/{target}/MBM_{target}_{i}.npy\")\n",
    "    MBM_one[:,:,i,:,:]=mbm1.squeeze()"
   ]
  },
  {
   "cell_type": "code",
   "execution_count": null,
   "id": "52ff17af-d3db-4d48-84c8-a2039c230bc4",
   "metadata": {
    "tags": []
   },
   "outputs": [],
   "source": [
    "#turn the normalized reforecasts into a tensor\n",
    "fcs_norm_whole= fcs_norm.to_array(dim='variable')\n",
    "print(fcs_norm_whole.sizes)\n",
    "#print(fcs_norm_whole)"
   ]
  },
  {
   "cell_type": "code",
   "execution_count": null,
   "id": "106c3d43-f42e-4203-ae9e-657f25e655e6",
   "metadata": {
    "tags": []
   },
   "outputs": [],
   "source": [
    "print(fcs_norm_whole.shape)"
   ]
  },
  {
   "cell_type": "code",
   "execution_count": null,
   "id": "13b48af1-1145-4020-bd31-e50e208cc7ae",
   "metadata": {
    "tags": []
   },
   "outputs": [],
   "source": [
    "rearranged_10= fcs_norm_whole.transpose('time', 'number','step', 'latitude', 'longitude', 'variable')"
   ]
  },
  {
   "cell_type": "code",
   "execution_count": null,
   "id": "4b30c8bd-0d2f-4bac-8da8-385d5a2def3c",
   "metadata": {
    "tags": []
   },
   "outputs": [],
   "source": [
    "fcs_whole_tensor=torch.tensor(rearranged_10.values)\n",
    "print(fcs_whole_tensor.shape) "
   ]
  },
  {
   "cell_type": "code",
   "execution_count": null,
   "id": "34e91fb9-aaca-40b3-bb62-0bb0d7d71afd",
   "metadata": {
    "tags": []
   },
   "outputs": [],
   "source": [
    "#same for unnormalized data, because I need them for the rescaling \n",
    "fcs_array_10 =fcs_10.to_array(dim='variable')"
   ]
  },
  {
   "cell_type": "code",
   "execution_count": null,
   "id": "82b2057e-46b9-4a51-9c0c-f8938155d249",
   "metadata": {
    "tags": []
   },
   "outputs": [],
   "source": [
    "fcs_rearranged_10= fcs_array_10.transpose('time', 'number','step', 'latitude', 'longitude', 'variable')"
   ]
  },
  {
   "cell_type": "code",
   "execution_count": null,
   "id": "e375af72-0ff2-4f8f-92e6-6481b1558a7f",
   "metadata": {
    "tags": []
   },
   "outputs": [],
   "source": [
    "fcs_whole_notnorm_tensor=torch.tensor(fcs_rearranged_10.values)\n",
    "print(fcs_whole_notnorm_tensor.shape)"
   ]
  },
  {
   "cell_type": "code",
   "execution_count": null,
   "id": "11892522-3aff-4b23-94b8-029af76e714e",
   "metadata": {},
   "outputs": [],
   "source": [
    "#this is where the last run is stored \n",
    "checkpoint_path = '/home/jupyter-ayoub/results/Transformerweights/ssrd6/epochs50predictors18CRPSKERNELSTEPlambda0.04k2.3order.pth'\n",
    "#checkpoint_path = '/home/jupyter-ayoub/results/Transformerweights/ssrd6/epochs50predictors18CRPSKERNELSTEPlambda0.02k3.3.pth'\n",
    "#checkpoint_path = '/home/jupyter-ayoub/results/Transformerweights/ssrd6/epochs50predictors18CRPSKERNELSTEPlambda0.02k3.3.pth'\n",
    "#checkpoint_path = '/home/jupyter-ayoub/results/Transformerweights/ssrd6/epochs50predictors18CRPSKERNELSTEPlambda0.02k3.3.pth'\n",
    "# Load the checkpoint\n",
    "checkpoint = torch.load(checkpoint_path, weights_only=False)\n",
    "model_state_dict = checkpoint['model']\n",
    "new_state_dict = {k.replace(\"module.\", \"\"): v for k, v in model_state_dict.items()}\n",
    "model.load_state_dict(new_state_dict)\n",
    "total_params = sum(p.numel() for p in model.parameters())\n",
    "print(\"Total number of parameters: \", total_params)"
   ]
  },
  {
   "cell_type": "code",
   "execution_count": null,
   "id": "7c7ad53f-b5de-425d-9df8-91769625de49",
   "metadata": {
    "tags": []
   },
   "outputs": [],
   "source": [
    "import torch\n",
    "postpro_10_whole = torch.empty((209,11,20,32,33,1))\n",
    "\n",
    "# Apply model in chunks of 10\n",
    "with torch.no_grad():\n",
    "    for i in range(0, 209, 2):\n",
    "        # Get the end index for this chunk\n",
    "        end = min(i + 2, 209)  # Ensure we don't go out of bounds\n",
    "\n",
    "        # Apply the model to the chunk and store in the corresponding location in postpro_10_whole\n",
    "        #print(fcs_whole_tensor[i:end].shape)\n",
    "        #print(postpro_10_whole[i:end].shape)\n",
    "        postpro_10_whole[i:end] = model(fcs_whole_tensor[i:end])"
   ]
  },
  {
   "cell_type": "code",
   "execution_count": null,
   "id": "0c9335c4-e1f0-4b00-a5c8-b22f252e3f2e",
   "metadata": {
    "tags": []
   },
   "outputs": [],
   "source": [
    "# Extract ensemble forecasts\n",
    "ensemble_one = postpro_10_whole[...,0]\n",
    "\n",
    "# Compute standard deviation & mean across ensemble dimension (dim=1)\n",
    "scale_std, scale_mean = torch.std_mean(fcs_whole_notnorm_tensor[..., 15], dim=1, unbiased=True)\n",
    "\n",
    "# Function to scale and clamp ensemble data\n",
    "def scale_and_clamp(ensemble):\n",
    "    scaled = ensemble * scale_std.unsqueeze(1) + scale_mean.unsqueeze(1)\n",
    "    return torch.clamp(scaled, min=1e-6).permute(1, 0, 2, 3, 4)\n",
    "\n",
    "# Apply scaling and clamping\n",
    "scaled_ensemble_one = scale_and_clamp(ensemble_one)"
   ]
  },
  {
   "cell_type": "code",
   "execution_count": null,
   "id": "54d7abf2-bf32-4ff7-94bb-e592f3bfe347",
   "metadata": {
    "tags": []
   },
   "outputs": [],
   "source": [
    "# Define coordinates with member first\n",
    "coords_forecast = {\n",
    "    'member': test_rfcs['number'].rename({'number': 'member'}),\n",
    "    'time': obs['time'],\n",
    "    'step': obs['step'],\n",
    "    'latitude': obs['latitude'],\n",
    "    'longitude': obs['longitude'],\n",
    "}\n",
    "\n",
    "\n",
    "# Define dimensions with member first\n",
    "dims_forecast = ('member', 'time', 'step', 'latitude', 'longitude')\n",
    "\n",
    "# Convert numpy arrays to xarray DataArray with the specified order\n",
    "print(\"MBM_one shape:\", MBM_one.shape)\n",
    "\n",
    "MBM_one=xr.DataArray(np.transpose(MBM_one,(1,0,2,3,4)), coords=coords_forecast, dims=dims_forecast)\n",
    "full_ensemble_one= xr.DataArray(scaled_ensemble_one, coords=coords_forecast, dims=dims_forecast)\n",
    "\n",
    "# Compute mean and std across the member dimension\n",
    "mean_one = full_ensemble_one.mean(dim='member')\n",
    "std_one = full_ensemble_one.std(dim='member')\n",
    "\n",
    "# Adjust raw_fcs to have 'member' first\n",
    "raw_fcs = test_rfcs.rename({'number': 'member'})\n",
    "raw_fcs = raw_fcs.transpose('member', 'time', 'step', 'latitude', 'longitude')\n",
    "raw_mean=raw_fcs.mean(dim='member')\n",
    "raw_std=raw_fcs.std(dim='member')"
   ]
  },
  {
   "cell_type": "code",
   "execution_count": null,
   "id": "fc511285-a0b0-4f1e-bdff-dd5be480a58e",
   "metadata": {
    "tags": []
   },
   "outputs": [],
   "source": [
    "#ALL ENSEMBLES\n",
    "Tformer_one=full_ensemble_one\n",
    "MBM_one = MBM_one\n",
    "Raw = raw_fcs['ssrd6']\n",
    "obs=obs.squeeze()"
   ]
  },
  {
   "cell_type": "code",
   "execution_count": null,
   "id": "0a7248a7-94c1-42ee-a7d0-71fdbec42641",
   "metadata": {
    "tags": []
   },
   "outputs": [],
   "source": [
    "output_dir = \"/home/jupyter-ayoub/results/CRPS/ssrd6_18extra/ensembles\"\n",
    "os.makedirs(output_dir, exist_ok=True)\n",
    "ensembles = {\n",
    "    \"Tformer_one\": Tformer_one,\n",
    "    \"MBM_one\": MBM_one,\n",
    "    \"Raw\": Raw\n",
    "}\n",
    "observations = obs\n",
    "print(\"obs shape\")\n",
    "print(observations.shape)\n",
    "print(\"--------\")\n",
    "for name, ensemble in ensembles.items():\n",
    "    print(ensemble.shape)\n",
    "    \n",
    "    # Compute fair ensemble CRPS\n",
    "    f_crps = fair_crps_ensemble(observations, ensemble, axis=0)\n",
    "    print(f_crps.shape)\n",
    "    fair_crps = np.mean(f_crps)\n",
    "    #print(fair_crps)\n",
    "    \n",
    "    np.save(f\"{output_dir}/{name}_fair_crps.npy\", fair_crps)\n",
    "    \n",
    "\n",
    "print(\"All CRPS computations complete!\")"
   ]
  },
  {
   "cell_type": "code",
   "execution_count": null,
   "id": "9386b5b3-a1bb-4e40-b670-d8c432252b07",
   "metadata": {},
   "outputs": [],
   "source": [
    "output_dir = \"/home/jupyter-ayoub/results/CRPS/ssrd6_18extra\"\n",
    "os.makedirs(output_dir, exist_ok=True)\n",
    "ensembles = {\n",
    "    \"Tformer_one\": Tformer_one,\n",
    "    \"MBM_one\": MBM_one,\n",
    "    \"Raw\": Raw\n",
    "}\n",
    "observations = obs\n",
    "for name, ensemble in ensembles.items():\n",
    "    print(ensemble.shape)\n",
    "    \n",
    "    # Compute fair ensemble CRPS\n",
    "    f_crps = fair_crps_ensemble(observations, ensemble, axis=0)\n",
    "    #print(f_crps.shape)\n",
    "    fair_crps = np.mean(f_crps,axis=(0, 1))\n",
    "    #print(fair_crps)\n",
    "    \n",
    "    np.save(f\"{output_dir}/{name}_fair_crps.npy\", fair_crps)\n",
    "    \n",
    "\n",
    "print(\"All CRPS computations complete!\")"
   ]
  },
  {
   "cell_type": "code",
   "execution_count": null,
   "id": "2bbf01d7-2e1c-4392-adff-0aa9dd5e8bbe",
   "metadata": {
    "tags": []
   },
   "outputs": [],
   "source": [
    "import xskillscore as xs\n",
    "\n",
    "output_dir = \"/home/jupyter-ayoub/results/CRPS/ssrd6_18extra/leads\"\n",
    "os.makedirs(output_dir, exist_ok=True)\n",
    "\n",
    "# Load observations (assuming you have them)\n",
    "observations = obs\n",
    "#print(Tformer_one)\n",
    "# Dictionary of ensemble forecasts\n",
    "ensembles = {\n",
    "    \"Tformer_one\": Tformer_one,\n",
    "    \"MBM_one\": MBM_one,\n",
    "    \"Raw\": Raw\n",
    "}\n",
    "\n",
    "# Process each ensemble\n",
    "for name, ensemble in ensembles.items():\n",
    "    print(f\"Processing {name}...\")\n",
    "    \n",
    "    obs_broadcast = observations\n",
    "    \n",
    "    # Initialize arrays to store CRPS values\n",
    "    # Assuming we compute CRPS for each leadtime\n",
    "    n_leadtimes = ensemble.shape[2]\n",
    "    #print(n_leadtimes)\n",
    "    fair_crps = np.zeros(n_leadtimes)\n",
    "    #fair_crps = np.zeros((32, 33))\n",
    "    # Compute CRPS for each leadtime\n",
    "    for lt in range(n_leadtimes):\n",
    "        \n",
    "        # Extract data for this leadtime\n",
    "        ensemble_lt = ensemble[:, :, lt, :, :]  # (member, time, lat, lon)\n",
    "        obs_lt = obs_broadcast[:, lt, :, :]  # (time, lat, lon)\n",
    "        \n",
    "        \n",
    "        # Compute fair ensemble CRPS\n",
    "        f_crps = fair_crps_ensemble(obs_lt, ensemble_lt, axis=0)\n",
    "        #print(f_crps.shape)\n",
    "        fair_crps[lt] = np.mean(f_crps)\n",
    "        #print(fair_crps[lt].shape)\n",
    "    # Save results\n",
    "    #np.save(f\"{output_dir}/{name}_gaussian_crps.npy\", gaussian_crps)\n",
    "    np.save(f\"{output_dir}/{name}_fair_crps.npy\", fair_crps)\n",
    "    \n",
    "\n",
    "print(\"All CRPS computations complete!\")"
   ]
  },
  {
   "cell_type": "markdown",
   "id": "08451797-54ec-4821-ab57-e06aa107af82",
   "metadata": {
    "tags": []
   },
   "source": [
    "TESTING"
   ]
  },
  {
   "cell_type": "code",
   "execution_count": null,
   "id": "45f1575d-bd5c-4781-98a1-45a0f348f11e",
   "metadata": {
    "tags": []
   },
   "outputs": [],
   "source": [
    "np.load(\"/home/jupyter-ayoub/results/CRPS/ssrd6_18/leads/Tformer_one_fair_crps.npy\")"
   ]
  },
  {
   "cell_type": "code",
   "execution_count": null,
   "id": "a3f963c0-0371-4264-8ec5-3f7437f20d5c",
   "metadata": {
    "tags": []
   },
   "outputs": [],
   "source": [
    "CRPS_TF_1 = np.load(\"/home/jupyter-ayoub/results/CRPS/ssrd6_18extra/leads/Tformer_one_fair_crps.npy\")\n",
    "#CRPS_TF_1_G = np.load(\"/home/jupyter-ayoub/results/CRPS/Tformer_one_gaussian_crps.npy\")\n",
    "CRPS_MBM_1 = np.load(\"/home/jupyter-ayoub/results/CRPS/ssrd6_18extra/leads/MBM_one_fair_crps.npy\")\n",
    "#CRPS_MBM_1_G = np.load(\"/home/jupyter-ayoub/results/CRPS/MBM_one_gaussian_crps.npy\")\n",
    "CRPS_OG=np.load(\"/home/jupyter-ayoub/results/CRPS/ssrd6_18extra/leads/Raw_fair_crps.npy\")\n",
    "#CRPS_OG_G=np.load(\"/home/jupyter-ayoub/results/CRPS/Raw_gaussian_crps.npy\")\n",
    "#print(CRPS_OG,CRPS_MBM_1,CRPS_TF_1,)\n",
    "meanOG=np.mean(CRPS_OG)\n",
    "#meanOG_g=np.mean(CRPS_OG_G)\n",
    "meanmbm_1=np.mean(CRPS_MBM_1)\n",
    "#meanmbm_1_g=np.mean(CRPS_MBM_1_G)\n",
    "meantf_1=np.mean(CRPS_TF_1)\n",
    "#meantf_1_g=np.mean(CRPS_TF_1_G)\n",
    "#print(meanOG,meanOG_g,meanmbm_1,meanmbm_1_g,meantf_1,meantf_1_g)\n",
    "print(meanOG,meanmbm_1,meantf_1,)"
   ]
  },
  {
   "cell_type": "code",
   "execution_count": null,
   "id": "c2d09dfa-6486-4500-a82f-c623b7950bf4",
   "metadata": {
    "tags": []
   },
   "outputs": [],
   "source": [
    "Leadtimes=obs.step.values\n",
    "matplotlib.rcParams['text.usetex'] = False\n",
    "plt.figure(figsize=(20, 15))\n",
    "plt.plot(Leadtimes, CRPS_OG, color='red', marker='o', label='Original')\n",
    "plt.plot(Leadtimes, CRPS_TF_1, color='cyan',linestyle=':', marker='d' ,alpha=0.5,label='Postprocessed,Transformer 1 pred')\n",
    "plt.plot(Leadtimes, CRPS_MBM_1, color='brown',linestyle=':', marker='*',alpha=0.5, label='Postprocessed, Classical MBM 1 pred')\n",
    "\n",
    "print(meanOG)\n",
    "print(meantf_1)\n",
    "print(meanmbm_1)\n",
    "plt.axhline(y=meanOG, color='red',linestyle=':')\n",
    "plt.axhline(y=meantf_1, color='cyan',linestyle=':')\n",
    "plt.axhline(y=meanmbm_1, color='brown',linestyle=':')\n",
    "\n",
    "# Set title and labels\n",
    "plt.title('Ensemble CRPS per lead time (wind speed 100m)', fontsize=22)\n",
    "plt.xlabel('Forecast lead time [hours]', fontsize=18)\n",
    "plt.ylabel('CRPS [metres per second.]', fontsize=18)\n",
    "\n",
    "# Set y-axis limits and x-axis ticks\n",
    "plt.xlim(0,123)\n",
    "plt.ylim(5000,1000000)\n",
    "\n",
    "# Set tick label size and show legend\n",
    "plt.tick_params(axis='both', labelsize=12)\n",
    "plt.legend(fontsize=12)\n",
    "\n",
    "# Adjust layout and show the plot\n",
    "plt.tight_layout()\n",
    "#plt.savefig(\"CRPS_leadtime_all.png\")\n",
    "plt.show()"
   ]
  },
  {
   "cell_type": "code",
   "execution_count": null,
   "id": "ccdfa49e-e307-47df-900d-78fd4bff4087",
   "metadata": {
    "tags": []
   },
   "outputs": [],
   "source": [
    "print(CRPS_TF_1.shape)"
   ]
  },
  {
   "cell_type": "code",
   "execution_count": null,
   "id": "cf977809-5eee-41a2-ae6f-05cd99fec417",
   "metadata": {
    "tags": []
   },
   "outputs": [],
   "source": [
    "Leadtimes=obs.step.values\n",
    "#matplotlib.rcParams['text.usetex'] = False\n",
    "plt.figure(figsize=(10, 6))\n",
    "plt.plot(Leadtimes, CRPS_OG, color='red', marker='o', label='Original')\n",
    "plt.plot(Leadtimes, CRPS_TF_1, color='green', marker='d' ,alpha=1,label='Postprocessed,Transformer 18 pred')\n",
    "plt.plot(Leadtimes, CRPS_MBM_1, color='blue', marker='*',alpha=1, label='Postprocessed, Classical MBM 1 pred')\n",
    "#for member in range(TF.sizes[\"member\"]):\n",
    "   # plt.plot(Tformer_one.step, TF[member, :],color='blue',alpha=0.2)\n",
    "   # plt.plot(MBM_one.step, MBM[member, :],color='black',alpha=0.2)\n",
    "    #plt.plot(raw_fcs.step, RAW[member,:],color='red',alpha=0.2)\n",
    "plt.axhline(y=meanOG, color='RED',linestyle=':',alpha=0.9)\n",
    "plt.axhline(y=meantf_1, color='GREEN',linestyle=':',alpha=0.9)\n",
    "plt.axhline(y=meanmbm_1, color='BLUE',linestyle=':',alpha=0.9)\n",
    "\n",
    "# Set title and labels\n",
    "plt.title('Ensemble CRPS per lead time (solar radiation)', fontsize=22)\n",
    "plt.xlabel('Forecast lead time [hours]', fontsize=18)\n",
    "plt.ylabel('CRPS [J/m$^2$]', fontsize=18)\n",
    "\n",
    "# Set y-axis limits and x-axis ticks\n",
    "#plt.xlim(0,123)\n",
    "#plt.ylim(5000,1000000)\n",
    "\n",
    "# Set tick label size and show legend\n",
    "plt.tick_params(axis='both', labelsize=12)\n",
    "plt.legend(fontsize=12)\n",
    "\n",
    "# Adjust layout and show the plot\n",
    "plt.tight_layout()\n",
    "#plt.savefig(\"CRPS_leadtime_all.png\")\n",
    "plt.show()"
   ]
  },
  {
   "cell_type": "code",
   "execution_count": null,
   "id": "7f0c07dc-e071-4390-8a05-8705bb554711",
   "metadata": {
    "tags": []
   },
   "outputs": [],
   "source": [
    "print(CRPS_OG.shape,CRPS_MBM_1.shape,CRPS_TF_1.shape)\n",
    "\n",
    "Leadtimes=obs.step.values[-5:]\n",
    "#matplotlib.rcParams['text.usetex'] = False\n",
    "plt.figure(figsize=(11, 9))\n",
    "plt.plot(Leadtimes, CRPS_OG[-5:], color='red', marker='o', label='Original')\n",
    "plt.plot(Leadtimes, CRPS_TF_1[-5:], color='green', marker='d' ,alpha=1,label='Postprocessed,Transformer 18 pred')\n",
    "plt.plot(Leadtimes, CRPS_MBM_1[-5:], color='blue', marker='*',alpha=1, label='Postprocessed, Classical MBM 1 pred')\n",
    "\n",
    "\n",
    "# Set title and labels\n",
    "plt.title('Ensemble CRPS per lead time (solar radiation)', fontsize=22)\n",
    "plt.xlabel('Fifth day forecast lead time [hours]', fontsize=18)\n",
    "plt.ylabel('CRPS [J/m$^2$]', fontsize=18)\n",
    "\n",
    "# Set y-axis limits and x-axis ticks\n",
    "#plt.xlim(0,123)\n",
    "#plt.ylim(5000,1000000)\n",
    "\n",
    "# Set tick label size and show legend\n",
    "plt.tick_params(axis='both', labelsize=12)\n",
    "plt.legend(fontsize=12)\n",
    "\n",
    "# Adjust layout and show the plot\n",
    "plt.tight_layout()\n",
    "#plt.savefig(\"CRPS_leadtime_all.png\")\n",
    "plt.show()"
   ]
  },
  {
   "cell_type": "code",
   "execution_count": null,
   "id": "be195b0b-3d51-4e2f-922b-4ad6e2501496",
   "metadata": {
    "tags": []
   },
   "outputs": [],
   "source": [
    "print(CRPS_TF_1.shape)"
   ]
  },
  {
   "cell_type": "code",
   "execution_count": null,
   "id": "9a3997e3-5fb1-4d5d-ab3d-4e61736ab905",
   "metadata": {
    "tags": []
   },
   "outputs": [],
   "source": [
    "#Example of an ensemble\n",
    "np.random.seed(156)  # For reproducibility #156\n",
    "random_time = np.random.randint(0, Tformer_one.sizes[\"time\"])\n",
    "random_lat = np.random.randint(0, Tformer_one.sizes[\"latitude\"])\n",
    "random_lon = np.random.randint(0, Tformer_one.sizes[\"longitude\"])\n",
    "    \n",
    "# Extract data for all 11 ensemble members at the chosen location\n",
    "TF = Tformer_one[:, random_time, :, random_lat, random_lon]  # Shape: (11, step)\n",
    "MBM = MBM_one[:, random_time, :, random_lat, random_lon]  # Shape: (11, step)\n",
    "OBS = obs[random_time, :, random_lat, random_lon] \n",
    "RAW = Raw[:, random_time, :, random_lat, random_lon]  # Shape: (11, step)\n",
    "# Plot all ensemble members as a function of step\n",
    "plt.figure(figsize=(14, 9))\n",
    "for member in range(11):\n",
    "    plt.plot(obs.step.values,MBM[member, :] ,color='black',alpha=0.3, linewidth=0.5)\n",
    "    plt.plot(obs.step.values, TF[member, :],color='blue',alpha=0.3, linewidth=0.5)\n",
    "plt.plot(obs.step.values,np.mean(MBM,axis=0) ,color='black',alpha=0.8,linewidth=0.8,label=\"Postprocessed, Classical MBM\")\n",
    "plt.plot(obs.step.values, np.mean(TF,axis=0),color='blue',alpha=0.8,linewidth=0.8,label=\"Postprocessed, Transformer\")\n",
    "plt.plot(obs.step.values, np.mean(RAW,axis=0), color='green',linewidth=1.2,marker='o', markersize=5,alpha=1,label=\"Raw Forecasts\")\n",
    "\n",
    "\n",
    "# Formatting the plot\n",
    "plt.xticks([ 24, 48, 72, 96, 120], [ 1, 2, 3, 4, 5])\n",
    "plt.xlabel(\"Timestep, [days] \")\n",
    "plt.ylabel(\"solar radiation, [J/m$^2$]\")\n",
    "plt.title(\"Ensemble forecast of solar radiation, randomly selected day\",fontsize=\"18\")\n",
    "plt.legend(loc=\"upper right\", fontsize=12, ncol=2)\n",
    "plt.grid(True)\n",
    "plt.show()"
   ]
  },
  {
   "cell_type": "code",
   "execution_count": null,
   "id": "d0ebcf83-7b88-4942-b002-14cfbd0f2a7c",
   "metadata": {
    "tags": []
   },
   "outputs": [],
   "source": [
    "print(\"Eerste stap:\", obs.step.values[3])"
   ]
  },
  {
   "cell_type": "code",
   "execution_count": null,
   "id": "5a95500a-263f-4348-a34c-15c17e47766b",
   "metadata": {
    "tags": []
   },
   "outputs": [],
   "source": [
    "#Example of an ensemble\n",
    "np.random.seed(156)  # For reproducibility #156\n",
    "random_time = np.random.randint(0, Tformer_one.sizes[\"time\"])\n",
    "random_lat = np.random.randint(0, Tformer_one.sizes[\"latitude\"])\n",
    "random_lon = np.random.randint(0, Tformer_one.sizes[\"longitude\"])\n",
    "#random_step = np.random.randint(2, obs.sizes[\"step\"])\n",
    "random_step = slice(-4, None)  # eerste 6 tijdstappen\n",
    "\n",
    "# Extract data for all 11 ensemble members at the chosen location\n",
    "TF = Tformer_one[:, random_time, random_step, random_lat, random_lon]  # Shape: (11, step)\n",
    "MBM = MBM_one[:, random_time, random_step, random_lat, random_lon]  # Shape: (11, step)\n",
    "OBS = obs[random_time, random_step, random_lat, random_lon] \n",
    "RAW = Raw[:, random_time, random_step, random_lat, random_lon]  # Shape: (11, step)\n",
    "# Plot all ensemble members as a function of step\n",
    "plt.figure(figsize=(14, 9))\n",
    "x = obs.step.values[-4:]  # de eerste 6 tijdstappen\n",
    "\n",
    "plt.plot(x, np.mean(MBM,axis=0), color='black',alpha=0.8,marker='o',linewidth=0.8,label=\"Postprocessed, Classical MBM\")\n",
    "plt.plot(x, np.mean(TF,axis=0), color='blue',alpha=0.8,marker='o',linewidth=0.8,label=\"Postprocessed, Transformer\")\n",
    "plt.plot(x, np.mean(RAW,axis=0), color='green',linewidth=1.2,marker='o', markersize=5,alpha=1,label=\"Raw Forecasts\")\n",
    "plt.plot(x, OBS, color='red', linewidth=1.2, marker='o', markersize=5,alpha=1,label=\"OBS Forecasts\")\n",
    "\n",
    "# Formatting the plot\n",
    "plt.xlabel(\"5 day , [hours] \")\n",
    "plt.ylabel(\"solar radiation, [J/m$^2$]\")\n",
    "plt.title(\"Ensemble forecast of solar radiation, randomly selected day\",fontsize=\"18\")\n",
    "plt.legend(loc=\"upper right\", fontsize=12, ncol=2)\n",
    "plt.grid(True)\n",
    "plt.show()"
   ]
  },
  {
   "cell_type": "code",
   "execution_count": null,
   "id": "2f03300d-5dec-410e-aee8-10529c94c1aa",
   "metadata": {
    "tags": []
   },
   "outputs": [],
   "source": [
    "import numpy as np\n",
    "import matplotlib.pyplot as plt\n",
    "\n",
    "# Load CRPS arrays\n",
    "CRPS_TF_1 = np.load(\"/home/jupyter-ayoub/results/CRPS/ssrd6_18extra/leads/Tformer_one_fair_crps.npy\")\n",
    "CRPS_MBM_1 = np.load(\"/home/jupyter-ayoub/results/CRPS/ssrd6_18extra/leads/MBM_one_fair_crps.npy\")\n",
    "CRPS_OG = np.load(\"/home/jupyter-ayoub/results/CRPS/ssrd6_18extra/leads/Raw_fair_crps.npy\")\n",
    "\n",
    "# Check shape\n",
    "print(\"TF shape:\", CRPS_TF_1.shape)\n",
    "print(\"MBM shape:\", CRPS_MBM_1.shape)\n",
    "print(\"OG shape:\", CRPS_OG.shape)\n",
    "\n",
    "# Zorg dat we shape hebben van (samples, leadtimes) → dan nemen we mean over samples\n",
    "def get_leadtime_mean(crps_array):\n",
    "    if crps_array.ndim == 2:\n",
    "        # (samples, leadtimes) of (leadtimes, samples)\n",
    "        if crps_array.shape[0] < crps_array.shape[1]:\n",
    "            return crps_array.mean(axis=0)  # (samples, leadtimes)\n",
    "        else:\n",
    "            return crps_array.mean(axis=1)  # (leadtimes, samples)\n",
    "    elif crps_array.ndim == 3:\n",
    "        return crps_array.mean(axis=(1,2))  # (leadtimes, lat, lon)\n",
    "    elif crps_array.ndim == 1:\n",
    "        return crps_array  # enkel 1 lead time, al geaggregeerd\n",
    "    else:\n",
    "        raise ValueError(\"Onverwachte CRPS shape.\")\n",
    "\n",
    "mean_crps_tf = get_leadtime_mean(CRPS_TF_1)\n",
    "mean_crps_mbm = get_leadtime_mean(CRPS_MBM_1)\n",
    "mean_crps_og = get_leadtime_mean(CRPS_OG)\n",
    "\n",
    "# Plot alle leadtimes\n",
    "lead_times = obs.step.values\n",
    "plt.figure(figsize=(10, 6))\n",
    "plt.plot(lead_times, mean_crps_og, label='Raw Forecast (OG)')\n",
    "plt.plot(lead_times, mean_crps_mbm, label='MBM')\n",
    "plt.plot(lead_times, mean_crps_tf, label='Transformer')\n",
    "plt.xlabel(\"Lead time, days\")\n",
    "plt.ylabel(\"Mean CRPS, [J/m$^2$]\")\n",
    "plt.title(\"Mean CRPS per Lead Time\")\n",
    "plt.grid(True)\n",
    "plt.legend()\n",
    "plt.tight_layout()\n",
    "plt.show()\n",
    "\n"
   ]
  },
  {
   "cell_type": "code",
   "execution_count": null,
   "id": "17fc6c28-a539-43e5-8c66-0522852125a4",
   "metadata": {
    "tags": []
   },
   "outputs": [],
   "source": [
    "import matplotlib.pyplot as plt\n",
    "import cartopy.crs as ccrs\n",
    "import cartopy.feature as cfeature\n",
    "import numpy as np\n",
    "\n",
    "lons = obs.longitude.values  # of .lon\n",
    "lats = obs.latitude.values\n",
    "\n",
    "CRPS_TF_1 = np.load(\"/home/jupyter-ayoub/results/CRPS/ssrd6_18extra/Tformer_one_fair_crps.npy\")\n",
    "#CRPS_MBM_1 = np.load(\"/home/jupyter-ayoub/results/CRPS/MBM_one_fair_crps.npy\")\n",
    "CRPS_OG=np.load(\"/home/jupyter-ayoub/results/CRPS/ssrd6_18extra/Raw_fair_crps.npy\")\n",
    "# Data voorbereiden\n",
    "print(CRPS_TF_1.shape)\n",
    "diff = CRPS_OG - CRPS_TF_1\n",
    "\n",
    "# Coördinaten grid voor contourplot\n",
    "lon2d, lat2d = np.meshgrid(lons, lats)\n",
    "\n",
    "# Plotfiguur\n",
    "fig, ax = plt.subplots(figsize=(5, 4), subplot_kw={'projection': ccrs.PlateCarree()})\n",
    "ax.set_extent([2.5, 10.5, 45.75, 53.5], crs=ccrs.PlateCarree())\n",
    "\n",
    "# Geografische lagen\n",
    "ax.add_feature(cfeature.BORDERS.with_scale(\"10m\"), linewidth=0.6)\n",
    "ax.add_feature(cfeature.COASTLINE.with_scale(\"10m\"), linewidth=0.6)\n",
    "\n",
    "# Contourplot met nette levels\n",
    "#levels = np.linspace(-10000, 56000, 18)\n",
    "levels = np.array([-10000, 0, 10000,20000, 30000,40000, 50000,60000, 70000,80000, 90000])\n",
    "cf = ax.contourf(lon2d, lat2d, diff,\n",
    "                 transform=ccrs.PlateCarree(),cmap='Blues')\n",
    "\n",
    "# Nette colorbar met LaTeX label\n",
    "cbar = fig.colorbar(cf, ax=ax, orientation='vertical', pad=0.02, shrink=0.9, aspect=20)\n",
    "cbar.set_label(r'CRPS [J/m$^2$]', fontsize=10)\n",
    "cbar.ax.tick_params(labelsize=9)\n",
    "\n",
    "# Gridlines\n",
    "gl = ax.gridlines(draw_labels=True, linewidth=0.3, color='gray', alpha=0.5)\n",
    "gl.top_labels = False\n",
    "gl.right_labels = False\n",
    "\n",
    "# Geen titel in het plot zelf\n",
    "ax.set_title(\"\")\n",
    "\n",
    "# Ondertitel buiten plot\n",
    "plt.figtext(0.5, -0.08, r\"(a) Raw - Transformer\", fontsize=12, ha='center')\n",
    "\n",
    "plt.tight_layout()\n",
    "plt.show()"
   ]
  },
  {
   "cell_type": "code",
   "execution_count": null,
   "id": "c4db943d-6613-4786-9093-fcd7b6855b78",
   "metadata": {
    "tags": []
   },
   "outputs": [],
   "source": [
    "CRPS_TF_1 = np.load(\"/home/jupyter-ayoub/results/CRPS/ssrd6_18/Tformer_one_fair_crps.npy\")\n",
    "print(CRPS_TF_1)\n",
    "print(\"next\")\n",
    "CRPS_MBM_1 = np.load(\"/home/jupyter-ayoub/results/CRPS/ssrd6_18/MBM_one_fair_crps.npy\")\n",
    "print(CRPS_MBM_1)"
   ]
  },
  {
   "cell_type": "code",
   "execution_count": null,
   "id": "46a238c9-680e-48e1-a1bc-b23ab545bb5c",
   "metadata": {
    "tags": []
   },
   "outputs": [],
   "source": [
    "##### import matplotlib.pyplot as plt\n",
    "import cartopy.crs as ccrs\n",
    "import cartopy.feature as cfeature\n",
    "import numpy as np\n",
    "from matplotlib.colors import TwoSlopeNorm\n",
    "\n",
    "lons = obs.longitude.values  # of .lon\n",
    "lats = obs.latitude.values\n",
    "\n",
    "CRPS_TF_1 = np.load(\"/home/jupyter-ayoub/results/CRPS/ssrd6_18/Tformer_one_fair_crps.npy\")\n",
    "CRPS_MBM_1 = np.load(\"/home/jupyter-ayoub/results/CRPS/ssrd6_18/MBM_one_fair_crps.npy\")\n",
    "#CRPS_OG=np.load(\"/home/jupyter-ayoub/results/CRPS/w100/Raw_fair_crps.npy\")\n",
    "# Data voorbereidenS\n",
    "diff =  CRPS_MBM_1 - CRPS_TF_1\n",
    "\n",
    "# Coördinaten grid voor contourplot\n",
    "lon2d, lat2d = np.meshgrid(lons, lats)\n",
    "\n",
    "# Plotfiguur\n",
    "fig, ax = plt.subplots(figsize=(5, 4), subplot_kw={'projection': ccrs.PlateCarree()})\n",
    "ax.set_extent([2.5, 10.5, 45.75, 53.5], crs=ccrs.PlateCarree())\n",
    "\n",
    "# Geografische lagen\n",
    "ax.add_feature(cfeature.BORDERS.with_scale(\"10m\"), linewidth=0.6)\n",
    "ax.add_feature(cfeature.COASTLINE.with_scale(\"10m\"), linewidth=0.6)\n",
    "\n",
    "# Contourplot met nette levels\n",
    "#levels = np.linspace(0, 0.27, 10)\n",
    "norm = TwoSlopeNorm(vmin=-0.15, vcenter=0.0, vmax=0.075)\n",
    "levels = np.array([10000, 20000, 30000, 40000, 50000, 60000, \n",
    "                   70000, 80000, 90000, 100000])\n",
    "cf = ax.contourf(lon2d, lat2d, diff,levels=levels, cmap='Blues',transform=ccrs.PlateCarree())\n",
    "\n",
    "# Nette colorbar met LaTeX label\n",
    "cbar = fig.colorbar(cf, ax=ax, orientation='vertical', pad=0.02, shrink=0.9, aspect=20)\n",
    "cbar.set_label(r'CRPS [J/m$^2$]', fontsize=10)\n",
    "cbar.ax.tick_params(labelsize=9)\n",
    "\n",
    "# Gridlines\n",
    "gl = ax.gridlines(draw_labels=True, linewidth=0.3, color='gray', alpha=0.5)\n",
    "gl.top_labels = False\n",
    "gl.right_labels = False\n",
    "\n",
    "# Geen titel in het plot zelf\n",
    "ax.set_title(\"\")\n",
    "\n",
    "# Ondertitel buiten plot\n",
    "plt.figtext(0.5, -0.08, r\"(b) Classical MBM - Transformer\", fontsize=12, ha='center')\n",
    "\n",
    "plt.tight_layout()\n",
    "plt.show()"
   ]
  },
  {
   "cell_type": "code",
   "execution_count": null,
   "id": "4346c2ae-8cb4-470c-9162-7032ded1f90c",
   "metadata": {
    "tags": []
   },
   "outputs": [],
   "source": [
    "##### import matplotlib.pyplot as plt\n",
    "import cartopy.crs as ccrs\n",
    "import cartopy.feature as cfeature\n",
    "import numpy as np\n",
    "from matplotlib.colors import TwoSlopeNorm\n",
    "\n",
    "lons = obs.longitude.values  # of .lon\n",
    "lats = obs.latitude.values\n",
    "\n",
    "CRPS_TF_1 = np.load(\"/home/jupyter-ayoub/results/CRPS/ssrd6_18/Tformer_one_fair_crps.npy\")\n",
    "CRPS_MBM_1 = np.load(\"/home/jupyter-ayoub/results/CRPS/ssrd6_18/MBM_one_fair_crps.npy\")\n",
    "#CRPS_OG=np.load(\"/home/jupyter-ayoub/results/CRPS/ssrd6_18/Raw_fair_crps.npy\")\n",
    "# Data voorbereidenS\n",
    "diff =  CRPS_OG - CRPS_MBM_1\n",
    "\n",
    "# Coördinaten grid voor contourplot\n",
    "lon2d, lat2d = np.meshgrid(lons, lats)\n",
    "\n",
    "# Plotfiguur\n",
    "fig, ax = plt.subplots(figsize=(5, 4), subplot_kw={'projection': ccrs.PlateCarree()})\n",
    "ax.set_extent([2.5, 10.5, 45.75, 53.5], crs=ccrs.PlateCarree())\n",
    "\n",
    "# Geografische lagen\n",
    "ax.add_feature(cfeature.BORDERS.with_scale(\"10m\"), linewidth=0.6)\n",
    "ax.add_feature(cfeature.COASTLINE.with_scale(\"10m\"), linewidth=0.6)\n",
    "\n",
    "# Contourplot met nette levels\n",
    "#levels = np.linspace(0, 0.27, 10)\n",
    "norm = TwoSlopeNorm(vmin=-0.15, vcenter=0.0, vmax=0.075)\n",
    "levels = np.array([10000, 20000, 30000, 40000, 50000, 60000, \n",
    "                   70000, 80000, 90000, 100000])\n",
    "cf = ax.contourf(lon2d, lat2d, diff, cmap='Blues',transform=ccrs.PlateCarree())\n",
    "\n",
    "# Nette colorbar met LaTeX label\n",
    "cbar = fig.colorbar(cf, ax=ax, orientation='vertical', pad=0.02, shrink=0.9, aspect=20)\n",
    "cbar.set_label(r'CRPS [J/m$^2$]', fontsize=10)\n",
    "cbar.ax.tick_params(labelsize=9)\n",
    "\n",
    "# Gridlines\n",
    "gl = ax.gridlines(draw_labels=True, linewidth=0.3, color='gray', alpha=0.5)\n",
    "gl.top_labels = False\n",
    "gl.right_labels = False\n",
    "\n",
    "# Geen titel in het plot zelf\n",
    "ax.set_title(\"\")\n",
    "\n",
    "# Ondertitel buiten plot\n",
    "plt.figtext(0.5, -0.08, r\"(c) RAW - Classical MBM\", fontsize=12, ha='center')\n",
    "\n",
    "plt.tight_layout()\n",
    "plt.show()"
   ]
  },
  {
   "cell_type": "code",
   "execution_count": null,
   "id": "a3b18f42-bb4e-4a1f-8dce-04cf6a36c49c",
   "metadata": {},
   "outputs": [],
   "source": [
    "ranks_raw = Raw     # shape: (n_points,)\n",
    "ranks_mbm = MBM_one\n",
    "ranks_tf = Tformer_one\n",
    "\n",
    "print(ranks_raw.shape)\n",
    "print(ranks_mbm.shape)\n",
    "print(ranks_tf.shape)\n",
    "bins = np.arange(13) - 0.5  # voor 12-rank histogram\n",
    "\n",
    "plt.figure(figsize=(6, 4))\n",
    "plt.hist(ranks_raw, bins=bins, alpha=0.6, label=\"Raw\", color=\"red\", density=True)\n",
    "plt.hist(ranks_mbm, bins=bins, alpha=0.6, label=\"Postprocessed, classical MBM\", color=\"black\", density=True)\n",
    "plt.hist(ranks_tf, bins=bins, alpha=0.6, label=\"Postprocessed, Transformer\", color=\"blue\", density=True)\n",
    "plt.xlabel(\"Rank of observed value\")\n",
    "plt.ylabel(\"Relative frequency\")\n",
    "plt.xticks(np.arange(12))\n",
    "plt.title(\"(f) Rank histogram\")\n",
    "plt.legend()\n",
    "plt.grid(True)\n",
    "plt.tight_layout()\n",
    "plt.show()\n"
   ]
  },
  {
   "cell_type": "code",
   "execution_count": null,
   "id": "c03087b8-edb1-4af0-924c-66798a8399b7",
   "metadata": {
    "tags": []
   },
   "outputs": [],
   "source": [
    "# Gemiddelde nemen over lat/lon → shape wordt (11, 209, 20)\n",
    "ranks_raw = Raw.mean(dim=[\"latitude\", \"longitude\"]).values   # or use .isel if needed\n",
    "ranks_mbm = MBM_one.mean(dim=[\"latitude\", \"longitude\"]).values\n",
    "ranks_tf = Tformer_one.mean(dim=[\"latitude\", \"longitude\"]).values\n",
    "\n",
    "# Kies 1 ensemble lid (of het gemiddelde): shape (209, 20)\n",
    "ranks_raw = ranks_raw[0]   # bijv. lid 0\n",
    "ranks_mbm = ranks_mbm[0]\n",
    "ranks_tf = ranks_tf[0]\n",
    "\n",
    "# Flatten naar 1D (zoals vereist door plt.hist)\n",
    "ranks_raw = ranks_raw.flatten()\n",
    "ranks_mbm = ranks_mbm.flatten()\n",
    "ranks_tf = ranks_tf.flatten()\n",
    "\n",
    "# Plot histogram\n",
    "bins = np.arange(13) - 0.5  # 12 ranks → bins van -0.5 tot 11.5\n",
    "\n",
    "plt.figure(figsize=(6, 4))\n",
    "plt.hist(ranks_raw, bins=bins, alpha=0.6, label=\"Raw\", color=\"red\", density=True)\n",
    "plt.hist(ranks_mbm, bins=bins, alpha=0.6, label=\"Postprocessed, classical MBM\", color=\"black\", density=True)\n",
    "plt.hist(ranks_tf, bins=bins, alpha=0.6, label=\"Postprocessed, Transformer\", color=\"blue\", density=True)\n",
    "\n",
    "plt.xlabel(\"Rank of observed value\")\n",
    "plt.ylabel(\"Relative frequency\")\n",
    "plt.xticks(np.arange(12))\n",
    "plt.title(\"(f) Rank histogram\")\n",
    "plt.legend()\n",
    "plt.grid(True)\n",
    "plt.tight_layout()\n",
    "plt.show()\n"
   ]
  },
  {
   "cell_type": "code",
   "execution_count": null,
   "id": "170f1dfe-eb4c-42e1-8a85-710745b324cc",
   "metadata": {},
   "outputs": [],
   "source": []
  }
 ],
 "metadata": {
  "kernelspec": {
   "display_name": "Python 3 (ipykernel)",
   "language": "python",
   "name": "python3"
  },
  "language_info": {
   "codemirror_mode": {
    "name": "ipython",
    "version": 3
   },
   "file_extension": ".py",
   "mimetype": "text/x-python",
   "name": "python",
   "nbconvert_exporter": "python",
   "pygments_lexer": "ipython3",
   "version": "3.10.10"
  }
 },
 "nbformat": 4,
 "nbformat_minor": 5
}
