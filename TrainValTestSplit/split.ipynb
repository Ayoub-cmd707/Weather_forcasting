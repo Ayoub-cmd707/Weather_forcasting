{
 "cells": [
  {
   "cell_type": "code",
   "execution_count": 1,
   "id": "362afd88-d65d-435b-8a87-5e397aa8ee4b",
   "metadata": {
    "tags": []
   },
   "outputs": [],
   "source": [
    "import glob \n",
    "import pickle "
   ]
  },
  {
   "cell_type": "code",
   "execution_count": 2,
   "id": "4193b3fc-99e7-4ecc-a6a5-70a80c7da19a",
   "metadata": {
    "tags": []
   },
   "outputs": [],
   "source": [
    "eupp_files = glob.glob(\"/home/jupyter-ayoub/data/EUPP/output.sfc.*.nc\")\n",
    "era5_files = glob.glob(\"/home/jupyter-ayoub/data/ERA5/era.sfc.*.nc\")"
   ]
  },
  {
   "cell_type": "code",
   "execution_count": 3,
   "id": "43efd6f7-38e2-46a8-a3e8-d7e8a83a0987",
   "metadata": {
    "tags": []
   },
   "outputs": [],
   "source": [
    "file_pairs = {}"
   ]
  },
  {
   "cell_type": "code",
   "execution_count": null,
   "id": "91fbf6ea-deb4-4c3f-934b-6bc1678427b1",
   "metadata": {
    "tags": []
   },
   "outputs": [],
   "source": [
    "parts = eupp_files.split('.')\n",
    "parts"
   ]
  },
  {
   "cell_type": "code",
   "execution_count": null,
   "id": "40149681-969a-465c-964d-b84be14801df",
   "metadata": {
    "tags": []
   },
   "outputs": [],
   "source": [
    "i_number = int(parts[-3]) \n",
    "i_number"
   ]
  },
  {
   "cell_type": "code",
   "execution_count": null,
   "id": "ecd4066e-2853-4ea0-8d5c-bf09d80fec45",
   "metadata": {
    "tags": []
   },
   "outputs": [],
   "source": [
    "date_part = parts[-2]\n",
    "date_part"
   ]
  },
  {
   "cell_type": "code",
   "execution_count": 4,
   "id": "2da877b2-28fa-4121-8050-bb2470a53a1b",
   "metadata": {
    "tags": []
   },
   "outputs": [],
   "source": [
    "for eupp_file in eupp_files:\n",
    "    parts = eupp_file.split('.')\n",
    "    i_number = int(parts[-3]) \n",
    "    date_part = parts[-2]\n",
    "    file_pairs.setdefault((i_number, date_part), []).append(eupp_file)"
   ]
  },
  {
   "cell_type": "code",
   "execution_count": 5,
   "id": "5ae5d5ba-a86f-4f2c-bcff-0248d822171c",
   "metadata": {
    "tags": []
   },
   "outputs": [],
   "source": [
    "for era5_file in era5_files:\n",
    "    parts = era5_file.split('.')\n",
    "    i_number = int(parts[-3])  \n",
    "    date_part = parts[-2]\n",
    "    file_pairs.setdefault((i_number, date_part), []).append(era5_file)"
   ]
  },
  {
   "cell_type": "code",
   "execution_count": 6,
   "id": "ffb08df2-7449-4560-9fdc-02d47e65b145",
   "metadata": {
    "tags": []
   },
   "outputs": [],
   "source": [
    "file_keys_sorted = sorted(file_pairs.keys(), key=lambda x: (x[0], int(x[1])))"
   ]
  },
  {
   "cell_type": "code",
   "execution_count": 7,
   "id": "26de40c5-7ce0-4126-9713-1afd515699d9",
   "metadata": {},
   "outputs": [
    {
     "name": "stdout",
     "output_type": "stream",
     "text": [
      "Unieke i_numbers: [0, 1, 2]\n"
     ]
    }
   ],
   "source": [
    "i_numbers = set(i for i, _ in file_keys_sorted)\n",
    "print(\"Unieke i_numbers:\", sorted(i_numbers))"
   ]
  },
  {
   "cell_type": "code",
   "execution_count": 8,
   "id": "5deb860e-1946-4144-b68f-92181efdd61a",
   "metadata": {
    "tags": []
   },
   "outputs": [],
   "source": [
    "train_file_keys = [key for key in file_keys_sorted if key[0] == 0]\n",
    "val_file_keys = [key for key in file_keys_sorted if key[0] == 1]\n",
    "test_file_keys = [key for key in file_keys_sorted if key[0] == 2]"
   ]
  },
  {
   "cell_type": "code",
   "execution_count": 9,
   "id": "8aa0abc6-0b94-4c9f-aded-a68d0edbad0b",
   "metadata": {
    "tags": []
   },
   "outputs": [],
   "source": [
    "# Initialize file lists\n",
    "train_eupp_files, train_era5_files = [], []\n",
    "val_eupp_files, val_era5_files = [], []\n",
    "test_eupp_files, test_era5_files = [], []"
   ]
  },
  {
   "cell_type": "code",
   "execution_count": 10,
   "id": "b10f828d-0ebf-4b53-bd19-455d45c18c84",
   "metadata": {
    "tags": []
   },
   "outputs": [],
   "source": [
    "for key, files in file_pairs.items():\n",
    "    if len(files) != 2:\n",
    "        print(f\"⚠️ Key {key} heeft {len(files)} bestanden: {files}\")"
   ]
  },
  {
   "cell_type": "code",
   "execution_count": 11,
   "id": "d1d0844b-b8eb-4207-ab5e-0622292bc521",
   "metadata": {
    "tags": []
   },
   "outputs": [],
   "source": [
    "# Assign files to the respective lists\n",
    "def assign_files(keys, eupp_list, era5_list):\n",
    "    for key in keys:\n",
    "        for file_path in file_pairs[key]:\n",
    "            if 'output' in file_path:\n",
    "                eupp_list.append(file_path)\n",
    "            else:\n",
    "                era5_list.append(file_path)"
   ]
  },
  {
   "cell_type": "code",
   "execution_count": 13,
   "id": "ceffca43-6142-4cba-af69-9aba210750ef",
   "metadata": {
    "tags": []
   },
   "outputs": [],
   "source": [
    "assign_files(train_file_keys, train_eupp_files, train_era5_files)\n",
    "assign_files(val_file_keys, val_eupp_files, val_era5_files)\n",
    "assign_files(test_file_keys, test_eupp_files, test_era5_files)"
   ]
  },
  {
   "cell_type": "code",
   "execution_count": 14,
   "id": "f4b4d5e5-2f54-49a0-8629-5627ed0b77e0",
   "metadata": {
    "tags": []
   },
   "outputs": [
    {
     "name": "stdout",
     "output_type": "stream",
     "text": [
      "Train: 209 EUPP | 209 ERA5\n",
      "Val:   209 EUPP | 209 ERA5\n",
      "Test:  209 EUPP | 209 ERA5\n"
     ]
    }
   ],
   "source": [
    "print(f\"Train: {len(train_eupp_files)} EUPP | {len(train_era5_files)} ERA5\")\n",
    "print(f\"Val:   {len(val_eupp_files)} EUPP | {len(val_era5_files)} ERA5\")\n",
    "print(f\"Test:  {len(test_eupp_files)} EUPP | {len(test_era5_files)} ERA5\")"
   ]
  },
  {
   "cell_type": "code",
   "execution_count": 15,
   "id": "07895e44-b531-43e5-af36-f67915cc6db7",
   "metadata": {
    "tags": []
   },
   "outputs": [],
   "source": [
    "def save_pickle(file_list, filename):\n",
    "    with open(filename, 'wb') as f:\n",
    "        pickle.dump(file_list, f)"
   ]
  },
  {
   "cell_type": "code",
   "execution_count": 16,
   "id": "eb3b49c8-6397-4d7e-a9e4-53137fc5147b",
   "metadata": {
    "tags": []
   },
   "outputs": [],
   "source": [
    "save_pickle(train_eupp_files, \"train_eupp_files.pkl\")\n",
    "save_pickle(train_era5_files, \"train_era5_files.pkl\")\n",
    "save_pickle(val_eupp_files, \"val_eupp_files.pkl\")\n",
    "save_pickle(val_era5_files, \"val_era5_files.pkl\")\n",
    "save_pickle(test_eupp_files, \"test_eupp_files.pkl\")\n",
    "save_pickle(test_era5_files, \"test_era5_files.pkl\")"
   ]
  },
  {
   "cell_type": "code",
   "execution_count": null,
   "id": "9bc38497-20ff-41c7-bf43-3d00a9062c4c",
   "metadata": {},
   "outputs": [],
   "source": []
  }
 ],
 "metadata": {
  "kernelspec": {
   "display_name": "Python 3 (ipykernel)",
   "language": "python",
   "name": "python3"
  },
  "language_info": {
   "codemirror_mode": {
    "name": "ipython",
    "version": 3
   },
   "file_extension": ".py",
   "mimetype": "text/x-python",
   "name": "python",
   "nbconvert_exporter": "python",
   "pygments_lexer": "ipython3",
   "version": "3.10.10"
  }
 },
 "nbformat": 4,
 "nbformat_minor": 5
}
